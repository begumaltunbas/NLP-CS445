{
  "nbformat": 4,
  "nbformat_minor": 0,
  "metadata": {
    "colab": {
      "name": "445 Project 1 Notebook.ipynb",
      "provenance": [],
      "collapsed_sections": []
    },
    "kernelspec": {
      "name": "python3",
      "display_name": "Python 3"
    },
    "language_info": {
      "name": "python"
    }
  },
  "cells": [
    {
      "cell_type": "code",
      "source": [
        "# Run this cell to mount your drive to this notebook in order to read the datasets\n",
        "from google.colab import drive\n",
        "drive.mount('/content/drive')"
      ],
      "metadata": {
        "id": "PXQ2rNxf41HE",
        "colab": {
          "base_uri": "https://localhost:8080/"
        },
        "outputId": "b296760c-eeaf-412f-9b8b-48f9540f8c25"
      },
      "execution_count": 1,
      "outputs": [
        {
          "output_type": "stream",
          "name": "stdout",
          "text": [
            "Mounted at /content/drive\n"
          ]
        }
      ]
    },
    {
      "cell_type": "code",
      "execution_count": 2,
      "metadata": {
        "id": "9poIxsgG4uzb"
      },
      "outputs": [],
      "source": [
        "import pandas as pd\n",
        "import numpy as np\n",
        "\n",
        "import warnings\n",
        "warnings.filterwarnings(\"ignore\")"
      ]
    },
    {
      "cell_type": "markdown",
      "source": [
        "## Read Dataset"
      ],
      "metadata": {
        "id": "BWmM1YP7PD_J"
      }
    },
    {
      "cell_type": "code",
      "source": [
        "# Put the folder path where the datasets are located\n",
        "PATH = \"/content/drive/MyDrive/445/Project1_Datasets/\""
      ],
      "metadata": {
        "id": "cZ35nOeR43ys"
      },
      "execution_count": 3,
      "outputs": []
    },
    {
      "cell_type": "code",
      "source": [
        "# Read the train and test set with read_csv() method of pandas\n",
        "train = pd.read_csv(PATH + \"train.csv\")\n",
        "test = pd.read_csv(PATH + \"test.csv\")"
      ],
      "metadata": {
        "id": "x8buYRli5SjM"
      },
      "execution_count": 4,
      "outputs": []
    },
    {
      "cell_type": "code",
      "source": [
        "org_train=train.copy()\n",
        "org_test=test.copy()"
      ],
      "metadata": {
        "id": "4Jm-HhLZ-8G3"
      },
      "execution_count": 5,
      "outputs": []
    },
    {
      "cell_type": "code",
      "source": [
        "org_train.head(3)"
      ],
      "metadata": {
        "colab": {
          "base_uri": "https://localhost:8080/",
          "height": 140
        },
        "id": "r-9qsll7_Ka1",
        "outputId": "217b3346-2c3f-423b-ff99-0efc7178f0e8"
      },
      "execution_count": 6,
      "outputs": [
        {
          "output_type": "execute_result",
          "data": {
            "text/plain": [
              "   Unnamed: 0                                               text  label\n",
              "0           0  I came here and left a review before but last ...      1\n",
              "1           1  Had a very nice first visit here. The owner Te...      4\n",
              "2           2  This is a gorgeous and very clean hotel.  We h...      4"
            ],
            "text/html": [
              "\n",
              "  <div id=\"df-fbb55ccf-6160-4d22-952c-c3a7a7c04a66\">\n",
              "    <div class=\"colab-df-container\">\n",
              "      <div>\n",
              "<style scoped>\n",
              "    .dataframe tbody tr th:only-of-type {\n",
              "        vertical-align: middle;\n",
              "    }\n",
              "\n",
              "    .dataframe tbody tr th {\n",
              "        vertical-align: top;\n",
              "    }\n",
              "\n",
              "    .dataframe thead th {\n",
              "        text-align: right;\n",
              "    }\n",
              "</style>\n",
              "<table border=\"1\" class=\"dataframe\">\n",
              "  <thead>\n",
              "    <tr style=\"text-align: right;\">\n",
              "      <th></th>\n",
              "      <th>Unnamed: 0</th>\n",
              "      <th>text</th>\n",
              "      <th>label</th>\n",
              "    </tr>\n",
              "  </thead>\n",
              "  <tbody>\n",
              "    <tr>\n",
              "      <th>0</th>\n",
              "      <td>0</td>\n",
              "      <td>I came here and left a review before but last ...</td>\n",
              "      <td>1</td>\n",
              "    </tr>\n",
              "    <tr>\n",
              "      <th>1</th>\n",
              "      <td>1</td>\n",
              "      <td>Had a very nice first visit here. The owner Te...</td>\n",
              "      <td>4</td>\n",
              "    </tr>\n",
              "    <tr>\n",
              "      <th>2</th>\n",
              "      <td>2</td>\n",
              "      <td>This is a gorgeous and very clean hotel.  We h...</td>\n",
              "      <td>4</td>\n",
              "    </tr>\n",
              "  </tbody>\n",
              "</table>\n",
              "</div>\n",
              "      <button class=\"colab-df-convert\" onclick=\"convertToInteractive('df-fbb55ccf-6160-4d22-952c-c3a7a7c04a66')\"\n",
              "              title=\"Convert this dataframe to an interactive table.\"\n",
              "              style=\"display:none;\">\n",
              "        \n",
              "  <svg xmlns=\"http://www.w3.org/2000/svg\" height=\"24px\"viewBox=\"0 0 24 24\"\n",
              "       width=\"24px\">\n",
              "    <path d=\"M0 0h24v24H0V0z\" fill=\"none\"/>\n",
              "    <path d=\"M18.56 5.44l.94 2.06.94-2.06 2.06-.94-2.06-.94-.94-2.06-.94 2.06-2.06.94zm-11 1L8.5 8.5l.94-2.06 2.06-.94-2.06-.94L8.5 2.5l-.94 2.06-2.06.94zm10 10l.94 2.06.94-2.06 2.06-.94-2.06-.94-.94-2.06-.94 2.06-2.06.94z\"/><path d=\"M17.41 7.96l-1.37-1.37c-.4-.4-.92-.59-1.43-.59-.52 0-1.04.2-1.43.59L10.3 9.45l-7.72 7.72c-.78.78-.78 2.05 0 2.83L4 21.41c.39.39.9.59 1.41.59.51 0 1.02-.2 1.41-.59l7.78-7.78 2.81-2.81c.8-.78.8-2.07 0-2.86zM5.41 20L4 18.59l7.72-7.72 1.47 1.35L5.41 20z\"/>\n",
              "  </svg>\n",
              "      </button>\n",
              "      \n",
              "  <style>\n",
              "    .colab-df-container {\n",
              "      display:flex;\n",
              "      flex-wrap:wrap;\n",
              "      gap: 12px;\n",
              "    }\n",
              "\n",
              "    .colab-df-convert {\n",
              "      background-color: #E8F0FE;\n",
              "      border: none;\n",
              "      border-radius: 50%;\n",
              "      cursor: pointer;\n",
              "      display: none;\n",
              "      fill: #1967D2;\n",
              "      height: 32px;\n",
              "      padding: 0 0 0 0;\n",
              "      width: 32px;\n",
              "    }\n",
              "\n",
              "    .colab-df-convert:hover {\n",
              "      background-color: #E2EBFA;\n",
              "      box-shadow: 0px 1px 2px rgba(60, 64, 67, 0.3), 0px 1px 3px 1px rgba(60, 64, 67, 0.15);\n",
              "      fill: #174EA6;\n",
              "    }\n",
              "\n",
              "    [theme=dark] .colab-df-convert {\n",
              "      background-color: #3B4455;\n",
              "      fill: #D2E3FC;\n",
              "    }\n",
              "\n",
              "    [theme=dark] .colab-df-convert:hover {\n",
              "      background-color: #434B5C;\n",
              "      box-shadow: 0px 1px 3px 1px rgba(0, 0, 0, 0.15);\n",
              "      filter: drop-shadow(0px 1px 2px rgba(0, 0, 0, 0.3));\n",
              "      fill: #FFFFFF;\n",
              "    }\n",
              "  </style>\n",
              "\n",
              "      <script>\n",
              "        const buttonEl =\n",
              "          document.querySelector('#df-fbb55ccf-6160-4d22-952c-c3a7a7c04a66 button.colab-df-convert');\n",
              "        buttonEl.style.display =\n",
              "          google.colab.kernel.accessAllowed ? 'block' : 'none';\n",
              "\n",
              "        async function convertToInteractive(key) {\n",
              "          const element = document.querySelector('#df-fbb55ccf-6160-4d22-952c-c3a7a7c04a66');\n",
              "          const dataTable =\n",
              "            await google.colab.kernel.invokeFunction('convertToInteractive',\n",
              "                                                     [key], {});\n",
              "          if (!dataTable) return;\n",
              "\n",
              "          const docLinkHtml = 'Like what you see? Visit the ' +\n",
              "            '<a target=\"_blank\" href=https://colab.research.google.com/notebooks/data_table.ipynb>data table notebook</a>'\n",
              "            + ' to learn more about interactive tables.';\n",
              "          element.innerHTML = '';\n",
              "          dataTable['output_type'] = 'display_data';\n",
              "          await google.colab.output.renderOutput(dataTable, element);\n",
              "          const docLink = document.createElement('div');\n",
              "          docLink.innerHTML = docLinkHtml;\n",
              "          element.appendChild(docLink);\n",
              "        }\n",
              "      </script>\n",
              "    </div>\n",
              "  </div>\n",
              "  "
            ]
          },
          "metadata": {},
          "execution_count": 6
        }
      ]
    },
    {
      "cell_type": "markdown",
      "source": [
        "### Preprocess Dataset"
      ],
      "metadata": {
        "id": "csBleyqDPJM2"
      }
    },
    {
      "cell_type": "code",
      "source": [
        "import re\n",
        "import nltk\n",
        "nltk.download('stopwords')\n",
        "from nltk.corpus import stopwords\n",
        "from nltk.stem import PorterStemmer"
      ],
      "metadata": {
        "id": "hCgu4nbNubw4",
        "colab": {
          "base_uri": "https://localhost:8080/"
        },
        "outputId": "d2c605e5-e15a-486e-9082-f1a7838b4ec8"
      },
      "execution_count": 7,
      "outputs": [
        {
          "output_type": "stream",
          "name": "stdout",
          "text": [
            "[nltk_data] Downloading package stopwords to /root/nltk_data...\n",
            "[nltk_data]   Unzipping corpora/stopwords.zip.\n"
          ]
        }
      ]
    },
    {
      "cell_type": "code",
      "source": [
        "stop_list=stopwords.words(\"english\")"
      ],
      "metadata": {
        "id": "p6iqNEVh7iEn"
      },
      "execution_count": 8,
      "outputs": []
    },
    {
      "cell_type": "code",
      "source": [
        "from nltk.text import Text\n",
        "# Define a function to perform preprocessing. This function can perform things like lowercasing, stemming, removing stopwords, etc.\n",
        "from nltk import word_tokenize\n",
        "nltk.download('punkt')\n",
        "from nltk.tokenize import RegexpTokenizer #for removing punctuation \n",
        "\n",
        "def preprocess(text: str):\n",
        "   #lower\n",
        "    text=text.lower()\n",
        "    #tokenize\n",
        "    text=word_tokenize(text)\n",
        "    #remove stop words\n",
        "    text = [w for w in text if not w in stop_list]\n",
        "    #remove punctuations\n",
        "    tokenizer = RegexpTokenizer(r\"\\w+\")\n",
        "    text=tokenizer.tokenize(' '.join(text))\n",
        "    #stemming\n",
        "    stemmed=[]\n",
        "    for i in text: \n",
        "      word = PorterStemmer().stem(i)\n",
        "      stemmed.append(word)\n",
        "    \n",
        "    text = \" \".join(stemmed)\n",
        "    #text=stemmed\n",
        "    return text"
      ],
      "metadata": {
        "id": "OSiAj6atwZzi",
        "colab": {
          "base_uri": "https://localhost:8080/"
        },
        "outputId": "36bd39cb-f1ef-4dc1-822f-e111a5a672ef"
      },
      "execution_count": 9,
      "outputs": [
        {
          "output_type": "stream",
          "name": "stdout",
          "text": [
            "[nltk_data] Downloading package punkt to /root/nltk_data...\n",
            "[nltk_data]   Unzipping tokenizers/punkt.zip.\n"
          ]
        }
      ]
    },
    {
      "cell_type": "code",
      "source": [
        "preprocess(\"HEY HELLO FFFlies  dies my name is Connects','Connecting','Connections'\")"
      ],
      "metadata": {
        "colab": {
          "base_uri": "https://localhost:8080/",
          "height": 34
        },
        "id": "Sclqjmukz9js",
        "outputId": "df914196-2c68-4042-cc30-5387b378d9e8"
      },
      "execution_count": 10,
      "outputs": [
        {
          "output_type": "execute_result",
          "data": {
            "text/plain": [
              "'hey hello fffli die name connect connect connect'"
            ],
            "application/vnd.google.colaboratory.intrinsic+json": {
              "type": "string"
            }
          },
          "metadata": {},
          "execution_count": 10
        }
      ]
    },
    {
      "cell_type": "code",
      "source": [
        "# Apply your preprocessing function to your text fields.\n",
        "\n",
        "train.text = train.text.apply(preprocess)\n",
        "test.text = test.text.apply(preprocess)\n",
        "\n",
        "train.shape, test.shape"
      ],
      "metadata": {
        "id": "saAhAw_vyu9T",
        "colab": {
          "base_uri": "https://localhost:8080/"
        },
        "outputId": "a3a9116c-b642-4433-92ca-834d67f138f1"
      },
      "execution_count": 11,
      "outputs": [
        {
          "output_type": "execute_result",
          "data": {
            "text/plain": [
              "((18000, 3), (2000, 3))"
            ]
          },
          "metadata": {},
          "execution_count": 11
        }
      ]
    },
    {
      "cell_type": "code",
      "source": [
        "test.head(3)"
      ],
      "metadata": {
        "colab": {
          "base_uri": "https://localhost:8080/",
          "height": 140
        },
        "id": "w84WaDPI1Tqu",
        "outputId": "2a7cdea1-39d3-4bed-ab90-48999ae931cb"
      },
      "execution_count": 12,
      "outputs": [
        {
          "output_type": "execute_result",
          "data": {
            "text/plain": [
              "   Unnamed: 0                                               text  label\n",
              "0           0  stay weekend made stay pleasant locat great sp...      5\n",
              "1           1  forev call upon delici design whenev need tast...      5\n",
              "2           2  person order homicid boneless regular absolut ...      4"
            ],
            "text/html": [
              "\n",
              "  <div id=\"df-a699fa0a-a48d-48f7-8cf8-a456956de93c\">\n",
              "    <div class=\"colab-df-container\">\n",
              "      <div>\n",
              "<style scoped>\n",
              "    .dataframe tbody tr th:only-of-type {\n",
              "        vertical-align: middle;\n",
              "    }\n",
              "\n",
              "    .dataframe tbody tr th {\n",
              "        vertical-align: top;\n",
              "    }\n",
              "\n",
              "    .dataframe thead th {\n",
              "        text-align: right;\n",
              "    }\n",
              "</style>\n",
              "<table border=\"1\" class=\"dataframe\">\n",
              "  <thead>\n",
              "    <tr style=\"text-align: right;\">\n",
              "      <th></th>\n",
              "      <th>Unnamed: 0</th>\n",
              "      <th>text</th>\n",
              "      <th>label</th>\n",
              "    </tr>\n",
              "  </thead>\n",
              "  <tbody>\n",
              "    <tr>\n",
              "      <th>0</th>\n",
              "      <td>0</td>\n",
              "      <td>stay weekend made stay pleasant locat great sp...</td>\n",
              "      <td>5</td>\n",
              "    </tr>\n",
              "    <tr>\n",
              "      <th>1</th>\n",
              "      <td>1</td>\n",
              "      <td>forev call upon delici design whenev need tast...</td>\n",
              "      <td>5</td>\n",
              "    </tr>\n",
              "    <tr>\n",
              "      <th>2</th>\n",
              "      <td>2</td>\n",
              "      <td>person order homicid boneless regular absolut ...</td>\n",
              "      <td>4</td>\n",
              "    </tr>\n",
              "  </tbody>\n",
              "</table>\n",
              "</div>\n",
              "      <button class=\"colab-df-convert\" onclick=\"convertToInteractive('df-a699fa0a-a48d-48f7-8cf8-a456956de93c')\"\n",
              "              title=\"Convert this dataframe to an interactive table.\"\n",
              "              style=\"display:none;\">\n",
              "        \n",
              "  <svg xmlns=\"http://www.w3.org/2000/svg\" height=\"24px\"viewBox=\"0 0 24 24\"\n",
              "       width=\"24px\">\n",
              "    <path d=\"M0 0h24v24H0V0z\" fill=\"none\"/>\n",
              "    <path d=\"M18.56 5.44l.94 2.06.94-2.06 2.06-.94-2.06-.94-.94-2.06-.94 2.06-2.06.94zm-11 1L8.5 8.5l.94-2.06 2.06-.94-2.06-.94L8.5 2.5l-.94 2.06-2.06.94zm10 10l.94 2.06.94-2.06 2.06-.94-2.06-.94-.94-2.06-.94 2.06-2.06.94z\"/><path d=\"M17.41 7.96l-1.37-1.37c-.4-.4-.92-.59-1.43-.59-.52 0-1.04.2-1.43.59L10.3 9.45l-7.72 7.72c-.78.78-.78 2.05 0 2.83L4 21.41c.39.39.9.59 1.41.59.51 0 1.02-.2 1.41-.59l7.78-7.78 2.81-2.81c.8-.78.8-2.07 0-2.86zM5.41 20L4 18.59l7.72-7.72 1.47 1.35L5.41 20z\"/>\n",
              "  </svg>\n",
              "      </button>\n",
              "      \n",
              "  <style>\n",
              "    .colab-df-container {\n",
              "      display:flex;\n",
              "      flex-wrap:wrap;\n",
              "      gap: 12px;\n",
              "    }\n",
              "\n",
              "    .colab-df-convert {\n",
              "      background-color: #E8F0FE;\n",
              "      border: none;\n",
              "      border-radius: 50%;\n",
              "      cursor: pointer;\n",
              "      display: none;\n",
              "      fill: #1967D2;\n",
              "      height: 32px;\n",
              "      padding: 0 0 0 0;\n",
              "      width: 32px;\n",
              "    }\n",
              "\n",
              "    .colab-df-convert:hover {\n",
              "      background-color: #E2EBFA;\n",
              "      box-shadow: 0px 1px 2px rgba(60, 64, 67, 0.3), 0px 1px 3px 1px rgba(60, 64, 67, 0.15);\n",
              "      fill: #174EA6;\n",
              "    }\n",
              "\n",
              "    [theme=dark] .colab-df-convert {\n",
              "      background-color: #3B4455;\n",
              "      fill: #D2E3FC;\n",
              "    }\n",
              "\n",
              "    [theme=dark] .colab-df-convert:hover {\n",
              "      background-color: #434B5C;\n",
              "      box-shadow: 0px 1px 3px 1px rgba(0, 0, 0, 0.15);\n",
              "      filter: drop-shadow(0px 1px 2px rgba(0, 0, 0, 0.3));\n",
              "      fill: #FFFFFF;\n",
              "    }\n",
              "  </style>\n",
              "\n",
              "      <script>\n",
              "        const buttonEl =\n",
              "          document.querySelector('#df-a699fa0a-a48d-48f7-8cf8-a456956de93c button.colab-df-convert');\n",
              "        buttonEl.style.display =\n",
              "          google.colab.kernel.accessAllowed ? 'block' : 'none';\n",
              "\n",
              "        async function convertToInteractive(key) {\n",
              "          const element = document.querySelector('#df-a699fa0a-a48d-48f7-8cf8-a456956de93c');\n",
              "          const dataTable =\n",
              "            await google.colab.kernel.invokeFunction('convertToInteractive',\n",
              "                                                     [key], {});\n",
              "          if (!dataTable) return;\n",
              "\n",
              "          const docLinkHtml = 'Like what you see? Visit the ' +\n",
              "            '<a target=\"_blank\" href=https://colab.research.google.com/notebooks/data_table.ipynb>data table notebook</a>'\n",
              "            + ' to learn more about interactive tables.';\n",
              "          element.innerHTML = '';\n",
              "          dataTable['output_type'] = 'display_data';\n",
              "          await google.colab.output.renderOutput(dataTable, element);\n",
              "          const docLink = document.createElement('div');\n",
              "          docLink.innerHTML = docLinkHtml;\n",
              "          element.appendChild(docLink);\n",
              "        }\n",
              "      </script>\n",
              "    </div>\n",
              "  </div>\n",
              "  "
            ]
          },
          "metadata": {},
          "execution_count": 12
        }
      ]
    },
    {
      "cell_type": "code",
      "source": [
        "np.unique(train.label)"
      ],
      "metadata": {
        "colab": {
          "base_uri": "https://localhost:8080/"
        },
        "id": "N-SaE4MH0nVK",
        "outputId": "f8fd6814-afde-47ab-c14c-d5178675ffe1"
      },
      "execution_count": 13,
      "outputs": [
        {
          "output_type": "execute_result",
          "data": {
            "text/plain": [
              "array([1, 2, 3, 4, 5])"
            ]
          },
          "metadata": {},
          "execution_count": 13
        }
      ]
    },
    {
      "cell_type": "code",
      "source": [
        "# Create your binary and multiclass datasets\n",
        "\n",
        "# For binary dataset, get rid of the class 3 in the dataset and map class 1 and 2 to 0, and class 4 and 5 to 1\n",
        "bin_train = train[train.label != 3]\n",
        "binary_train=bin_train.copy()\n",
        "binary_train.label=bin_train.label.replace({1: 0, 2: 0 , 4:1, 5:1 }, inplace=False)\n",
        "\n",
        "bin_test = test[test.label != 3]\n",
        "binary_test=bin_test.copy()\n",
        "binary_test.label=bin_test.label.replace({1: 0, 2: 0 , 4:1, 5:1 }, inplace=False)\n",
        "\n",
        "# For multiclass dataset, make sure your classes starts from 0 and goes until 4. (5->4, 4->3, 3->2, 2->1, 1->0)\n",
        "multi_train=train.copy()\n",
        "multi_test=test.copy()\n",
        "multi_train.label=train.label.replace({1: 0, 2: 1 , 3:2, 4:3 ,5:4}, inplace=False)\n",
        "multi_test.label=test.label.replace({1: 0, 2: 1 , 3:2, 4:3 ,5:4}, inplace=False)"
      ],
      "metadata": {
        "id": "MJWiNm2ZrO8m"
      },
      "execution_count": 14,
      "outputs": []
    },
    {
      "cell_type": "code",
      "source": [
        "test.head()"
      ],
      "metadata": {
        "colab": {
          "base_uri": "https://localhost:8080/",
          "height": 201
        },
        "id": "fA-Zm3Zy4cHb",
        "outputId": "e5f795f3-36bd-40c2-ccfc-38dee8af3a73"
      },
      "execution_count": 15,
      "outputs": [
        {
          "output_type": "execute_result",
          "data": {
            "text/plain": [
              "   Unnamed: 0                                               text  label\n",
              "0           0  stay weekend made stay pleasant locat great sp...      5\n",
              "1           1  forev call upon delici design whenev need tast...      5\n",
              "2           2  person order homicid boneless regular absolut ...      4\n",
              "3           3  eat pretti much everytim go tarpon spring staf...      4\n",
              "4           4  ve 3 time never go want huge chang usual trim ...      3"
            ],
            "text/html": [
              "\n",
              "  <div id=\"df-b8855f3a-4183-4703-b9dd-1107af8d7721\">\n",
              "    <div class=\"colab-df-container\">\n",
              "      <div>\n",
              "<style scoped>\n",
              "    .dataframe tbody tr th:only-of-type {\n",
              "        vertical-align: middle;\n",
              "    }\n",
              "\n",
              "    .dataframe tbody tr th {\n",
              "        vertical-align: top;\n",
              "    }\n",
              "\n",
              "    .dataframe thead th {\n",
              "        text-align: right;\n",
              "    }\n",
              "</style>\n",
              "<table border=\"1\" class=\"dataframe\">\n",
              "  <thead>\n",
              "    <tr style=\"text-align: right;\">\n",
              "      <th></th>\n",
              "      <th>Unnamed: 0</th>\n",
              "      <th>text</th>\n",
              "      <th>label</th>\n",
              "    </tr>\n",
              "  </thead>\n",
              "  <tbody>\n",
              "    <tr>\n",
              "      <th>0</th>\n",
              "      <td>0</td>\n",
              "      <td>stay weekend made stay pleasant locat great sp...</td>\n",
              "      <td>5</td>\n",
              "    </tr>\n",
              "    <tr>\n",
              "      <th>1</th>\n",
              "      <td>1</td>\n",
              "      <td>forev call upon delici design whenev need tast...</td>\n",
              "      <td>5</td>\n",
              "    </tr>\n",
              "    <tr>\n",
              "      <th>2</th>\n",
              "      <td>2</td>\n",
              "      <td>person order homicid boneless regular absolut ...</td>\n",
              "      <td>4</td>\n",
              "    </tr>\n",
              "    <tr>\n",
              "      <th>3</th>\n",
              "      <td>3</td>\n",
              "      <td>eat pretti much everytim go tarpon spring staf...</td>\n",
              "      <td>4</td>\n",
              "    </tr>\n",
              "    <tr>\n",
              "      <th>4</th>\n",
              "      <td>4</td>\n",
              "      <td>ve 3 time never go want huge chang usual trim ...</td>\n",
              "      <td>3</td>\n",
              "    </tr>\n",
              "  </tbody>\n",
              "</table>\n",
              "</div>\n",
              "      <button class=\"colab-df-convert\" onclick=\"convertToInteractive('df-b8855f3a-4183-4703-b9dd-1107af8d7721')\"\n",
              "              title=\"Convert this dataframe to an interactive table.\"\n",
              "              style=\"display:none;\">\n",
              "        \n",
              "  <svg xmlns=\"http://www.w3.org/2000/svg\" height=\"24px\"viewBox=\"0 0 24 24\"\n",
              "       width=\"24px\">\n",
              "    <path d=\"M0 0h24v24H0V0z\" fill=\"none\"/>\n",
              "    <path d=\"M18.56 5.44l.94 2.06.94-2.06 2.06-.94-2.06-.94-.94-2.06-.94 2.06-2.06.94zm-11 1L8.5 8.5l.94-2.06 2.06-.94-2.06-.94L8.5 2.5l-.94 2.06-2.06.94zm10 10l.94 2.06.94-2.06 2.06-.94-2.06-.94-.94-2.06-.94 2.06-2.06.94z\"/><path d=\"M17.41 7.96l-1.37-1.37c-.4-.4-.92-.59-1.43-.59-.52 0-1.04.2-1.43.59L10.3 9.45l-7.72 7.72c-.78.78-.78 2.05 0 2.83L4 21.41c.39.39.9.59 1.41.59.51 0 1.02-.2 1.41-.59l7.78-7.78 2.81-2.81c.8-.78.8-2.07 0-2.86zM5.41 20L4 18.59l7.72-7.72 1.47 1.35L5.41 20z\"/>\n",
              "  </svg>\n",
              "      </button>\n",
              "      \n",
              "  <style>\n",
              "    .colab-df-container {\n",
              "      display:flex;\n",
              "      flex-wrap:wrap;\n",
              "      gap: 12px;\n",
              "    }\n",
              "\n",
              "    .colab-df-convert {\n",
              "      background-color: #E8F0FE;\n",
              "      border: none;\n",
              "      border-radius: 50%;\n",
              "      cursor: pointer;\n",
              "      display: none;\n",
              "      fill: #1967D2;\n",
              "      height: 32px;\n",
              "      padding: 0 0 0 0;\n",
              "      width: 32px;\n",
              "    }\n",
              "\n",
              "    .colab-df-convert:hover {\n",
              "      background-color: #E2EBFA;\n",
              "      box-shadow: 0px 1px 2px rgba(60, 64, 67, 0.3), 0px 1px 3px 1px rgba(60, 64, 67, 0.15);\n",
              "      fill: #174EA6;\n",
              "    }\n",
              "\n",
              "    [theme=dark] .colab-df-convert {\n",
              "      background-color: #3B4455;\n",
              "      fill: #D2E3FC;\n",
              "    }\n",
              "\n",
              "    [theme=dark] .colab-df-convert:hover {\n",
              "      background-color: #434B5C;\n",
              "      box-shadow: 0px 1px 3px 1px rgba(0, 0, 0, 0.15);\n",
              "      filter: drop-shadow(0px 1px 2px rgba(0, 0, 0, 0.3));\n",
              "      fill: #FFFFFF;\n",
              "    }\n",
              "  </style>\n",
              "\n",
              "      <script>\n",
              "        const buttonEl =\n",
              "          document.querySelector('#df-b8855f3a-4183-4703-b9dd-1107af8d7721 button.colab-df-convert');\n",
              "        buttonEl.style.display =\n",
              "          google.colab.kernel.accessAllowed ? 'block' : 'none';\n",
              "\n",
              "        async function convertToInteractive(key) {\n",
              "          const element = document.querySelector('#df-b8855f3a-4183-4703-b9dd-1107af8d7721');\n",
              "          const dataTable =\n",
              "            await google.colab.kernel.invokeFunction('convertToInteractive',\n",
              "                                                     [key], {});\n",
              "          if (!dataTable) return;\n",
              "\n",
              "          const docLinkHtml = 'Like what you see? Visit the ' +\n",
              "            '<a target=\"_blank\" href=https://colab.research.google.com/notebooks/data_table.ipynb>data table notebook</a>'\n",
              "            + ' to learn more about interactive tables.';\n",
              "          element.innerHTML = '';\n",
              "          dataTable['output_type'] = 'display_data';\n",
              "          await google.colab.output.renderOutput(dataTable, element);\n",
              "          const docLink = document.createElement('div');\n",
              "          docLink.innerHTML = docLinkHtml;\n",
              "          element.appendChild(docLink);\n",
              "        }\n",
              "      </script>\n",
              "    </div>\n",
              "  </div>\n",
              "  "
            ]
          },
          "metadata": {},
          "execution_count": 15
        }
      ]
    },
    {
      "cell_type": "code",
      "source": [
        "binary_train.head()"
      ],
      "metadata": {
        "colab": {
          "base_uri": "https://localhost:8080/",
          "height": 201
        },
        "id": "IN4Z32wW2SfK",
        "outputId": "d322e495-efe3-47ed-83da-4ad441d9f59c"
      },
      "execution_count": 16,
      "outputs": [
        {
          "output_type": "execute_result",
          "data": {
            "text/plain": [
              "   Unnamed: 0                                               text  label\n",
              "0           0  came left review last time n t get food poison...      0\n",
              "1           1  nice first visit owner ted friendli start rest...      1\n",
              "2           2  gorgeou clean hotel room west wing first chore...      1\n",
              "3           3  gym dirti given locker room total dirti manag ...      0\n",
              "4           4  food delici fast consist everi singl time gene...      1"
            ],
            "text/html": [
              "\n",
              "  <div id=\"df-236b1a64-5e53-4dcb-a990-0ce767953c04\">\n",
              "    <div class=\"colab-df-container\">\n",
              "      <div>\n",
              "<style scoped>\n",
              "    .dataframe tbody tr th:only-of-type {\n",
              "        vertical-align: middle;\n",
              "    }\n",
              "\n",
              "    .dataframe tbody tr th {\n",
              "        vertical-align: top;\n",
              "    }\n",
              "\n",
              "    .dataframe thead th {\n",
              "        text-align: right;\n",
              "    }\n",
              "</style>\n",
              "<table border=\"1\" class=\"dataframe\">\n",
              "  <thead>\n",
              "    <tr style=\"text-align: right;\">\n",
              "      <th></th>\n",
              "      <th>Unnamed: 0</th>\n",
              "      <th>text</th>\n",
              "      <th>label</th>\n",
              "    </tr>\n",
              "  </thead>\n",
              "  <tbody>\n",
              "    <tr>\n",
              "      <th>0</th>\n",
              "      <td>0</td>\n",
              "      <td>came left review last time n t get food poison...</td>\n",
              "      <td>0</td>\n",
              "    </tr>\n",
              "    <tr>\n",
              "      <th>1</th>\n",
              "      <td>1</td>\n",
              "      <td>nice first visit owner ted friendli start rest...</td>\n",
              "      <td>1</td>\n",
              "    </tr>\n",
              "    <tr>\n",
              "      <th>2</th>\n",
              "      <td>2</td>\n",
              "      <td>gorgeou clean hotel room west wing first chore...</td>\n",
              "      <td>1</td>\n",
              "    </tr>\n",
              "    <tr>\n",
              "      <th>3</th>\n",
              "      <td>3</td>\n",
              "      <td>gym dirti given locker room total dirti manag ...</td>\n",
              "      <td>0</td>\n",
              "    </tr>\n",
              "    <tr>\n",
              "      <th>4</th>\n",
              "      <td>4</td>\n",
              "      <td>food delici fast consist everi singl time gene...</td>\n",
              "      <td>1</td>\n",
              "    </tr>\n",
              "  </tbody>\n",
              "</table>\n",
              "</div>\n",
              "      <button class=\"colab-df-convert\" onclick=\"convertToInteractive('df-236b1a64-5e53-4dcb-a990-0ce767953c04')\"\n",
              "              title=\"Convert this dataframe to an interactive table.\"\n",
              "              style=\"display:none;\">\n",
              "        \n",
              "  <svg xmlns=\"http://www.w3.org/2000/svg\" height=\"24px\"viewBox=\"0 0 24 24\"\n",
              "       width=\"24px\">\n",
              "    <path d=\"M0 0h24v24H0V0z\" fill=\"none\"/>\n",
              "    <path d=\"M18.56 5.44l.94 2.06.94-2.06 2.06-.94-2.06-.94-.94-2.06-.94 2.06-2.06.94zm-11 1L8.5 8.5l.94-2.06 2.06-.94-2.06-.94L8.5 2.5l-.94 2.06-2.06.94zm10 10l.94 2.06.94-2.06 2.06-.94-2.06-.94-.94-2.06-.94 2.06-2.06.94z\"/><path d=\"M17.41 7.96l-1.37-1.37c-.4-.4-.92-.59-1.43-.59-.52 0-1.04.2-1.43.59L10.3 9.45l-7.72 7.72c-.78.78-.78 2.05 0 2.83L4 21.41c.39.39.9.59 1.41.59.51 0 1.02-.2 1.41-.59l7.78-7.78 2.81-2.81c.8-.78.8-2.07 0-2.86zM5.41 20L4 18.59l7.72-7.72 1.47 1.35L5.41 20z\"/>\n",
              "  </svg>\n",
              "      </button>\n",
              "      \n",
              "  <style>\n",
              "    .colab-df-container {\n",
              "      display:flex;\n",
              "      flex-wrap:wrap;\n",
              "      gap: 12px;\n",
              "    }\n",
              "\n",
              "    .colab-df-convert {\n",
              "      background-color: #E8F0FE;\n",
              "      border: none;\n",
              "      border-radius: 50%;\n",
              "      cursor: pointer;\n",
              "      display: none;\n",
              "      fill: #1967D2;\n",
              "      height: 32px;\n",
              "      padding: 0 0 0 0;\n",
              "      width: 32px;\n",
              "    }\n",
              "\n",
              "    .colab-df-convert:hover {\n",
              "      background-color: #E2EBFA;\n",
              "      box-shadow: 0px 1px 2px rgba(60, 64, 67, 0.3), 0px 1px 3px 1px rgba(60, 64, 67, 0.15);\n",
              "      fill: #174EA6;\n",
              "    }\n",
              "\n",
              "    [theme=dark] .colab-df-convert {\n",
              "      background-color: #3B4455;\n",
              "      fill: #D2E3FC;\n",
              "    }\n",
              "\n",
              "    [theme=dark] .colab-df-convert:hover {\n",
              "      background-color: #434B5C;\n",
              "      box-shadow: 0px 1px 3px 1px rgba(0, 0, 0, 0.15);\n",
              "      filter: drop-shadow(0px 1px 2px rgba(0, 0, 0, 0.3));\n",
              "      fill: #FFFFFF;\n",
              "    }\n",
              "  </style>\n",
              "\n",
              "      <script>\n",
              "        const buttonEl =\n",
              "          document.querySelector('#df-236b1a64-5e53-4dcb-a990-0ce767953c04 button.colab-df-convert');\n",
              "        buttonEl.style.display =\n",
              "          google.colab.kernel.accessAllowed ? 'block' : 'none';\n",
              "\n",
              "        async function convertToInteractive(key) {\n",
              "          const element = document.querySelector('#df-236b1a64-5e53-4dcb-a990-0ce767953c04');\n",
              "          const dataTable =\n",
              "            await google.colab.kernel.invokeFunction('convertToInteractive',\n",
              "                                                     [key], {});\n",
              "          if (!dataTable) return;\n",
              "\n",
              "          const docLinkHtml = 'Like what you see? Visit the ' +\n",
              "            '<a target=\"_blank\" href=https://colab.research.google.com/notebooks/data_table.ipynb>data table notebook</a>'\n",
              "            + ' to learn more about interactive tables.';\n",
              "          element.innerHTML = '';\n",
              "          dataTable['output_type'] = 'display_data';\n",
              "          await google.colab.output.renderOutput(dataTable, element);\n",
              "          const docLink = document.createElement('div');\n",
              "          docLink.innerHTML = docLinkHtml;\n",
              "          element.appendChild(docLink);\n",
              "        }\n",
              "      </script>\n",
              "    </div>\n",
              "  </div>\n",
              "  "
            ]
          },
          "metadata": {},
          "execution_count": 16
        }
      ]
    },
    {
      "cell_type": "code",
      "source": [
        "np.unique(binary_train.label)"
      ],
      "metadata": {
        "colab": {
          "base_uri": "https://localhost:8080/"
        },
        "id": "9rTTrSiZ2Hf9",
        "outputId": "908f289a-f5d6-43e2-d2bf-d82487e50ed8"
      },
      "execution_count": 17,
      "outputs": [
        {
          "output_type": "execute_result",
          "data": {
            "text/plain": [
              "array([0, 1])"
            ]
          },
          "metadata": {},
          "execution_count": 17
        }
      ]
    },
    {
      "cell_type": "code",
      "source": [
        "print(binary_train[\"label\"].value_counts())\n",
        "print(binary_test[\"label\"].value_counts())\n",
        "print(multi_train[\"label\"].value_counts())\n",
        "print(multi_test[\"label\"].value_counts())"
      ],
      "metadata": {
        "colab": {
          "base_uri": "https://localhost:8080/"
        },
        "id": "8C3TePhsIwrs",
        "outputId": "a8a6c34d-084d-40b3-c34a-0566edeac3ec"
      },
      "execution_count": 18,
      "outputs": [
        {
          "output_type": "stream",
          "name": "stdout",
          "text": [
            "0    7227\n",
            "1    7180\n",
            "Name: label, dtype: int64\n",
            "1    820\n",
            "0    773\n",
            "Name: label, dtype: int64\n",
            "3    3621\n",
            "1    3620\n",
            "0    3607\n",
            "2    3593\n",
            "4    3559\n",
            "Name: label, dtype: int64\n",
            "4    441\n",
            "2    407\n",
            "0    393\n",
            "1    380\n",
            "3    379\n",
            "Name: label, dtype: int64\n"
          ]
        }
      ]
    },
    {
      "cell_type": "markdown",
      "source": [
        "# Models"
      ],
      "metadata": {
        "id": "fbz48mNfttuo"
      }
    },
    {
      "cell_type": "code",
      "source": [
        "##You will also report the max, min, mean, and standard deviation of scores \n",
        "#for each parameter group (Check the cv_results_ of GridSearchCV). Other details are available in the notebook."
      ],
      "metadata": {
        "id": "SymXe36LuqhE"
      },
      "execution_count": null,
      "outputs": []
    },
    {
      "cell_type": "markdown",
      "source": [
        "## Non-Neural Models"
      ],
      "metadata": {
        "id": "y65GxGIFAC_K"
      }
    },
    {
      "cell_type": "code",
      "source": [
        "from sklearn.model_selection import GridSearchCV\n",
        "from sklearn.base import TransformerMixin\n",
        "from sklearn.pipeline import Pipeline\n",
        "from sklearn.feature_extraction.text import TfidfVectorizer\n",
        "from sklearn.naive_bayes import GaussianNB\n",
        "from sklearn.linear_model import LogisticRegression\n",
        "from sklearn.metrics import f1_score,confusion_matrix,accuracy_score"
      ],
      "metadata": {
        "id": "BYhkcMWouazd"
      },
      "execution_count": null,
      "outputs": []
    },
    {
      "cell_type": "markdown",
      "source": [
        "### Naive Bayes"
      ],
      "metadata": {
        "id": "4MZIaJFXWScs"
      }
    },
    {
      "cell_type": "code",
      "source": [
        "from typing_extensions import ParamSpec\n",
        "# https://scikit-learn.org/stable/modules/generated/sklearn.naive_bayes.GaussianNB.html\n",
        "\n",
        "from sklearn.base import  TransformerMixin\n",
        "\n",
        "# Create a class for converting sparse matrix output of TfidfVectorizer to dense matrix for feeding into GaussianNB\n",
        "class DenseTransformer(TransformerMixin):\n",
        "\n",
        "    def fit(self, X, y=None, **fit_params):\n",
        "        return self\n",
        "\n",
        "    def transform(self, X, y=None, **fit_params):\n",
        "        return X.todense()\n",
        "\n",
        "\n",
        "# Initiate the pipeline with required components.You can use Pipeline class of sklearn -> https://scikit-learn.org/stable/modules/generated/sklearn.pipeline.Pipeline.html\n",
        "# There will be three components; 1) TfidfVectorizer 2) DenseTransformer 3) Naive Bayes classifier.\n",
        "from sklearn.naive_bayes import GaussianNB\n",
        "from sklearn.pipeline import Pipeline\n",
        "from sklearn.feature_extraction.text import TfidfVectorizer\n",
        "\n",
        "\n",
        "pipe = Pipeline([\n",
        "     ('vectorizer', TfidfVectorizer()), \n",
        "     ('dense_transform', DenseTransformer()), \n",
        "     ('nb', GaussianNB())\n",
        "])\n",
        "\n",
        "# Set the hyperparameter space that will be scanned with GridSearchCV.\n",
        "from sklearn.model_selection import GridSearchCV\n",
        "params = {'vectorizer__ngram_range':[(1,1),(1,2),(1,3)], 'vectorizer__min_df':[100, 500,1000]}\n"
      ],
      "metadata": {
        "id": "Tr32alf3WXmM"
      },
      "execution_count": null,
      "outputs": []
    },
    {
      "cell_type": "markdown",
      "source": [
        "### Binary"
      ],
      "metadata": {
        "id": "0PjodOpko5pJ"
      }
    },
    {
      "cell_type": "code",
      "source": [
        "#binary_train.text"
      ],
      "metadata": {
        "id": "AxLsdwzXPMtX"
      },
      "execution_count": null,
      "outputs": []
    },
    {
      "cell_type": "code",
      "source": [
        "%%time\n",
        "# Initialize and run the GridSearchCV to scan the hyperparameter and find the best hyperparameter set that will maximize the scoring option for binary classification.\n",
        "\n",
        "nb_grid_search = GridSearchCV(pipe, param_grid=params, cv=5, scoring=\"f1_macro\")\n",
        "nb_grid_search.fit(binary_train.text , binary_train.label)\n",
        "#sorted(nb_grid_search.cv_results_.keys())\n",
        "#print(\"Best parameters\",nb_grid_search.best_params_)\n",
        "print(nb_grid_search.best_score_)\n",
        "\n",
        "# Report the standart deviation of split scores for each hyperparameter group.\n",
        "\n",
        "print(\"STD of hyperparameter combinations\",nb_grid_search.cv_results_[\"std_test_score\"])\n",
        "print(\"Mean of hyperparameter combinations\",nb_grid_search.cv_results_[\"mean_test_score\"])\n",
        "s0=nb_grid_search.cv_results_[\"split0_test_score\"]\n",
        "s1=nb_grid_search.cv_results_[\"split1_test_score\"]\n",
        "s2=nb_grid_search.cv_results_[\"split2_test_score\"]\n",
        "s3=nb_grid_search.cv_results_[\"split3_test_score\"]\n",
        "s4=nb_grid_search.cv_results_[\"split4_test_score\"]\n",
        "\n",
        "max_combs=[]\n",
        "min_combs=[]\n",
        "for i in range(9):\n",
        "  max_comb=np.max([s0[i],s1[i],s2[i],s3[i],s4[i]])\n",
        "  max_combs.append(max_comb)\n",
        "  min_comb= np.min([s0[i],s1[i],s2[i],s3[i],s4[i]])\n",
        "  min_combs.append(min_comb) \n",
        "\n",
        "print(\"Maximum of hyperparameter combinations\",max_combs)\n",
        "print(\"Minimum of hyperparameter combinations\",min_combs)\n",
        "\n",
        "\n",
        "###ADD MEAN MIN MAX HERE DO NOT FORGET!!!!!!!!!!!!!!!!!!!!!!\n",
        "\n",
        "# Show the best parameter set for given dataset and hyperparameter space.\n",
        "print(\"Best parameters\",nb_grid_search.best_params_)\n",
        "\n",
        "\n",
        "# Building the pipeline with the best parameter group and reporting Conf. Mat. and Results on the Test Set #\n",
        "# Create your Pipeline object with the best parameter set.\n",
        "\n",
        "best_pipe = Pipeline([\n",
        "     ('vectorizer', TfidfVectorizer(ngram_range=(1,2), min_df=100)), \n",
        "     ('dense_transform', DenseTransformer()), \n",
        "     ('nb', GaussianNB())\n",
        "])\n",
        "\n",
        "\n",
        "# Fit your pipeline on training set.\n",
        "\n",
        "best_pipe.fit(binary_train.text , binary_train.label)\n",
        "\n",
        "# Take prediction and report the F1 and Accuracy scores for binary classification. Then show the confussion table.\n",
        "\n",
        "preds=best_pipe.predict(binary_test.text)\n",
        "f1=f1_score(preds,binary_test.label)\n",
        "acc=accuracy_score(preds,binary_test.label)\n",
        "print(\"F1 Score---\",f1)\n",
        "print(\"Accuracy Score---\",acc)\n",
        "\n"
      ],
      "metadata": {
        "id": "vlZRfzqPo9iv",
        "colab": {
          "base_uri": "https://localhost:8080/"
        },
        "outputId": "f33c6ded-6a03-44d4-e984-2cddd924ed38"
      },
      "execution_count": null,
      "outputs": [
        {
          "output_type": "stream",
          "name": "stdout",
          "text": [
            "0.8599241032083335\n",
            "STD of hyperparameter combinations [0.00513696 0.00858586 0.00870809 0.00482348 0.00559073 0.00559073\n",
            " 0.00685753 0.00685753 0.00685753]\n",
            "Mean of hyperparameter combinations [0.85451464 0.8599241  0.85992297 0.81312206 0.81270382 0.81270382\n",
            " 0.76880201 0.76880201 0.76880201]\n",
            "Maximum of hyperparameter combinations [0.8604646960001618, 0.8719120033225389, 0.8722569550876097, 0.8188670576353761, 0.8209452511803239, 0.8209452511803239, 0.7777520724889145, 0.7777520724889145, 0.7777520724889145]\n",
            "Minimum of hyperparameter combinations [0.845593319369804, 0.846286837824539, 0.846286837824539, 0.805275852010992, 0.8056230241344745, 0.8056230241344745, 0.7565897415037318, 0.7565897415037318, 0.7565897415037318]\n",
            "Best parameters {'vectorizer__min_df': 100, 'vectorizer__ngram_range': (1, 2)}\n",
            "F1 Score--- 0.8739184177997528\n",
            "Accuracy Score--- 0.871939736346516\n",
            "CPU times: user 1min 43s, sys: 2.8 s, total: 1min 45s\n",
            "Wall time: 1min 49s\n"
          ]
        }
      ]
    },
    {
      "cell_type": "code",
      "source": [
        "import seaborn as sns\n",
        "\n",
        "matrix=confusion_matrix(binary_test.label,preds)\n",
        "sns.heatmap(matrix, annot=True, fmt=\"d\")\n",
        "# Visualizing the confusion matrix using Seaborn ----> https://seaborn.pydata.org/generated/seaborn.heatmap.html"
      ],
      "metadata": {
        "colab": {
          "base_uri": "https://localhost:8080/",
          "height": 283
        },
        "id": "qPihdsticcie",
        "outputId": "25bae2af-2459-475a-e34c-0f2966a1595a"
      },
      "execution_count": null,
      "outputs": [
        {
          "output_type": "execute_result",
          "data": {
            "text/plain": [
              "<matplotlib.axes._subplots.AxesSubplot at 0x7f4d1b9d5950>"
            ]
          },
          "metadata": {},
          "execution_count": 25
        },
        {
          "output_type": "display_data",
          "data": {
            "text/plain": [
              "<Figure size 432x288 with 2 Axes>"
            ],
            "image/png": "[encoded data removed]"
          },
          "metadata": {
            "needs_background": "light"
          }
        }
      ]
    },
    {
      "cell_type": "markdown",
      "source": [
        "### Multi"
      ],
      "metadata": {
        "id": "gUmILCQmpPAE"
      }
    },
    {
      "cell_type": "code",
      "source": [
        "%%time\n",
        "# Initialize and run the GridSearchCV to scan the hyperparameter and find the best hyperparameter set that will maximize the scoring option for multiclass classification.\n",
        "\n",
        "nb_grid_search = GridSearchCV(pipe, param_grid=params, cv=5, scoring=\"f1_macro\")\n",
        "nb_grid_search.fit(multi_train.text , multi_train.label)\n",
        "\n",
        "\n",
        "# Report the standart deviation of split scores for each hyperparameter group.\n",
        "\n",
        "print(\"STD of hyperparameter combinations\",nb_grid_search.cv_results_[\"std_test_score\"])\n",
        "print(\"Mean of hyperparameter combinations\",nb_grid_search.cv_results_[\"mean_test_score\"])\n",
        "s0=nb_grid_search.cv_results_[\"split0_test_score\"]\n",
        "s1=nb_grid_search.cv_results_[\"split1_test_score\"]\n",
        "s2=nb_grid_search.cv_results_[\"split2_test_score\"]\n",
        "s3=nb_grid_search.cv_results_[\"split3_test_score\"]\n",
        "s4=nb_grid_search.cv_results_[\"split4_test_score\"]\n",
        "\n",
        "max_combs=[]\n",
        "min_combs=[]\n",
        "for i in range(9):\n",
        "  max_comb=np.max([s0[i],s1[i],s2[i],s3[i],s4[i]])\n",
        "  max_combs.append(max_comb)\n",
        "  min_comb= np.min([s0[i],s1[i],s2[i],s3[i],s4[i]])\n",
        "  min_combs.append(min_comb) \n",
        "\n",
        "print(\"Maximum of hyperparameter combinations\",max_combs)\n",
        "print(\"Minimum of hyperparameter combinations\",min_combs)\n",
        "\n",
        "\n",
        "# Show the best parameter set for given dataset and hyperparameter space.\n",
        "\n",
        "print(\"Best parameters\",nb_grid_search.best_params_)\n",
        "\n",
        "# Building the pipeline with the best parameter group and reporting Conf. Mat. and Results on the Test Set #\n",
        "# Create your pipeline object with the best parameter set.\n",
        "\n",
        "\n",
        "best_pipe = Pipeline([\n",
        "     ('vectorizer', TfidfVectorizer(ngram_range=(1,2), min_df=100)), \n",
        "     ('dense_transform', DenseTransformer()), \n",
        "     ('nb', GaussianNB())\n",
        "])\n",
        "\n",
        "\n",
        "\n",
        "# Fit your pipeline on training set.\n",
        "best_pipe.fit(multi_train.text , multi_train.label)\n",
        "\n",
        "\n",
        "# Take prediction and report the F1 and Accuracy scores for binary classification. Then show the confussion table.\n",
        "\n",
        "preds=best_pipe.predict(multi_test.text)\n",
        "f1=f1_score(preds,multi_test.label, average='macro')\n",
        "acc=accuracy_score(preds,multi_test.label)\n",
        "print(\"F1 Score---\",f1)\n",
        "print(\"Accuracy Score---\",acc)\n",
        "\n",
        "\n"
      ],
      "metadata": {
        "id": "Od0ZnT7MpSdC",
        "colab": {
          "base_uri": "https://localhost:8080/"
        },
        "outputId": "9237c10f-6b89-4b9a-f562-e9492208510c"
      },
      "execution_count": null,
      "outputs": [
        {
          "output_type": "stream",
          "name": "stdout",
          "text": [
            "STD of hyperparameter combinations [0.0068399  0.00730962 0.00817519 0.00935393 0.00937459 0.00937459\n",
            " 0.00239006 0.00239006 0.00239006]\n",
            "Mean of hyperparameter combinations [0.44359808 0.45514883 0.45495473 0.45184773 0.45228208 0.45228208\n",
            " 0.41969504 0.41969504 0.41969504]\n",
            "Maximum of hyperparameter combinations [0.4509160782304075, 0.4639170812005009, 0.46449890111192527, 0.46272732461957206, 0.46165368831761777, 0.46165368831761777, 0.4216640232821655, 0.4216640232821655, 0.4216640232821655]\n",
            "Minimum of hyperparameter combinations [0.43059757151108335, 0.444992516959229, 0.4436251671275933, 0.43527778356316266, 0.4357486133437657, 0.4357486133437657, 0.41524304526381384, 0.41524304526381384, 0.41524304526381384]\n",
            "Best parameters {'vectorizer__min_df': 100, 'vectorizer__ngram_range': (1, 2)}\n",
            "F1 Score--- 0.4772514205660536\n",
            "Accuracy Score--- 0.493\n",
            "CPU times: user 2min 9s, sys: 2.53 s, total: 2min 12s\n",
            "Wall time: 2min 12s\n"
          ]
        }
      ]
    },
    {
      "cell_type": "code",
      "source": [
        "import seaborn as sns\n",
        "\n",
        "matrix=confusion_matrix(multi_test.label,preds)\n",
        "sns.heatmap(matrix, annot=True, fmt=\"d\")\n",
        "# Visualizing the confusion matrix using Seaborn ----> https://seaborn.pydata.org/generated/seaborn.heatmap.html"
      ],
      "metadata": {
        "colab": {
          "base_uri": "https://localhost:8080/",
          "height": 281
        },
        "id": "9SEpM_6WeYYJ",
        "outputId": "83b4213d-2c98-4e2d-ea39-8405e5273ae6"
      },
      "execution_count": null,
      "outputs": [
        {
          "output_type": "execute_result",
          "data": {
            "text/plain": [
              "<matplotlib.axes._subplots.AxesSubplot at 0x7f4d1a636050>"
            ]
          },
          "metadata": {},
          "execution_count": 27
        },
        {
          "output_type": "display_data",
          "data": {
            "text/plain": [
              "<Figure size 432x288 with 2 Axes>"
            ],
            "image/png": "[encoded data removed]"
          },
          "metadata": {
            "needs_background": "light"
          }
        }
      ]
    },
    {
      "cell_type": "markdown",
      "source": [
        "### Logistic Regression"
      ],
      "metadata": {
        "id": "EMNf8zC50lQQ"
      }
    },
    {
      "cell_type": "code",
      "source": [
        "# https://scikit-learn.org/stable/modules/generated/sklearn.linear_model.LogisticRegression.html\n",
        "\n",
        "# Initiate the pipeline with required components.You can use Pipeline class of sklearn -> https://scikit-learn.org/stable/modules/generated/sklearn.pipeline.Pipeline.html\n",
        "# There will be three components; 1) Word weightning 2) Logistic Regression classifier.\n",
        "from sklearn.linear_model import LogisticRegression\n",
        "\n",
        "lr_pipe = Pipeline([\n",
        "     ('weight', TfidfVectorizer()), \n",
        "     ('dense_transform', DenseTransformer()), \n",
        "     ('lr', LogisticRegression(random_state=22,solver='saga', penalty='elasticnet')) ###penalty elasticnet is needed to use l1 ratio parameter and saga is needed for elasticnet\n",
        "])\n",
        "\n",
        "\n",
        "\n",
        "#Set the hyperparameter space that will be scanned.\n",
        "from sklearn.model_selection import GridSearchCV\n",
        "lr_params = {'weight__ngram_range':[(1,1),(1,2),(1,3)], 'weight__min_df':[100, 500,1000] ,'lr__l1_ratio':[0.0,0.5,1.0]}\n"
      ],
      "metadata": {
        "id": "M5ySIl3e552q"
      },
      "execution_count": null,
      "outputs": []
    },
    {
      "cell_type": "markdown",
      "source": [
        "#### Binary"
      ],
      "metadata": {
        "id": "zTmaa_tHTWZ0"
      }
    },
    {
      "cell_type": "code",
      "source": [
        "#%%time\n",
        "# Initialize and run the GridSearchCV to scan the hyperparameter and find the best hyperparameter set that will maximize the scoring option for binary classification.\n",
        "\n",
        "lr_grid_search = GridSearchCV(lr_pipe, param_grid=lr_params, cv=5, scoring=\"f1_macro\")\n",
        "lr_grid_search.fit(binary_train.text , binary_train.label)\n",
        "\n",
        "        \n",
        "# Report the standart deviation of split scores for each hyperparameter group.\n",
        "\n",
        "\n",
        "print(\"STD of hyperparameter combinations\",lr_grid_search.cv_results_[\"std_test_score\"])\n",
        "print(\"Mean of hyperparameter combinations\",lr_grid_search.cv_results_[\"mean_test_score\"])\n",
        "s0=lr_grid_search.cv_results_[\"split0_test_score\"]\n",
        "s1=lr_grid_search.cv_results_[\"split1_test_score\"]\n",
        "s2=lr_grid_search.cv_results_[\"split2_test_score\"]\n",
        "s3=lr_grid_search.cv_results_[\"split3_test_score\"]\n",
        "s4=lr_grid_search.cv_results_[\"split4_test_score\"]\n",
        "\n",
        "max_combs=[]\n",
        "min_combs=[]\n",
        "for i in range(27):\n",
        "  max_comb=np.max([s0[i],s1[i],s2[i],s3[i],s4[i]])\n",
        "  max_combs.append(max_comb)\n",
        "  min_comb= np.min([s0[i],s1[i],s2[i],s3[i],s4[i]])\n",
        "  min_combs.append(min_comb) \n",
        "\n",
        "print(\"Maximum of hyperparameter combinations\",max_combs)\n",
        "print(\"Minimum of hyperparameter combinations\",min_combs)\n",
        "\n",
        "\n",
        "# Show the best parameter set for given dataset and hyperparameter space.\n",
        "\n",
        "print(\"Best parameters\",lr_grid_search.best_params_)\n",
        "\n",
        "\n",
        "\n",
        "# Building the pipeline with the best parameter group and reporting Conf. Mat. and Results on the Test Set #\n",
        "#Create your pipeline object with the best parameter set.\n",
        "best_pipe = Pipeline([\n",
        "     ('weight', TfidfVectorizer(ngram_range=(1,2), min_df=100)), \n",
        "     ('dense_transform', DenseTransformer()), \n",
        "     ('lr', LogisticRegression(random_state=(22) ,solver='saga', penalty='elasticnet',l1_ratio=0.5))\n",
        "])\n",
        "\n",
        "\n",
        "\n",
        "#Fit your pipeline on training set.\n",
        "best_pipe.fit(binary_train.text , binary_train.label)\n",
        "\n",
        "\n",
        "# Take prediction and report the F1 and Accuracy scores for binary classification. Then show the confussion table.\n",
        "\n",
        "\n",
        "preds=best_pipe.predict(binary_test.text)\n",
        "f1=f1_score(preds,binary_test.label, average='binary') ###binary or macro ???\n",
        "acc=accuracy_score(preds,binary_test.label)\n",
        "print(\"F1 Score---\",f1)\n",
        "print(\"Accuracy Score---\",acc)\n",
        "\n"
      ],
      "metadata": {
        "id": "atCcPl1NTQWr",
        "colab": {
          "base_uri": "https://localhost:8080/"
        },
        "outputId": "bf2f0636-7a72-49c8-b0ee-bcd0c934d734"
      },
      "execution_count": null,
      "outputs": [
        {
          "output_type": "stream",
          "name": "stdout",
          "text": [
            "STD of hyperparameter combinations [0.00296623 0.00397579 0.00397579 0.00472575 0.00451054 0.00451054\n",
            " 0.00473061 0.00473061 0.00473061 0.00266404 0.00286763 0.00283731\n",
            " 0.00409892 0.00366651 0.00366651 0.00422603 0.00422603 0.00422603\n",
            " 0.00505808 0.00473197 0.00473197 0.00431744 0.00423308 0.00423308\n",
            " 0.00435021 0.00435021 0.00435021]\n",
            "Mean of hyperparameter combinations [0.90531481 0.9058698  0.9058698  0.85347954 0.85376016 0.85376016\n",
            " 0.79856394 0.79856394 0.79856394 0.9065656  0.90815942 0.90802064\n",
            " 0.85473732 0.85438776 0.85438776 0.79917605 0.79917605 0.79917605\n",
            " 0.90517682 0.90594015 0.90594015 0.8541829  0.85334793 0.85334793\n",
            " 0.7985484  0.7985484  0.7985484 ]\n",
            "Maximum of hyperparameter combinations [0.9087111528457442, 0.9121831004157156, 0.9121831004157156, 0.8594319543644307, 0.8590831926684702, 0.8590831926684702, 0.8066192468871356, 0.8066192468871356, 0.8066192468871356, 0.9111395557748878, 0.9132240625186745, 0.9128768013193098, 0.8597773641331576, 0.8587343886297089, 0.8587343886297089, 0.8069509590771263, 0.8069509590771263, 0.8069509590771263, 0.9121811959448023, 0.9128732743027179, 0.9128732743027179, 0.8601112730836465, 0.8590692216122954, 0.8590692216122954, 0.8062612078440445, 0.8062612078440445, 0.8062612078440445]\n",
            "Minimum of hyperparameter combinations [0.9003760025841969, 0.9010702464686278, 0.9010702464686278, 0.8481549088957434, 0.849008159680131, 0.849008159680131, 0.7941651464145234, 0.7941651464145234, 0.7941651464145234, 0.9028072965613629, 0.904541465890781, 0.9041948403078657, 0.8499088304245898, 0.8502464573898444, 0.8502464573898444, 0.7951981075716406, 0.7951981075716406, 0.7951981075716406, 0.8989902896478936, 0.8982921435228388, 0.8982921435228388, 0.8495770884367194, 0.8481812760882528, 0.8481812760882528, 0.7931210576495511, 0.7931210576495511, 0.7931210576495511]\n",
            "Best parameters {'lr__l1_ratio': 0.5, 'weight__min_df': 100, 'weight__ngram_range': (1, 2)}\n",
            "F1 Score--- 0.9107806691449815\n",
            "Accuracy Score--- 0.9096045197740112\n"
          ]
        }
      ]
    },
    {
      "cell_type": "code",
      "source": [
        "import seaborn as sns\n",
        "\n",
        "matrix=confusion_matrix(binary_test.label,preds)\n",
        "sns.heatmap(matrix, annot=True, fmt=\"d\")\n",
        "# Visualizing the confusion matrix using Seaborn ----> https://seaborn.pydata.org/generated/seaborn.heatmap.html"
      ],
      "metadata": {
        "id": "PeH7LBcjr7G6",
        "colab": {
          "base_uri": "https://localhost:8080/",
          "height": 281
        },
        "outputId": "8e26db7f-ad27-411c-a5ea-cecf7e00126d"
      },
      "execution_count": null,
      "outputs": [
        {
          "output_type": "execute_result",
          "data": {
            "text/plain": [
              "<matplotlib.axes._subplots.AxesSubplot at 0x7f4d09af2c10>"
            ]
          },
          "metadata": {},
          "execution_count": 33
        },
        {
          "output_type": "display_data",
          "data": {
            "text/plain": [
              "<Figure size 432x288 with 2 Axes>"
            ],
            "image/png": "[encoded data removed]"
          },
          "metadata": {
            "needs_background": "light"
          }
        }
      ]
    },
    {
      "cell_type": "markdown",
      "source": [
        "#### Multiclass"
      ],
      "metadata": {
        "id": "xgy8BLNaTRfZ"
      }
    },
    {
      "cell_type": "code",
      "source": [
        "%%time\n",
        "# Initialize and run the GridSearchCV to scan the hyperparameter and find the best hyperparameter set that will maximize the scoring option for multiclass classification.\n",
        "\n",
        "lr_grid_search = GridSearchCV(lr_pipe, param_grid=lr_params, cv=5, scoring=\"f1_macro\")\n",
        "lr_grid_search.fit(multi_train.text , multi_train.label)\n",
        "\n",
        "        \n",
        "# Report the standart deviation of split scores for each hyperparameter group.\n",
        "\n",
        "print(\"STD of hyperparameter combinations\",lr_grid_search.cv_results_[\"std_test_score\"])\n",
        "print(\"Mean of hyperparameter combinations\",lr_grid_search.cv_results_[\"mean_test_score\"])\n",
        "s0=lr_grid_search.cv_results_[\"split0_test_score\"]\n",
        "s1=lr_grid_search.cv_results_[\"split1_test_score\"]\n",
        "s2=lr_grid_search.cv_results_[\"split2_test_score\"]\n",
        "s3=lr_grid_search.cv_results_[\"split3_test_score\"]\n",
        "s4=lr_grid_search.cv_results_[\"split4_test_score\"]\n",
        "\n",
        "max_combs=[]\n",
        "min_combs=[]\n",
        "for i in range(27): ### 3x3x3\n",
        "  max_comb=np.max([s0[i],s1[i],s2[i],s3[i],s4[i]])\n",
        "  max_combs.append(max_comb)\n",
        "  min_comb= np.min([s0[i],s1[i],s2[i],s3[i],s4[i]])\n",
        "  min_combs.append(min_comb) \n",
        "\n",
        "print(\"Maximum of hyperparameter combinations\",max_combs)\n",
        "print(\"Minimum of hyperparameter combinations\",min_combs)\n",
        "\n",
        "\n",
        "# Show the best parameter set for given dataset and hyperparameter space.\n",
        "\n",
        "\n",
        "print(\"Best parameters\",lr_grid_search.best_params_)\n",
        "\n",
        "\n",
        "# Building the pipeline with the best parameter group and reporting Conf. Mat. and Results on the Test Set #\n",
        "# Create your pipeline object with the best parameter set.\n",
        "best_pipe = Pipeline([\n",
        "     ('weight', TfidfVectorizer(ngram_range=(1,3), min_df=100)), \n",
        "     ('dense_transform', DenseTransformer()), \n",
        "     ('lr', LogisticRegression(random_state=(22) ,solver='saga', penalty='elasticnet' ,l1_ratio=1.0))\n",
        "])\n",
        "\n",
        "\n",
        "\n",
        "# Fit your pipeline on training set.\n",
        "\n",
        "best_pipe.fit(multi_train.text , multi_train.label)\n",
        "\n",
        "# Take prediction and report the F1 and Accuracy scores for binary classification. Then show the confussion table.\n",
        "\n",
        "\n",
        "preds=best_pipe.predict(multi_test.text)\n",
        "f1=f1_score(preds,multi_test.label, average='macro') ###binary or macro ???\n",
        "acc=accuracy_score(preds,multi_test.label)\n",
        "print(\"F1 Score---\",f1)\n",
        "print(\"Accuracy Score---\",acc)\n",
        "\n"
      ],
      "metadata": {
        "id": "kRYqtWiP2Gg6",
        "colab": {
          "base_uri": "https://localhost:8080/"
        },
        "outputId": "5ebfa417-8bb7-46fe-ee50-f771c6fdfbf8"
      },
      "execution_count": null,
      "outputs": [
        {
          "output_type": "stream",
          "name": "stdout",
          "text": [
            "STD of hyperparameter combinations [0.00683494 0.00507844 0.00548526 0.01122091 0.01050395 0.01050395\n",
            " 0.00647229 0.00647229 0.00647229 0.00783204 0.00594587 0.00606887\n",
            " 0.01122433 0.01122731 0.01122731 0.00629715 0.00629715 0.00629715\n",
            " 0.00727071 0.00862901 0.00859543 0.01179434 0.01192888 0.01192888\n",
            " 0.00615056 0.00615056 0.00615056]\n",
            "Mean of hyperparameter combinations [0.53230304 0.5345478  0.53514486 0.50588763 0.50521023 0.50521023\n",
            " 0.46189015 0.46189015 0.46189015 0.53239764 0.53788798 0.53787444\n",
            " 0.50745658 0.50728264 0.50728264 0.46274419 0.46274419 0.46274419\n",
            " 0.53551595 0.53778099 0.5382825  0.5083085  0.50870402 0.50870402\n",
            " 0.46190339 0.46190339 0.46190339]\n",
            "Maximum of hyperparameter combinations [0.5375903794033613, 0.5412376257080042, 0.5421188898349076, 0.5172081075605625, 0.5155694138222282, 0.5155694138222282, 0.47013149704024204, 0.47013149704024204, 0.47013149704024204, 0.5401957457701896, 0.5416643950336322, 0.54179385908984, 0.5174734796258981, 0.5173000651772156, 0.5173000651772156, 0.4717219590531231, 0.4717219590531231, 0.4717219590531231, 0.5447096116228958, 0.5459047413104108, 0.5461853063798847, 0.5189913828887474, 0.5195436670427606, 0.5195436670427606, 0.46940677173761924, 0.46940677173761924, 0.46940677173761924]\n",
            "Minimum of hyperparameter combinations [0.5190074433924119, 0.5268117708701988, 0.5265593165247844, 0.48527008023397566, 0.4864124850453311, 0.4864124850453311, 0.4506773367454153, 0.4506773367454153, 0.4506773367454153, 0.5187312234655849, 0.5260972524285027, 0.5257879255342768, 0.4872943481009619, 0.4869338703092664, 0.4869338703092664, 0.452023255010184, 0.452023255010184, 0.452023255010184, 0.5247765238742158, 0.5228792734764036, 0.5229436192893211, 0.48698015882939316, 0.48661127783177405, 0.48661127783177405, 0.45139153134127463, 0.45139153134127463, 0.45139153134127463]\n",
            "Best parameters {'lr__l1_ratio': 1.0, 'weight__min_df': 100, 'weight__ngram_range': (1, 3)}\n",
            "F1 Score--- 0.5512069432954926\n",
            "Accuracy Score--- 0.5555\n",
            "CPU times: user 45min 4s, sys: 20.6 s, total: 45min 24s\n",
            "Wall time: 45min 2s\n"
          ]
        }
      ]
    },
    {
      "cell_type": "code",
      "source": [
        "import seaborn as sns\n",
        "\n",
        "matrix=confusion_matrix(multi_test.label,preds)\n",
        "sns.heatmap(matrix, annot=True, fmt=\"d\")\n",
        "# Visualizing the confusion matrix using Seaborn ----> https://seaborn.pydata.org/generated/seaborn.heatmap.html"
      ],
      "metadata": {
        "id": "hf52AA_wAhM3",
        "colab": {
          "base_uri": "https://localhost:8080/",
          "height": 281
        },
        "outputId": "28dd761d-9be2-4ff7-a9d4-fabe6ab858e8"
      },
      "execution_count": null,
      "outputs": [
        {
          "output_type": "execute_result",
          "data": {
            "text/plain": [
              "<matplotlib.axes._subplots.AxesSubplot at 0x7f4d1a9b6690>"
            ]
          },
          "metadata": {},
          "execution_count": 36
        },
        {
          "output_type": "display_data",
          "data": {
            "text/plain": [
              "<Figure size 432x288 with 2 Axes>"
            ],
            "image/png": "[encoded data removed]"
          },
          "metadata": {
            "needs_background": "light"
          }
        }
      ]
    },
    {
      "cell_type": "markdown",
      "source": [
        "## Neural Models"
      ],
      "metadata": {
        "id": "ISxrqFKrh8Rb"
      }
    },
    {
      "cell_type": "markdown",
      "source": [
        "### Convolutional Neural Network (CNN)"
      ],
      "metadata": {
        "id": "87S_VWH9h-JQ"
      }
    },
    {
      "cell_type": "code",
      "source": [
        "import pandas as pd\n",
        "import numpy as np\n",
        "import nltk,re\n",
        "import tensorflow as tf\n",
        "from sklearn.model_selection import train_test_split\n",
        "from numpy import array,asarray,zeros\n",
        "\n",
        "from nltk.stem import PorterStemmer\n",
        "from nltk.tokenize import sent_tokenize\n",
        "import nltk\n",
        "nltk.download('punkt')\n",
        "\n",
        "import keras\n",
        "from keras.preprocessing.text import Tokenizer\n",
        "from keras.preprocessing.sequence import pad_sequences\n",
        "\n",
        "from keras.models import Sequential\n",
        "from keras.layers.convolutional import Conv1D,MaxPooling1D\n",
        "from keras.layers import Dense,Flatten,Embedding,Input,Dropout\n",
        "from keras.callbacks import ModelCheckpoint\n",
        "\n",
        "from gensim.models import Word2Vec\n",
        "import gensim.downloader as api"
      ],
      "metadata": {
        "id": "gw4QZK0biCrt",
        "colab": {
          "base_uri": "https://localhost:8080/"
        },
        "outputId": "0c4c9fff-b4bb-4167-f486-ffd99287bfbe"
      },
      "execution_count": 24,
      "outputs": [
        {
          "output_type": "stream",
          "name": "stdout",
          "text": [
            "[nltk_data] Downloading package punkt to /root/nltk_data...\n",
            "[nltk_data]   Package punkt is already up-to-date!\n"
          ]
        }
      ]
    },
    {
      "cell_type": "code",
      "source": [
        "#train"
      ],
      "metadata": {
        "id": "ictq05yerNgs"
      },
      "execution_count": null,
      "outputs": []
    },
    {
      "cell_type": "markdown",
      "source": [
        "# **BINARY DATA - NEURAL NETWORKS**"
      ],
      "metadata": {
        "id": "WE0sXiZcvFis"
      }
    },
    {
      "cell_type": "code",
      "source": [
        "train_temp= binary_train.copy()\n",
        "test_temp=binary_test.copy()"
      ],
      "metadata": {
        "id": "y4BcreFZvMeC"
      },
      "execution_count": null,
      "outputs": []
    },
    {
      "cell_type": "code",
      "source": [
        "from sklearn.model_selection import train_test_split\n",
        "\n",
        "X_train, X_val, y_train, y_val = train_test_split( train_temp.text, train_temp.label, test_size=0.1, random_state=22)"
      ],
      "metadata": {
        "id": "VZZm32lSvNzZ"
      },
      "execution_count": null,
      "outputs": []
    },
    {
      "cell_type": "code",
      "source": [
        "print(X_train.shape) \n",
        "print(y_train.shape) \n",
        "print(X_val.shape) \n",
        "print(y_val.shape) "
      ],
      "metadata": {
        "colab": {
          "base_uri": "https://localhost:8080/"
        },
        "id": "G2f7GIFPvQL2",
        "outputId": "03983251-20bc-43bb-f50d-6d37340000d6"
      },
      "execution_count": null,
      "outputs": [
        {
          "output_type": "stream",
          "name": "stdout",
          "text": [
            "(12966,)\n",
            "(12966,)\n",
            "(1441,)\n",
            "(1441,)\n"
          ]
        }
      ]
    },
    {
      "cell_type": "code",
      "source": [
        "from nltk import word_tokenize\n",
        "#tokenize sentences to create word embedding\n",
        "def preprocess2(text: str):\n",
        "    text=word_tokenize(text)\n",
        "    return text\n",
        "\n",
        "X_train=X_train.apply(preprocess2)\n",
        "X_val=X_val.apply(preprocess2)\n",
        "test_temp.text=test_temp.text.apply(preprocess2)"
      ],
      "metadata": {
        "id": "Rf8hTLyNvSjR"
      },
      "execution_count": null,
      "outputs": []
    },
    {
      "cell_type": "code",
      "source": [
        "# Create your own word embeddings from scratch and load a pretrained word embeddings\n",
        "import gensim.downloader as api\n",
        "\n",
        "model_gensim = Word2Vec(sentences=X_train,min_count=1,size=60) \n",
        "#model.save(\"word2vec.model\")\n",
        "\n",
        "glove_vectors = api.load('glove-twitter-50')\n",
        "\n",
        "\n",
        "#all pre-trained model options below\n",
        "'''\n",
        "['fasttext-wiki-news-subwords-300',\n",
        " 'conceptnet-numberbatch-17-06-300',\n",
        " 'word2vec-ruscorpora-300',\n",
        " 'word2vec-google-news-300',\n",
        " 'glove-wiki-gigaword-50',\n",
        " 'glove-wiki-gigaword-100',\n",
        " 'glove-wiki-gigaword-200',\n",
        " 'glove-wiki-gigaword-300',\n",
        " 'glove-twitter-25',\n",
        " 'glove-twitter-50',\n",
        " 'glove-twitter-100',\n",
        " 'glove-twitter-200',\n",
        " '__testing_word2vec-matrix-synopsis']\n",
        "'''\n",
        "\n",
        "# You can check https://radimrehurek.com/gensim/models/word2vec.html for training a word embeddings from scratch\n",
        "\n",
        "\n",
        "# You can check https://radimrehurek.com/gensim/auto_examples/howtos/run_downloader_api.html and https://github.com/RaRe-Technologies/gensim-data for loading pretrained word embeddings. \n",
        "\n"
      ],
      "metadata": {
        "colab": {
          "base_uri": "https://localhost:8080/",
          "height": 83
        },
        "id": "IaKaFXmvvWl6",
        "outputId": "8fe65780-5732-4c0a-97bd-2154d1b2a1fd"
      },
      "execution_count": null,
      "outputs": [
        {
          "output_type": "stream",
          "name": "stdout",
          "text": [
            "[==================================================] 100.0% 199.5/199.5MB downloaded\n"
          ]
        },
        {
          "output_type": "execute_result",
          "data": {
            "text/plain": [
              "\"\\n['fasttext-wiki-news-subwords-300',\\n 'conceptnet-numberbatch-17-06-300',\\n 'word2vec-ruscorpora-300',\\n 'word2vec-google-news-300',\\n 'glove-wiki-gigaword-50',\\n 'glove-wiki-gigaword-100',\\n 'glove-wiki-gigaword-200',\\n 'glove-wiki-gigaword-300',\\n 'glove-twitter-25',\\n 'glove-twitter-50',\\n 'glove-twitter-100',\\n 'glove-twitter-200',\\n '__testing_word2vec-matrix-synopsis']\\n\""
            ],
            "application/vnd.google.colaboratory.intrinsic+json": {
              "type": "string"
            }
          },
          "metadata": {},
          "execution_count": 24
        }
      ]
    },
    {
      "cell_type": "code",
      "source": [
        "print(model_gensim.most_similar('second'))\n",
        "print(glove_vectors.most_similar('second'))"
      ],
      "metadata": {
        "colab": {
          "base_uri": "https://localhost:8080/"
        },
        "id": "MCgtQBmqvbM-",
        "outputId": "f97d7af2-b208-4993-9c50-c24e94e9c1e6"
      },
      "execution_count": null,
      "outputs": [
        {
          "output_type": "stream",
          "name": "stdout",
          "text": [
            "[('third', 0.8666102290153503), ('first', 0.856019914150238), ('last', 0.833577573299408), ('twice', 0.8335473537445068), ('three', 0.8132480382919312), ('2nd', 0.8128906488418579), ('multipl', 0.8074623346328735), ('coupl', 0.8004127740859985), ('six', 0.7973673343658447), ('husbeast', 0.7944599390029907)]\n",
            "[('first', 0.9413641691207886), ('third', 0.9368473291397095), ('another', 0.9118744730949402), ('last', 0.8993719816207886), ('every', 0.8912979960441589), ('end', 0.8854801654815674), ('next', 0.8759546279907227), ('year', 0.8659480214118958), ('fourth', 0.8654847145080566), ('minute', 0.8602057099342346)]\n"
          ]
        }
      ]
    },
    {
      "cell_type": "code",
      "source": [
        "# Prepare your dataset for CNN classifier\n",
        "my_tokenizer=tf.keras.preprocessing.text.Tokenizer(\n",
        "    num_words=100000000000,\n",
        "    filters='!\"#$%&()*+,-./:;<=>?@[\\\\]^_`{|}~\\t\\n',\n",
        "    lower=True,\n",
        "    split=' ',\n",
        "    char_level=False,\n",
        "    oov_token=None,)\n",
        "\n",
        "\n",
        "my_tokenizer.fit_on_texts(X_train)\n",
        "tensor_train = my_tokenizer.texts_to_sequences(X_train) \n",
        "\n",
        "\n",
        "tensor_val = my_tokenizer.texts_to_sequences(X_val) \n",
        "\n",
        "\n",
        "tensor_test = my_tokenizer.texts_to_sequences(test_temp.text) \n",
        "\n",
        "# SOURCES :\n",
        "#https://www.tensorflow.org/addons/tutorials/networks_seq2seq_nmt  "
      ],
      "metadata": {
        "id": "dIjlumDCvggn"
      },
      "execution_count": null,
      "outputs": []
    },
    {
      "cell_type": "code",
      "source": [
        "len(my_tokenizer.word_index)"
      ],
      "metadata": {
        "colab": {
          "base_uri": "https://localhost:8080/"
        },
        "id": "7Nk7FjUZvoq8",
        "outputId": "4500990a-026d-43e9-a425-410a1ec12f07"
      },
      "execution_count": null,
      "outputs": [
        {
          "output_type": "execute_result",
          "data": {
            "text/plain": [
              "19247"
            ]
          },
          "metadata": {},
          "execution_count": 27
        }
      ]
    },
    {
      "cell_type": "code",
      "source": [
        "\n",
        "####check average + 10 ? \"max\" may create problems due to outliers better go with avg\n",
        "avg_train=0\n",
        "for i in X_train:\n",
        "  length=len(i)\n",
        "  avg_train +=length\n",
        "\n",
        "avg_train=avg_train/len(X_train)\n",
        "\n",
        "\n",
        "\n",
        "avg_val=0\n",
        "for j in X_val:\n",
        "  length=len(j)\n",
        "  avg_val +=length\n",
        "\n",
        "avg_val=avg_val/len(X_val)\n",
        "print(avg_train, avg_val)\n",
        "\n",
        "#max_pad=int(max(avg_val,avg_train) + 5)\n",
        "max_pad=60\n"
      ],
      "metadata": {
        "colab": {
          "base_uri": "https://localhost:8080/"
        },
        "id": "QFpc1E2lvxXe",
        "outputId": "f757bae8-d318-4b6e-8f1a-9b869556d16b"
      },
      "execution_count": null,
      "outputs": [
        {
          "output_type": "stream",
          "name": "stdout",
          "text": [
            "59.14885084066019 56.867453157529496\n"
          ]
        }
      ]
    },
    {
      "cell_type": "code",
      "source": [
        "#we need padding for making data equal simply add 0 to missing indexes \n",
        "\n",
        "tensor_train = pad_sequences(tensor_train, padding='post', maxlen=max_pad)\n",
        "tensor_val = pad_sequences(tensor_val, padding='post', maxlen=max_pad)\n",
        "tensor_test = pad_sequences(tensor_test, padding='post', maxlen=max_pad)"
      ],
      "metadata": {
        "id": "k-jx1ib7vxR4"
      },
      "execution_count": null,
      "outputs": []
    },
    {
      "cell_type": "code",
      "source": [
        "\n",
        "##SOURCES I used for word embedding and cnn layers:\n",
        "## https://ml2021.medium.com/multi-class-text-classification-using-cnn-and-word2vec-b17daff45260\n",
        "## https://stackabuse.com/python-for-nlp-multi-label-text-classification-with-keras/\n",
        "## https://machinelearningmastery.com/use-word-embedding-layers-deep-learning-keras/\n",
        "## https://medium.com/voice-tech-podcast/text-classification-using-cnn-9ade8155dfb9\n",
        "## https://blog.keras.io/using-pre-trained-word-embeddings-in-a-keras-model.html \n"
      ],
      "metadata": {
        "id": "AUedAUYVvxDg"
      },
      "execution_count": null,
      "outputs": []
    },
    {
      "cell_type": "code",
      "source": [
        " \n",
        "# Create Embedding Matrices and Layers\n",
        "########row sayımız unique words sayısı + 1 unknown word \n",
        "vocab_size=len(my_tokenizer.word_index)+1\n",
        "\n",
        "pretrained=False\n",
        "\n",
        "def create_embedding_matrix(pretrained, my_tokenizer ):\n",
        "  if pretrained: #####PRE-TRAINED WORD EMBEDDING MATRIX\n",
        "    pretrained=True\n",
        "    embedding_matrix = zeros((vocab_size, 50))\n",
        "    for word, index in my_tokenizer.word_index.items():\n",
        "      try:\n",
        "        embedding_vector = glove_vectors[word]\n",
        "        #print(embedding_vector)\n",
        "        embedding_matrix[index] = embedding_vector\n",
        "        #print(\"okpre\")\n",
        "      except:\n",
        "        continue\n",
        "  else: #####TRAINED FROM SCRATCH WORD EMBEDDING MATRIX\n",
        "    pretrained=False\n",
        "    embedding_matrix = zeros((vocab_size, max_pad))\n",
        "    for word, index in my_tokenizer.word_index.items():\n",
        "      try:\n",
        "        embedding_vector = model_gensim[word]\n",
        "        #print(embedding_vector)\n",
        "        embedding_matrix[index] = embedding_vector\n",
        "        #print(\"ok\")\n",
        "      except:\n",
        "        continue\n",
        "  return embedding_matrix\n",
        "\n"
      ],
      "metadata": {
        "id": "d45Cb_WjwFNB"
      },
      "execution_count": null,
      "outputs": []
    },
    {
      "cell_type": "code",
      "source": [
        "#if want to use pre-trained embeddings make it True, if want to use trained from scratch embeddings make it False\n",
        "pre_trained_embedding_matrix=create_embedding_matrix(True,my_tokenizer)\n",
        "trained_embedding_matrix=create_embedding_matrix(False,my_tokenizer)"
      ],
      "metadata": {
        "id": "qkbIolwiwGJK"
      },
      "execution_count": null,
      "outputs": []
    },
    {
      "cell_type": "code",
      "source": [
        "pre_trained_embedding_matrix.shape"
      ],
      "metadata": {
        "colab": {
          "base_uri": "https://localhost:8080/"
        },
        "id": "G2ebm96k1Q8O",
        "outputId": "450796e0-8977-499b-bd6e-2c7e334f004b"
      },
      "execution_count": null,
      "outputs": [
        {
          "output_type": "execute_result",
          "data": {
            "text/plain": [
              "(19248, 50)"
            ]
          },
          "metadata": {},
          "execution_count": 33
        }
      ]
    },
    {
      "cell_type": "code",
      "source": [
        "trained_embedding_matrix.shape"
      ],
      "metadata": {
        "colab": {
          "base_uri": "https://localhost:8080/"
        },
        "id": "5ud0T2ml1SU4",
        "outputId": "cc643d4d-03f6-4230-c586-7bdad1672e77"
      },
      "execution_count": null,
      "outputs": [
        {
          "output_type": "execute_result",
          "data": {
            "text/plain": [
              "(19248, 60)"
            ]
          },
          "metadata": {},
          "execution_count": 34
        }
      ]
    },
    {
      "cell_type": "markdown",
      "source": [
        "# RANDOM EMBEDDING -BINARY"
      ],
      "metadata": {
        "id": "0bUxqEmGjRKT"
      }
    },
    {
      "cell_type": "code",
      "source": [
        "##############################################   BINARYYYYYYYYYY WITH  RANDOM - EMBEDDING MATRIX   ##############################################\n",
        "##############################################   BINARYYYYYYYYYY    ##############################################       \n",
        "# Create Embedding Matrices and Layers\n",
        "\n",
        "# Building the CNN Model\n",
        "model_b1 = Sequential()      # initilaizing the Sequential nature for CNN model\n",
        "model_b1.add(Embedding(vocab_size, 60, input_length=max_pad))\n",
        "model_b1.add(Conv1D(128, 5, padding='same', activation='relu'))\n",
        "model_b1.add(MaxPooling1D())\n",
        "#model_b1.add(Conv1D(64,5, activation='relu'))\n",
        "#model_b1.add(MaxPooling1D())\n",
        "model_b1.add(Conv1D(32,5, activation='relu'))\n",
        "model_b1.add(MaxPooling1D())\n",
        "model_b1.add(Flatten())\n",
        "model_b1.add(Dense(20, activation='relu'))\n",
        "model_b1.add(Dense(1, activation='sigmoid'))\n",
        "# compile the model\n",
        "model_b1.compile(optimizer='adam', loss='binary_crossentropy', metrics=['accuracy'])\n",
        "# summarize the model\n",
        "print(model_b1.summary())"
      ],
      "metadata": {
        "colab": {
          "base_uri": "https://localhost:8080/"
        },
        "id": "p1m64vdnwfm2",
        "outputId": "7d6447a7-d14d-4e82-c2d3-5974e24d6a5a"
      },
      "execution_count": null,
      "outputs": [
        {
          "output_type": "stream",
          "name": "stdout",
          "text": [
            "Model: \"sequential_20\"\n",
            "_________________________________________________________________\n",
            " Layer (type)                Output Shape              Param #   \n",
            "=================================================================\n",
            " embedding_20 (Embedding)    (None, 60, 60)            1154880   \n",
            "                                                                 \n",
            " conv1d_43 (Conv1D)          (None, 60, 128)           38528     \n",
            "                                                                 \n",
            " max_pooling1d_43 (MaxPoolin  (None, 30, 128)          0         \n",
            " g1D)                                                            \n",
            "                                                                 \n",
            " conv1d_44 (Conv1D)          (None, 26, 32)            20512     \n",
            "                                                                 \n",
            " max_pooling1d_44 (MaxPoolin  (None, 13, 32)           0         \n",
            " g1D)                                                            \n",
            "                                                                 \n",
            " flatten_20 (Flatten)        (None, 416)               0         \n",
            "                                                                 \n",
            " dense_40 (Dense)            (None, 20)                8340      \n",
            "                                                                 \n",
            " dense_41 (Dense)            (None, 1)                 21        \n",
            "                                                                 \n",
            "=================================================================\n",
            "Total params: 1,222,281\n",
            "Trainable params: 1,222,281\n",
            "Non-trainable params: 0\n",
            "_________________________________________________________________\n",
            "None\n"
          ]
        }
      ]
    },
    {
      "cell_type": "code",
      "source": [
        "# fit the model\n",
        "####SOURCE:::  https://datascience.stackexchange.com/questions/45165/how-to-get-accuracy-f1-precision-and-recall-for-a-keras-model \n",
        "model_b1.fit(tensor_train, y_train, epochs=5, verbose=1,validation_data=(tensor_val, y_val))\n",
        "# evaluate the model\n",
        "accuracy = model_b1.evaluate(tensor_test, binary_test.label, verbose=1)\n",
        "print(\"Accuracy for binary test data\",accuracy[1])\n",
        "from sklearn.metrics import classification_report\n",
        "from sklearn.metrics import confusion_matrix\n",
        "import seaborn as sns\n",
        "\n",
        "y_pred = model_b1.predict(tensor_test, verbose=1)\n",
        "#y_pred_bool = np.argmax(y_pred, axis=1) #argmax makes predictions 0 since there is one value so I set a threshold\n",
        "y_pred_bool=y_pred.copy()\n",
        "y_pred_bool[y_pred_bool<0.5]=0\n",
        "y_pred_bool[y_pred_bool>0.5]=1\n",
        "\n",
        "print(classification_report(binary_test.label, y_pred_bool))\n",
        "\n",
        "cf_matrix=confusion_matrix(binary_test.label, y_pred_bool)\n",
        "sns.heatmap(cf_matrix, annot=True,fmt=\"d\")"
      ],
      "metadata": {
        "colab": {
          "base_uri": "https://localhost:8080/",
          "height": 647
        },
        "id": "-XzU4tGPxNH1",
        "outputId": "ecebaf29-a716-4d1e-8bda-e3fd2b97d7c2"
      },
      "execution_count": null,
      "outputs": [
        {
          "output_type": "stream",
          "name": "stdout",
          "text": [
            "Epoch 1/5\n",
            "406/406 [==============================] - 17s 38ms/step - loss: 0.3588 - accuracy: 0.8241 - val_loss: 0.2331 - val_accuracy: 0.9035\n",
            "Epoch 2/5\n",
            "406/406 [==============================] - 13s 32ms/step - loss: 0.1430 - accuracy: 0.9474 - val_loss: 0.2641 - val_accuracy: 0.9042\n",
            "Epoch 3/5\n",
            "406/406 [==============================] - 13s 32ms/step - loss: 0.0684 - accuracy: 0.9782 - val_loss: 0.3224 - val_accuracy: 0.8890\n",
            "Epoch 4/5\n",
            "406/406 [==============================] - 13s 33ms/step - loss: 0.0321 - accuracy: 0.9900 - val_loss: 0.4679 - val_accuracy: 0.8931\n",
            "Epoch 5/5\n",
            "406/406 [==============================] - 13s 33ms/step - loss: 0.0222 - accuracy: 0.9930 - val_loss: 0.4798 - val_accuracy: 0.8952\n",
            "50/50 [==============================] - 0s 6ms/step - loss: 0.5386 - accuracy: 0.8788\n",
            "Accuracy for binary test data 0.8788449764251709\n",
            "50/50 [==============================] - 0s 6ms/step\n",
            "              precision    recall  f1-score   support\n",
            "\n",
            "           0       0.85      0.91      0.88       773\n",
            "           1       0.91      0.85      0.88       820\n",
            "\n",
            "    accuracy                           0.88      1593\n",
            "   macro avg       0.88      0.88      0.88      1593\n",
            "weighted avg       0.88      0.88      0.88      1593\n",
            "\n"
          ]
        },
        {
          "output_type": "execute_result",
          "data": {
            "text/plain": [
              "<matplotlib.axes._subplots.AxesSubplot at 0x7f063683ed50>"
            ]
          },
          "metadata": {},
          "execution_count": 142
        },
        {
          "output_type": "display_data",
          "data": {
            "text/plain": [
              "<Figure size 432x288 with 2 Axes>"
            ],
            "image/png": "[encoded data removed]"
          },
          "metadata": {
            "needs_background": "light"
          }
        }
      ]
    },
    {
      "cell_type": "code",
      "source": [
        "##############################################   BINARYYYYYYYYYY WITH  RANDOM - EMBEDDING MATRIX   ##############################################\n",
        "##############################################   BINARYYYYYYYYYY    ##############################################       \n",
        "# Create Embedding Matrices and Layers\n",
        "\n",
        "# Building the CNN Model\n",
        "model_b7 = Sequential()      # initilaizing the Sequential nature for CNN model\n",
        "model_b7.add(Embedding(vocab_size, 60, input_length=max_pad))\n",
        "model_b7.add(Conv1D(256, 5, padding='same', activation='relu'))\n",
        "model_b7.add(MaxPooling1D())\n",
        "model_b7.add(Conv1D(128, 5, padding='same', activation='relu'))\n",
        "model_b7.add(MaxPooling1D())\n",
        "model_b7.add(Conv1D(64,5, activation='relu'))\n",
        "#model_b7.add(MaxPooling1D())\n",
        "model_b7.add(Conv1D(32,5, activation='relu'))\n",
        "#model_b7.add(MaxPooling1D())\n",
        "model_b7.add(Flatten())\n",
        "model_b7.add(Dense(20, activation='relu'))\n",
        "model_b7.add(Dense(1, activation='sigmoid'))\n",
        "# compile the model\n",
        "model_b7.compile(optimizer='adam', loss='binary_crossentropy', metrics=['accuracy'])\n",
        "# summarize the model\n",
        "print(model_b7.summary())"
      ],
      "metadata": {
        "colab": {
          "base_uri": "https://localhost:8080/"
        },
        "id": "DH9Y3lSIjMTy",
        "outputId": "fef38e83-80c3-475d-e7b2-f6fe74940dbb"
      },
      "execution_count": null,
      "outputs": [
        {
          "output_type": "stream",
          "name": "stdout",
          "text": [
            "Model: \"sequential_2\"\n",
            "_________________________________________________________________\n",
            " Layer (type)                Output Shape              Param #   \n",
            "=================================================================\n",
            " embedding_2 (Embedding)     (None, 60, 60)            1154880   \n",
            "                                                                 \n",
            " conv1d_8 (Conv1D)           (None, 60, 256)           77056     \n",
            "                                                                 \n",
            " max_pooling1d_7 (MaxPooling  (None, 30, 256)          0         \n",
            " 1D)                                                             \n",
            "                                                                 \n",
            " conv1d_9 (Conv1D)           (None, 30, 128)           163968    \n",
            "                                                                 \n",
            " max_pooling1d_8 (MaxPooling  (None, 15, 128)          0         \n",
            " 1D)                                                             \n",
            "                                                                 \n",
            " conv1d_10 (Conv1D)          (None, 11, 64)            41024     \n",
            "                                                                 \n",
            " conv1d_11 (Conv1D)          (None, 7, 32)             10272     \n",
            "                                                                 \n",
            " flatten_1 (Flatten)         (None, 224)               0         \n",
            "                                                                 \n",
            " dense_2 (Dense)             (None, 20)                4500      \n",
            "                                                                 \n",
            " dense_3 (Dense)             (None, 1)                 21        \n",
            "                                                                 \n",
            "=================================================================\n",
            "Total params: 1,451,721\n",
            "Trainable params: 1,451,721\n",
            "Non-trainable params: 0\n",
            "_________________________________________________________________\n",
            "None\n"
          ]
        }
      ]
    },
    {
      "cell_type": "code",
      "source": [
        "# fit the model\n",
        "####SOURCE:::  https://datascience.stackexchange.com/questions/45165/how-to-get-accuracy-f1-precision-and-recall-for-a-keras-model \n",
        "model_b7.fit(tensor_train, y_train, epochs=5, verbose=1,validation_data=(tensor_val, y_val))\n",
        "# evaluate the model\n",
        "accuracy = model_b7.evaluate(tensor_test, binary_test.label, verbose=1)\n",
        "print(\"Accuracy for binary test data\",accuracy[1])\n",
        "from sklearn.metrics import classification_report\n",
        "from sklearn.metrics import confusion_matrix\n",
        "import seaborn as sns\n",
        "\n",
        "y_pred = model_b7.predict(tensor_test, verbose=1)\n",
        "#y_pred_bool = np.argmax(y_pred, axis=1) #argmax makes predictions 0 since there is one value so I set a threshold\n",
        "y_pred_bool=y_pred.copy()\n",
        "y_pred_bool[y_pred_bool<0.5]=0\n",
        "y_pred_bool[y_pred_bool>0.5]=1\n",
        "\n",
        "print(classification_report(binary_test.label, y_pred_bool))\n",
        "\n",
        "cf_matrix=confusion_matrix(binary_test.label, y_pred_bool)\n",
        "sns.heatmap(cf_matrix, annot=True,fmt=\"d\")"
      ],
      "metadata": {
        "colab": {
          "base_uri": "https://localhost:8080/",
          "height": 643
        },
        "id": "KVG-udhpjN1J",
        "outputId": "1aa3a335-0ff2-46e2-90e7-abdd073a2353"
      },
      "execution_count": null,
      "outputs": [
        {
          "output_type": "stream",
          "name": "stdout",
          "text": [
            "Epoch 1/5\n",
            "406/406 [==============================] - 35s 80ms/step - loss: 0.3566 - accuracy: 0.8339 - val_loss: 0.2440 - val_accuracy: 0.9035\n",
            "Epoch 2/5\n",
            "406/406 [==============================] - 30s 74ms/step - loss: 0.1527 - accuracy: 0.9435 - val_loss: 0.2460 - val_accuracy: 0.9028\n",
            "Epoch 3/5\n",
            "406/406 [==============================] - 30s 73ms/step - loss: 0.0745 - accuracy: 0.9757 - val_loss: 0.3690 - val_accuracy: 0.8924\n",
            "Epoch 4/5\n",
            "406/406 [==============================] - 31s 77ms/step - loss: 0.0430 - accuracy: 0.9850 - val_loss: 0.3924 - val_accuracy: 0.8966\n",
            "Epoch 5/5\n",
            "406/406 [==============================] - 30s 74ms/step - loss: 0.0260 - accuracy: 0.9915 - val_loss: 0.5957 - val_accuracy: 0.8876\n",
            "50/50 [==============================] - 1s 15ms/step - loss: 0.6615 - accuracy: 0.8776\n",
            "Accuracy for binary test data 0.8775894641876221\n",
            "50/50 [==============================] - 1s 15ms/step\n",
            "              precision    recall  f1-score   support\n",
            "\n",
            "           0       0.86      0.89      0.88       773\n",
            "           1       0.89      0.87      0.88       820\n",
            "\n",
            "    accuracy                           0.88      1593\n",
            "   macro avg       0.88      0.88      0.88      1593\n",
            "weighted avg       0.88      0.88      0.88      1593\n",
            "\n"
          ]
        },
        {
          "output_type": "execute_result",
          "data": {
            "text/plain": [
              "<matplotlib.axes._subplots.AxesSubplot at 0x7f60f1c8df10>"
            ]
          },
          "metadata": {},
          "execution_count": 38
        },
        {
          "output_type": "display_data",
          "data": {
            "text/plain": [
              "<Figure size 432x288 with 2 Axes>"
            ],
            "image/png": "[encoded data removed]"
          },
          "metadata": {
            "needs_background": "light"
          }
        }
      ]
    },
    {
      "cell_type": "code",
      "source": [
        "##############################################   BINARYYYYYYYYYY WITH  RANDOM - EMBEDDING MATRIX   ##############################################\n",
        "##############################################   BINARYYYYYYYYYY    ##############################################       \n",
        "# Create Embedding Matrices and Layers\n",
        "\n",
        "# Building the CNN Model\n",
        "model_b8 = Sequential()      # initilaizing the Sequential nature for CNN model\n",
        "model_b8.add(Embedding(vocab_size, 60, input_length=max_pad))\n",
        "model_b8.add(Conv1D(256, 9, padding='same', activation='relu'))\n",
        "model_b8.add(MaxPooling1D())\n",
        "model_b8.add(Conv1D(128, 9, padding='same', activation='relu'))\n",
        "model_b8.add(MaxPooling1D())\n",
        "model_b8.add(Conv1D(64,9, activation='relu'))\n",
        "#model_b7.add(MaxPooling1D())\n",
        "model_b8.add(Conv1D(32,5, activation='relu'))\n",
        "#model_b7.add(MaxPooling1D())\n",
        "model_b8.add(Flatten())\n",
        "model_b8.add(Dense(250, activation='relu'))\n",
        "model_b8.add(Dense(200, activation='relu'))\n",
        "model_b8.add(Dense(1, activation='sigmoid'))\n",
        "# compile the model\n",
        "model_b8.compile(optimizer='adam', loss='binary_crossentropy', metrics=['accuracy'])\n",
        "# summarize the model\n",
        "print(model_b8.summary())"
      ],
      "metadata": {
        "colab": {
          "base_uri": "https://localhost:8080/"
        },
        "id": "OKGiGDJvmNHR",
        "outputId": "deffbeb4-efcf-4cd7-dd42-c4e518125a22"
      },
      "execution_count": null,
      "outputs": [
        {
          "output_type": "stream",
          "name": "stdout",
          "text": [
            "Model: \"sequential_3\"\n",
            "_________________________________________________________________\n",
            " Layer (type)                Output Shape              Param #   \n",
            "=================================================================\n",
            " embedding_3 (Embedding)     (None, 60, 60)            1154880   \n",
            "                                                                 \n",
            " conv1d_12 (Conv1D)          (None, 60, 256)           138496    \n",
            "                                                                 \n",
            " max_pooling1d_9 (MaxPooling  (None, 30, 256)          0         \n",
            " 1D)                                                             \n",
            "                                                                 \n",
            " conv1d_13 (Conv1D)          (None, 30, 128)           295040    \n",
            "                                                                 \n",
            " max_pooling1d_10 (MaxPoolin  (None, 15, 128)          0         \n",
            " g1D)                                                            \n",
            "                                                                 \n",
            " conv1d_14 (Conv1D)          (None, 7, 64)             73792     \n",
            "                                                                 \n",
            " conv1d_15 (Conv1D)          (None, 3, 32)             10272     \n",
            "                                                                 \n",
            " flatten_2 (Flatten)         (None, 96)                0         \n",
            "                                                                 \n",
            " dense_4 (Dense)             (None, 250)               24250     \n",
            "                                                                 \n",
            " dense_5 (Dense)             (None, 200)               50200     \n",
            "                                                                 \n",
            " dense_6 (Dense)             (None, 1)                 201       \n",
            "                                                                 \n",
            "=================================================================\n",
            "Total params: 1,747,131\n",
            "Trainable params: 1,747,131\n",
            "Non-trainable params: 0\n",
            "_________________________________________________________________\n",
            "None\n"
          ]
        }
      ]
    },
    {
      "cell_type": "code",
      "source": [
        "# fit the model\n",
        "####SOURCE:::  https://datascience.stackexchange.com/questions/45165/how-to-get-accuracy-f1-precision-and-recall-for-a-keras-model \n",
        "model_b8.fit(tensor_train, y_train, epochs=5, verbose=1,validation_data=(tensor_val, y_val))\n",
        "# evaluate the model\n",
        "accuracy = model_b8.evaluate(tensor_test, binary_test.label, verbose=1)\n",
        "print(\"Accuracy for binary test data\",accuracy[1])\n",
        "from sklearn.metrics import classification_report\n",
        "from sklearn.metrics import confusion_matrix\n",
        "import seaborn as sns\n",
        "\n",
        "y_pred = model_b8.predict(tensor_test, verbose=1)\n",
        "#y_pred_bool = np.argmax(y_pred, axis=1) #argmax makes predictions 0 since there is one value so I set a threshold\n",
        "y_pred_bool=y_pred.copy()\n",
        "y_pred_bool[y_pred_bool<0.5]=0\n",
        "y_pred_bool[y_pred_bool>0.5]=1\n",
        "\n",
        "print(classification_report(binary_test.label, y_pred_bool))\n",
        "\n",
        "cf_matrix=confusion_matrix(binary_test.label, y_pred_bool)\n",
        "sns.heatmap(cf_matrix, annot=True,fmt=\"d\")"
      ],
      "metadata": {
        "colab": {
          "base_uri": "https://localhost:8080/",
          "height": 643
        },
        "id": "eiynMGA-mWbt",
        "outputId": "b4f5e39f-b952-434e-f85f-3a790301942b"
      },
      "execution_count": null,
      "outputs": [
        {
          "output_type": "stream",
          "name": "stdout",
          "text": [
            "Epoch 1/5\n",
            "406/406 [==============================] - 50s 120ms/step - loss: 0.3398 - accuracy: 0.8474 - val_loss: 0.2428 - val_accuracy: 0.9008\n",
            "Epoch 2/5\n",
            "406/406 [==============================] - 50s 122ms/step - loss: 0.1501 - accuracy: 0.9447 - val_loss: 0.3392 - val_accuracy: 0.8987\n",
            "Epoch 3/5\n",
            "406/406 [==============================] - 48s 119ms/step - loss: 0.0794 - accuracy: 0.9732 - val_loss: 0.4836 - val_accuracy: 0.8723\n",
            "Epoch 4/5\n",
            "406/406 [==============================] - 50s 122ms/step - loss: 0.0469 - accuracy: 0.9842 - val_loss: 0.4602 - val_accuracy: 0.8820\n",
            "Epoch 5/5\n",
            "406/406 [==============================] - 49s 119ms/step - loss: 0.0256 - accuracy: 0.9907 - val_loss: 0.6656 - val_accuracy: 0.8973\n",
            "50/50 [==============================] - 1s 24ms/step - loss: 0.6745 - accuracy: 0.8814\n",
            "Accuracy for binary test data 0.8813559412956238\n",
            "50/50 [==============================] - 1s 23ms/step\n",
            "              precision    recall  f1-score   support\n",
            "\n",
            "           0       0.87      0.88      0.88       773\n",
            "           1       0.89      0.88      0.88       820\n",
            "\n",
            "    accuracy                           0.88      1593\n",
            "   macro avg       0.88      0.88      0.88      1593\n",
            "weighted avg       0.88      0.88      0.88      1593\n",
            "\n"
          ]
        },
        {
          "output_type": "execute_result",
          "data": {
            "text/plain": [
              "<matplotlib.axes._subplots.AxesSubplot at 0x7f60ef1f5ad0>"
            ]
          },
          "metadata": {},
          "execution_count": 40
        },
        {
          "output_type": "display_data",
          "data": {
            "text/plain": [
              "<Figure size 432x288 with 2 Axes>"
            ],
            "image/png": "[encoded data removed]"
          },
          "metadata": {
            "needs_background": "light"
          }
        }
      ]
    },
    {
      "cell_type": "markdown",
      "source": [
        "# PRE-TRAINED EMBEDDING -BINARY"
      ],
      "metadata": {
        "id": "qOSXKnnqjevN"
      }
    },
    {
      "cell_type": "code",
      "source": [
        " ##############################################   BINARYYYYYYYYYY WITH  PRETRAINEDDD WORD - EMBEDDING MATRIX   ##############################################\n",
        "##############################################   BINARYYYYYYYYYY    ##############################################  \n",
        "\n",
        "# Create Embedding Matrices and Layers\n",
        "\n",
        "# Building the CNN Model\n",
        "model_b2 = Sequential()      # initilaizing the Sequential nature for CNN model\n",
        "model_b2.add(Embedding(vocab_size, 50 ,input_length=max_pad,weights=[pre_trained_embedding_matrix],trainable=True))\n",
        "model_b2.add(Conv1D(128, 5, padding='same', activation='relu'))\n",
        "model_b2.add(MaxPooling1D())\n",
        "model_b2.add(Conv1D(32,5, activation='relu'))\n",
        "model_b2.add(MaxPooling1D())\n",
        "model_b2.add(Flatten())\n",
        "model_b2.add(Dense(20, activation='relu'))\n",
        "model_b2.add(Dense(1, activation='sigmoid'))\n",
        "# compile the model\n",
        "model_b2.compile(optimizer='adam', loss='binary_crossentropy', metrics=['accuracy'])\n",
        "# summarize the model\n",
        "print(model_b2.summary())"
      ],
      "metadata": {
        "colab": {
          "base_uri": "https://localhost:8080/"
        },
        "id": "97PpUN5xwfh_",
        "outputId": "f04f56c0-6a38-49e5-e89b-4eaa8a4b2734"
      },
      "execution_count": null,
      "outputs": [
        {
          "output_type": "stream",
          "name": "stdout",
          "text": [
            "Model: \"sequential_18\"\n",
            "_________________________________________________________________\n",
            " Layer (type)                Output Shape              Param #   \n",
            "=================================================================\n",
            " embedding_18 (Embedding)    (None, 60, 50)            962400    \n",
            "                                                                 \n",
            " conv1d_39 (Conv1D)          (None, 60, 128)           32128     \n",
            "                                                                 \n",
            " max_pooling1d_39 (MaxPoolin  (None, 30, 128)          0         \n",
            " g1D)                                                            \n",
            "                                                                 \n",
            " conv1d_40 (Conv1D)          (None, 26, 32)            20512     \n",
            "                                                                 \n",
            " max_pooling1d_40 (MaxPoolin  (None, 13, 32)           0         \n",
            " g1D)                                                            \n",
            "                                                                 \n",
            " flatten_18 (Flatten)        (None, 416)               0         \n",
            "                                                                 \n",
            " dense_36 (Dense)            (None, 20)                8340      \n",
            "                                                                 \n",
            " dense_37 (Dense)            (None, 1)                 21        \n",
            "                                                                 \n",
            "=================================================================\n",
            "Total params: 1,023,401\n",
            "Trainable params: 1,023,401\n",
            "Non-trainable params: 0\n",
            "_________________________________________________________________\n",
            "None\n"
          ]
        }
      ]
    },
    {
      "cell_type": "code",
      "source": [
        "# fit the model\n",
        "####SOURCE:::  https://datascience.stackexchange.com/questions/45165/how-to-get-accuracy-f1-precision-and-recall-for-a-keras-model \n",
        "model_b2.fit(tensor_train, y_train, epochs=5, verbose=1,validation_data=(tensor_val, y_val))\n",
        "# evaluate the model\n",
        "accuracy = model_b2.evaluate(tensor_test, binary_test.label, verbose=1)\n",
        "print(\"Accuracy for binary test data\",accuracy[1])\n",
        "from sklearn.metrics import classification_report\n",
        "from sklearn.metrics import confusion_matrix\n",
        "import seaborn as sns\n",
        "\n",
        "y_pred = model_b2.predict(tensor_test, verbose=1)\n",
        "#y_pred_bool = np.argmax(y_pred, axis=1) #argmax makes predictions 0 since there is one value so I set a threshold\n",
        "y_pred_bool=y_pred.copy()\n",
        "y_pred_bool[y_pred_bool<0.5]=0\n",
        "y_pred_bool[y_pred_bool>0.5]=1\n",
        "\n",
        "print(classification_report(binary_test.label, y_pred_bool))\n",
        "\n",
        "cf_matrix=confusion_matrix(binary_test.label, y_pred_bool)\n",
        "sns.heatmap(cf_matrix, annot=True,fmt=\"d\")"
      ],
      "metadata": {
        "colab": {
          "base_uri": "https://localhost:8080/",
          "height": 644
        },
        "id": "VmsrvS8KwGDy",
        "outputId": "3276a846-da59-4866-b04f-3236482ca14b"
      },
      "execution_count": null,
      "outputs": [
        {
          "output_type": "stream",
          "name": "stdout",
          "text": [
            "Epoch 1/5\n",
            "406/406 [==============================] - 12s 29ms/step - loss: 0.4566 - accuracy: 0.7735 - val_loss: 0.2843 - val_accuracy: 0.8876\n",
            "Epoch 2/5\n",
            "406/406 [==============================] - 12s 28ms/step - loss: 0.2353 - accuracy: 0.9101 - val_loss: 0.2369 - val_accuracy: 0.9042\n",
            "Epoch 3/5\n",
            "406/406 [==============================] - 11s 28ms/step - loss: 0.1423 - accuracy: 0.9483 - val_loss: 0.2637 - val_accuracy: 0.9042\n",
            "Epoch 4/5\n",
            "406/406 [==============================] - 11s 28ms/step - loss: 0.0753 - accuracy: 0.9749 - val_loss: 0.2869 - val_accuracy: 0.9035\n",
            "Epoch 5/5\n",
            "406/406 [==============================] - 11s 28ms/step - loss: 0.0277 - accuracy: 0.9924 - val_loss: 0.3666 - val_accuracy: 0.9077\n",
            "50/50 [==============================] - 0s 6ms/step - loss: 0.4854 - accuracy: 0.8870\n",
            "Accuracy for binary test data 0.887005627155304\n",
            "50/50 [==============================] - 0s 6ms/step\n",
            "              precision    recall  f1-score   support\n",
            "\n",
            "           0       0.87      0.91      0.89       773\n",
            "           1       0.91      0.87      0.89       820\n",
            "\n",
            "    accuracy                           0.89      1593\n",
            "   macro avg       0.89      0.89      0.89      1593\n",
            "weighted avg       0.89      0.89      0.89      1593\n",
            "\n"
          ]
        },
        {
          "output_type": "execute_result",
          "data": {
            "text/plain": [
              "<matplotlib.axes._subplots.AxesSubplot at 0x7f063d5cae10>"
            ]
          },
          "metadata": {},
          "execution_count": 138
        },
        {
          "output_type": "display_data",
          "data": {
            "text/plain": [
              "<Figure size 432x288 with 2 Axes>"
            ],
            "image/png": "[encoded data removed]"
          },
          "metadata": {
            "needs_background": "light"
          }
        }
      ]
    },
    {
      "cell_type": "code",
      "source": [
        " ##############################################   BINARYYYYYYYYYY WITH  PRETRAINEDDD WORD - EMBEDDING MATRIX   ##############################################\n",
        "##############################################   BINARYYYYYYYYYY    ##############################################  \n",
        "\n",
        "# Create Embedding Matrices and Layers\n",
        "\n",
        "# Building the CNN Model\n",
        "model_b9 = Sequential()      # initilaizing the Sequential nature for CNN model\n",
        "model_b9.add(Embedding(vocab_size, 50 ,input_length=max_pad,weights=[pre_trained_embedding_matrix],trainable=True))\n",
        "model_b9.add(Conv1D(256, 3, padding='same', activation='relu'))\n",
        "model_b9.add(Conv1D(128, 3, padding='same', activation='relu'))\n",
        "model_b9.add(MaxPooling1D())\n",
        "model_b9.add(Conv1D(32,5, activation='relu'))\n",
        "model_b9.add(MaxPooling1D())\n",
        "model_b9.add(Flatten())\n",
        "model_b9.add(Dense(20, activation='relu'))\n",
        "model_b9.add(Dense(1, activation='sigmoid'))\n",
        "# compile the model\n",
        "model_b9.compile(optimizer='adam', loss='binary_crossentropy', metrics=['accuracy'])\n",
        "# summarize the model\n",
        "print(model_b9.summary())"
      ],
      "metadata": {
        "colab": {
          "base_uri": "https://localhost:8080/"
        },
        "id": "AaGPg6shokqB",
        "outputId": "4e24c38f-cc18-4787-a5ae-f1c6c260fbb1"
      },
      "execution_count": null,
      "outputs": [
        {
          "output_type": "stream",
          "name": "stdout",
          "text": [
            "Model: \"sequential_4\"\n",
            "_________________________________________________________________\n",
            " Layer (type)                Output Shape              Param #   \n",
            "=================================================================\n",
            " embedding_4 (Embedding)     (None, 60, 50)            962400    \n",
            "                                                                 \n",
            " conv1d_16 (Conv1D)          (None, 60, 256)           38656     \n",
            "                                                                 \n",
            " conv1d_17 (Conv1D)          (None, 60, 128)           98432     \n",
            "                                                                 \n",
            " max_pooling1d_11 (MaxPoolin  (None, 30, 128)          0         \n",
            " g1D)                                                            \n",
            "                                                                 \n",
            " conv1d_18 (Conv1D)          (None, 26, 32)            20512     \n",
            "                                                                 \n",
            " max_pooling1d_12 (MaxPoolin  (None, 13, 32)           0         \n",
            " g1D)                                                            \n",
            "                                                                 \n",
            " flatten_3 (Flatten)         (None, 416)               0         \n",
            "                                                                 \n",
            " dense_7 (Dense)             (None, 20)                8340      \n",
            "                                                                 \n",
            " dense_8 (Dense)             (None, 1)                 21        \n",
            "                                                                 \n",
            "=================================================================\n",
            "Total params: 1,128,361\n",
            "Trainable params: 1,128,361\n",
            "Non-trainable params: 0\n",
            "_________________________________________________________________\n",
            "None\n"
          ]
        }
      ]
    },
    {
      "cell_type": "code",
      "source": [
        "# fit the model\n",
        "####SOURCE:::  https://datascience.stackexchange.com/questions/45165/how-to-get-accuracy-f1-precision-and-recall-for-a-keras-model \n",
        "model_b9.fit(tensor_train, y_train, epochs=5, verbose=1,validation_data=(tensor_val, y_val))\n",
        "# evaluate the model\n",
        "accuracy = model_b9.evaluate(tensor_test, binary_test.label, verbose=1)\n",
        "print(\"Accuracy for binary test data\",accuracy[1])\n",
        "from sklearn.metrics import classification_report\n",
        "from sklearn.metrics import confusion_matrix\n",
        "import seaborn as sns\n",
        "\n",
        "y_pred = model_b9.predict(tensor_test, verbose=1)\n",
        "#y_pred_bool = np.argmax(y_pred, axis=1) #argmax makes predictions 0 since there is one value so I set a threshold\n",
        "y_pred_bool=y_pred.copy()\n",
        "y_pred_bool[y_pred_bool<0.5]=0\n",
        "y_pred_bool[y_pred_bool>0.5]=1\n",
        "\n",
        "print(classification_report(binary_test.label, y_pred_bool))\n",
        "\n",
        "cf_matrix=confusion_matrix(binary_test.label, y_pred_bool)\n",
        "sns.heatmap(cf_matrix, annot=True,fmt=\"d\")"
      ],
      "metadata": {
        "colab": {
          "base_uri": "https://localhost:8080/",
          "height": 643
        },
        "id": "r80Wu9LOoo5U",
        "outputId": "d296fba3-a61a-4615-d37f-2bb14d201f35"
      },
      "execution_count": null,
      "outputs": [
        {
          "output_type": "stream",
          "name": "stdout",
          "text": [
            "Epoch 1/5\n",
            "406/406 [==============================] - 28s 66ms/step - loss: 0.4267 - accuracy: 0.7955 - val_loss: 0.2567 - val_accuracy: 0.8945\n",
            "Epoch 2/5\n",
            "406/406 [==============================] - 27s 65ms/step - loss: 0.2280 - accuracy: 0.9097 - val_loss: 0.2297 - val_accuracy: 0.9188\n",
            "Epoch 3/5\n",
            "406/406 [==============================] - 27s 67ms/step - loss: 0.1510 - accuracy: 0.9445 - val_loss: 0.2370 - val_accuracy: 0.9146\n",
            "Epoch 4/5\n",
            "406/406 [==============================] - 26s 65ms/step - loss: 0.0934 - accuracy: 0.9673 - val_loss: 0.2798 - val_accuracy: 0.9028\n",
            "Epoch 5/5\n",
            "406/406 [==============================] - 29s 71ms/step - loss: 0.0537 - accuracy: 0.9830 - val_loss: 0.3230 - val_accuracy: 0.9070\n",
            "50/50 [==============================] - 1s 13ms/step - loss: 0.3899 - accuracy: 0.8908\n",
            "Accuracy for binary test data 0.8907721042633057\n",
            "50/50 [==============================] - 1s 14ms/step\n",
            "              precision    recall  f1-score   support\n",
            "\n",
            "           0       0.89      0.88      0.89       773\n",
            "           1       0.89      0.90      0.89       820\n",
            "\n",
            "    accuracy                           0.89      1593\n",
            "   macro avg       0.89      0.89      0.89      1593\n",
            "weighted avg       0.89      0.89      0.89      1593\n",
            "\n"
          ]
        },
        {
          "output_type": "execute_result",
          "data": {
            "text/plain": [
              "<matplotlib.axes._subplots.AxesSubplot at 0x7f60ef752e90>"
            ]
          },
          "metadata": {},
          "execution_count": 42
        },
        {
          "output_type": "display_data",
          "data": {
            "text/plain": [
              "<Figure size 432x288 with 2 Axes>"
            ],
            "image/png": "[encoded data removed]"
          },
          "metadata": {
            "needs_background": "light"
          }
        }
      ]
    },
    {
      "cell_type": "markdown",
      "source": [
        "# TRAINED EMBEDDING -BINARY"
      ],
      "metadata": {
        "id": "LhUMZ_Z2jWiJ"
      }
    },
    {
      "cell_type": "code",
      "source": [
        "##############################################   BINARYYYYYYYYYY WITH  TRAINEDDD FROM SCRATCHH WORD - EMBEDDING MATRIX   ##############################################\n",
        "##############################################   BINARYYYYYYYYYY    ##############################################  \n",
        "\n",
        "# Create Embedding Matrices and Layers\n",
        "\n",
        "# Building the CNN Model\n",
        "model_b3 = Sequential()      # initilaizing the Sequential nature for CNN model\n",
        "model_b3.add(Embedding(vocab_size, 60 ,input_length=max_pad,weights=[trained_embedding_matrix]))\n",
        "model_b3.add(Conv1D(128, 5, padding='same', activation='relu'))\n",
        "model_b3.add(MaxPooling1D())\n",
        "model_b3.add(Conv1D(32,5, activation='relu'))\n",
        "model_b3.add(MaxPooling1D())\n",
        "model_b3.add(Flatten())\n",
        "model_b3.add(Dense(20, activation='relu'))\n",
        "model_b3.add(Dense(1, activation='sigmoid'))\n",
        "# compile the model\n",
        "model_b3.compile(optimizer='adam', loss='binary_crossentropy', metrics=['accuracy'])\n",
        "# summarize the model\n",
        "print(model_b3.summary())"
      ],
      "metadata": {
        "colab": {
          "base_uri": "https://localhost:8080/"
        },
        "id": "GlalH3uvwfcX",
        "outputId": "e5dd9b9e-3f38-43f2-8480-3ff34e5462fe"
      },
      "execution_count": null,
      "outputs": [
        {
          "output_type": "stream",
          "name": "stdout",
          "text": [
            "Model: \"sequential_19\"\n",
            "_________________________________________________________________\n",
            " Layer (type)                Output Shape              Param #   \n",
            "=================================================================\n",
            " embedding_19 (Embedding)    (None, 60, 60)            1154880   \n",
            "                                                                 \n",
            " conv1d_41 (Conv1D)          (None, 60, 128)           38528     \n",
            "                                                                 \n",
            " max_pooling1d_41 (MaxPoolin  (None, 30, 128)          0         \n",
            " g1D)                                                            \n",
            "                                                                 \n",
            " conv1d_42 (Conv1D)          (None, 26, 32)            20512     \n",
            "                                                                 \n",
            " max_pooling1d_42 (MaxPoolin  (None, 13, 32)           0         \n",
            " g1D)                                                            \n",
            "                                                                 \n",
            " flatten_19 (Flatten)        (None, 416)               0         \n",
            "                                                                 \n",
            " dense_38 (Dense)            (None, 20)                8340      \n",
            "                                                                 \n",
            " dense_39 (Dense)            (None, 1)                 21        \n",
            "                                                                 \n",
            "=================================================================\n",
            "Total params: 1,222,281\n",
            "Trainable params: 1,222,281\n",
            "Non-trainable params: 0\n",
            "_________________________________________________________________\n",
            "None\n"
          ]
        }
      ]
    },
    {
      "cell_type": "code",
      "source": [
        "# fit the model\n",
        "####SOURCE:::  https://datascience.stackexchange.com/questions/45165/how-to-get-accuracy-f1-precision-and-recall-for-a-keras-model \n",
        "model_b3.fit(tensor_train, y_train, epochs=5, verbose=1,validation_data=(tensor_val, y_val))\n",
        "# evaluate the model\n",
        "accuracy = model_b3.evaluate(tensor_test, binary_test.label, verbose=1)\n",
        "print(\"Accuracy for binary test data\",accuracy[1])\n",
        "from sklearn.metrics import classification_report\n",
        "from sklearn.metrics import confusion_matrix\n",
        "import seaborn as sns\n",
        "\n",
        "y_pred = model_b3.predict(tensor_test, verbose=1)\n",
        "#y_pred_bool = np.argmax(y_pred, axis=1) #argmax makes predictions 0 since there is one value so I set a threshold\n",
        "y_pred_bool=y_pred.copy()\n",
        "y_pred_bool[y_pred_bool<0.5]=0\n",
        "y_pred_bool[y_pred_bool>0.5]=1\n",
        "\n",
        "print(classification_report(binary_test.label, y_pred_bool))\n",
        "\n",
        "cf_matrix=confusion_matrix(binary_test.label, y_pred_bool)\n",
        "sns.heatmap(cf_matrix, annot=True,fmt=\"d\")"
      ],
      "metadata": {
        "colab": {
          "base_uri": "https://localhost:8080/",
          "height": 643
        },
        "id": "eqUInLC9wF2e",
        "outputId": "e768ab22-666f-4adf-d6a0-99b40b1ed106"
      },
      "execution_count": null,
      "outputs": [
        {
          "output_type": "stream",
          "name": "stdout",
          "text": [
            "Epoch 1/5\n",
            "406/406 [==============================] - 16s 38ms/step - loss: 0.3934 - accuracy: 0.8155 - val_loss: 0.3350 - val_accuracy: 0.8577\n",
            "Epoch 2/5\n",
            "406/406 [==============================] - 13s 31ms/step - loss: 0.2485 - accuracy: 0.8994 - val_loss: 0.2431 - val_accuracy: 0.9084\n",
            "Epoch 3/5\n",
            "406/406 [==============================] - 13s 32ms/step - loss: 0.1660 - accuracy: 0.9359 - val_loss: 0.2274 - val_accuracy: 0.9098\n",
            "Epoch 4/5\n",
            "406/406 [==============================] - 13s 32ms/step - loss: 0.1023 - accuracy: 0.9632 - val_loss: 0.2638 - val_accuracy: 0.9098\n",
            "Epoch 5/5\n",
            "406/406 [==============================] - 13s 32ms/step - loss: 0.0512 - accuracy: 0.9823 - val_loss: 0.3324 - val_accuracy: 0.9001\n",
            "50/50 [==============================] - 0s 7ms/step - loss: 0.3173 - accuracy: 0.9008\n",
            "Accuracy for binary test data 0.9008160829544067\n",
            "50/50 [==============================] - 0s 6ms/step\n",
            "              precision    recall  f1-score   support\n",
            "\n",
            "           0       0.90      0.90      0.90       773\n",
            "           1       0.90      0.91      0.90       820\n",
            "\n",
            "    accuracy                           0.90      1593\n",
            "   macro avg       0.90      0.90      0.90      1593\n",
            "weighted avg       0.90      0.90      0.90      1593\n",
            "\n"
          ]
        },
        {
          "output_type": "execute_result",
          "data": {
            "text/plain": [
              "<matplotlib.axes._subplots.AxesSubplot at 0x7f063b84b610>"
            ]
          },
          "metadata": {},
          "execution_count": 140
        },
        {
          "output_type": "display_data",
          "data": {
            "text/plain": [
              "<Figure size 432x288 with 2 Axes>"
            ],
            "image/png": "[encoded data removed]"
          },
          "metadata": {
            "needs_background": "light"
          }
        }
      ]
    },
    {
      "cell_type": "code",
      "source": [
        "##############################################   BINARYYYYYYYYYY WITH  TRAINEDDD FROM SCRATCHH WORD - EMBEDDING MATRIX   ##############################################\n",
        "##############################################   BINARYYYYYYYYYY    ##############################################  \n",
        "\n",
        "# Create Embedding Matrices and Layers\n",
        "\n",
        "# Building the CNN Model\n",
        "model_b10 = Sequential()      # initilaizing the Sequential nature for CNN model\n",
        "model_b10.add(Embedding(vocab_size, 60 ,input_length=max_pad,weights=[trained_embedding_matrix]))\n",
        "model_b10.add(Conv1D(256, 7, padding='same', activation='relu'))\n",
        "model_b10.add(MaxPooling1D())\n",
        "model_b10.add(Conv1D(128, 7, padding='same', activation='relu'))\n",
        "model_b10.add(MaxPooling1D())\n",
        "model_b10.add(Conv1D(64,7, activation='relu'))\n",
        "model_b10.add(Conv1D(32,7, activation='relu'))\n",
        "model_b10.add(Flatten())\n",
        "model_b10.add(Dense(400, activation='relu'))\n",
        "model_b10.add(Dense(250, activation='relu'))\n",
        "model_b10.add(Dense(20, activation='relu'))\n",
        "model_b10.add(Dense(1, activation='sigmoid'))\n",
        "# compile the model\n",
        "model_b10.compile(optimizer='adam', loss='binary_crossentropy', metrics=['accuracy'])\n",
        "# summarize the model\n",
        "print(model_b10.summary())"
      ],
      "metadata": {
        "id": "MdIOvvTQwFtY",
        "colab": {
          "base_uri": "https://localhost:8080/"
        },
        "outputId": "aa3537f1-af36-4be7-8bfe-ccea57723e0c"
      },
      "execution_count": null,
      "outputs": [
        {
          "output_type": "stream",
          "name": "stdout",
          "text": [
            "Model: \"sequential_8\"\n",
            "_________________________________________________________________\n",
            " Layer (type)                Output Shape              Param #   \n",
            "=================================================================\n",
            " embedding_8 (Embedding)     (None, 60, 60)            1154880   \n",
            "                                                                 \n",
            " conv1d_31 (Conv1D)          (None, 60, 256)           107776    \n",
            "                                                                 \n",
            " max_pooling1d_19 (MaxPoolin  (None, 30, 256)          0         \n",
            " g1D)                                                            \n",
            "                                                                 \n",
            " conv1d_32 (Conv1D)          (None, 30, 128)           229504    \n",
            "                                                                 \n",
            " max_pooling1d_20 (MaxPoolin  (None, 15, 128)          0         \n",
            " g1D)                                                            \n",
            "                                                                 \n",
            " conv1d_33 (Conv1D)          (None, 9, 64)             57408     \n",
            "                                                                 \n",
            " conv1d_34 (Conv1D)          (None, 3, 32)             14368     \n",
            "                                                                 \n",
            " flatten_7 (Flatten)         (None, 96)                0         \n",
            "                                                                 \n",
            " dense_21 (Dense)            (None, 400)               38800     \n",
            "                                                                 \n",
            " dense_22 (Dense)            (None, 250)               100250    \n",
            "                                                                 \n",
            " dense_23 (Dense)            (None, 20)                5020      \n",
            "                                                                 \n",
            " dense_24 (Dense)            (None, 1)                 21        \n",
            "                                                                 \n",
            "=================================================================\n",
            "Total params: 1,708,027\n",
            "Trainable params: 1,708,027\n",
            "Non-trainable params: 0\n",
            "_________________________________________________________________\n",
            "None\n"
          ]
        }
      ]
    },
    {
      "cell_type": "code",
      "source": [
        "# fit the model\n",
        "####SOURCE:::  https://datascience.stackexchange.com/questions/45165/how-to-get-accuracy-f1-precision-and-recall-for-a-keras-model \n",
        "model_b10.fit(tensor_train, y_train, epochs=8, verbose=1,validation_data=(tensor_val, y_val))\n",
        "# evaluate the model\n",
        "accuracy = model_b10.evaluate(tensor_test, binary_test.label, verbose=1)\n",
        "print(\"Accuracy for binary test data\",accuracy[1])\n",
        "from sklearn.metrics import classification_report\n",
        "from sklearn.metrics import confusion_matrix\n",
        "import seaborn as sns\n",
        "\n",
        "y_pred = model_b10.predict(tensor_test, verbose=1)\n",
        "#y_pred_bool = np.argmax(y_pred, axis=1) #argmax makes predictions 0 since there is one value so I set a threshold\n",
        "y_pred_bool=y_pred.copy()\n",
        "y_pred_bool[y_pred_bool<0.5]=0\n",
        "y_pred_bool[y_pred_bool>0.5]=1\n",
        "\n",
        "print(classification_report(binary_test.label, y_pred_bool))\n",
        "\n",
        "cf_matrix=confusion_matrix(binary_test.label, y_pred_bool)\n",
        "sns.heatmap(cf_matrix, annot=True,fmt=\"d\")"
      ],
      "metadata": {
        "id": "rArQY8I52LnM",
        "colab": {
          "base_uri": "https://localhost:8080/",
          "height": 742
        },
        "outputId": "ac869fbf-d444-4007-edce-d86388753421"
      },
      "execution_count": null,
      "outputs": [
        {
          "output_type": "stream",
          "name": "stdout",
          "text": [
            "Epoch 1/8\n",
            "406/406 [==============================] - 45s 106ms/step - loss: 0.3857 - accuracy: 0.8314 - val_loss: 0.2806 - val_accuracy: 0.8883\n",
            "Epoch 2/8\n",
            "406/406 [==============================] - 43s 105ms/step - loss: 0.2514 - accuracy: 0.9003 - val_loss: 0.2778 - val_accuracy: 0.8855\n",
            "Epoch 3/8\n",
            "406/406 [==============================] - 42s 104ms/step - loss: 0.1778 - accuracy: 0.9352 - val_loss: 0.3308 - val_accuracy: 0.8619\n",
            "Epoch 4/8\n",
            "406/406 [==============================] - 42s 103ms/step - loss: 0.1134 - accuracy: 0.9602 - val_loss: 0.2674 - val_accuracy: 0.9126\n",
            "Epoch 5/8\n",
            "406/406 [==============================] - 42s 103ms/step - loss: 0.0726 - accuracy: 0.9762 - val_loss: 0.3043 - val_accuracy: 0.9153\n",
            "Epoch 6/8\n",
            "406/406 [==============================] - 42s 105ms/step - loss: 0.0437 - accuracy: 0.9840 - val_loss: 0.4585 - val_accuracy: 0.9049\n",
            "Epoch 7/8\n",
            "406/406 [==============================] - 42s 103ms/step - loss: 0.0286 - accuracy: 0.9902 - val_loss: 0.5348 - val_accuracy: 0.9022\n",
            "Epoch 8/8\n",
            "406/406 [==============================] - 42s 104ms/step - loss: 0.0238 - accuracy: 0.9921 - val_loss: 0.3703 - val_accuracy: 0.9035\n",
            "50/50 [==============================] - 1s 20ms/step - loss: 0.3959 - accuracy: 0.8933\n",
            "Accuracy for binary test data 0.8932831287384033\n",
            "50/50 [==============================] - 1s 20ms/step\n",
            "              precision    recall  f1-score   support\n",
            "\n",
            "           0       0.89      0.89      0.89       773\n",
            "           1       0.90      0.89      0.90       820\n",
            "\n",
            "    accuracy                           0.89      1593\n",
            "   macro avg       0.89      0.89      0.89      1593\n",
            "weighted avg       0.89      0.89      0.89      1593\n",
            "\n"
          ]
        },
        {
          "output_type": "execute_result",
          "data": {
            "text/plain": [
              "<matplotlib.axes._subplots.AxesSubplot at 0x7f60ef36d4d0>"
            ]
          },
          "metadata": {},
          "execution_count": 47
        },
        {
          "output_type": "display_data",
          "data": {
            "text/plain": [
              "<Figure size 432x288 with 2 Axes>"
            ],
            "image/png": "[encoded data removed]"
          },
          "metadata": {
            "needs_background": "light"
          }
        }
      ]
    },
    {
      "cell_type": "code",
      "source": [
        ""
      ],
      "metadata": {
        "id": "yFOsV2wc2LY5"
      },
      "execution_count": null,
      "outputs": []
    },
    {
      "cell_type": "code",
      "source": [
        ""
      ],
      "metadata": {
        "id": "YjoD1nCB2LRN"
      },
      "execution_count": null,
      "outputs": []
    },
    {
      "cell_type": "code",
      "source": [
        ""
      ],
      "metadata": {
        "id": "eiMdq8ct2LLU"
      },
      "execution_count": null,
      "outputs": []
    },
    {
      "cell_type": "markdown",
      "source": [
        "# **MULTI-CLASS DATA NEURAL NETWORK**"
      ],
      "metadata": {
        "id": "lekdN3yTueF1"
      }
    },
    {
      "cell_type": "code",
      "source": [
        "\n",
        "train_temp= multi_train.copy()\n",
        "test_temp=multi_test.copy()\n"
      ],
      "metadata": {
        "id": "qbUWgLEyqpl4"
      },
      "execution_count": 19,
      "outputs": []
    },
    {
      "cell_type": "code",
      "source": [
        "# Create a validation set from train set\n",
        "# Please use random_state of 22 and test_size of 0.1\n",
        "from sklearn.model_selection import train_test_split\n",
        "\n",
        "X_train, X_val, y_train, y_val = train_test_split( train_temp.text, train_temp.label, test_size=0.1, random_state=22)\n"
      ],
      "metadata": {
        "id": "MHo6zUet0lyb"
      },
      "execution_count": 20,
      "outputs": []
    },
    {
      "cell_type": "code",
      "source": [
        "print(X_train.shape) \n",
        "print(y_train.shape) \n",
        "print(X_val.shape) \n",
        "print(y_val.shape) "
      ],
      "metadata": {
        "colab": {
          "base_uri": "https://localhost:8080/"
        },
        "id": "3Rid7JP_vWdS",
        "outputId": "42f2ef59-1411-4be6-fa5e-4118e1e063de"
      },
      "execution_count": 21,
      "outputs": [
        {
          "output_type": "stream",
          "name": "stdout",
          "text": [
            "(16200,)\n",
            "(16200,)\n",
            "(1800,)\n",
            "(1800,)\n"
          ]
        }
      ]
    },
    {
      "cell_type": "code",
      "source": [
        "from nltk import word_tokenize\n",
        "#tokenize sentences to create word embedding\n",
        "def preprocess2(text: str):\n",
        "    text=word_tokenize(text)\n",
        "    return text\n",
        "\n",
        "X_train=X_train.apply(preprocess2)\n",
        "X_val=X_val.apply(preprocess2)\n",
        "test_temp.text=test_temp.text.apply(preprocess2)"
      ],
      "metadata": {
        "id": "6qc2qMmj6cHz"
      },
      "execution_count": 22,
      "outputs": []
    },
    {
      "cell_type": "code",
      "source": [
        "# Create your own word embeddings from scratch and load a pretrained word embeddings\n",
        "import gensim.downloader as api\n",
        "\n",
        "model_gensim = Word2Vec(sentences=X_train,min_count=1,size=60) \n",
        "#model.save(\"word2vec.model\")\n",
        "\n",
        "glove_vectors = api.load('glove-twitter-50')\n",
        "\n",
        "\n",
        "#all pre-trained model options below\n",
        "'''\n",
        "['fasttext-wiki-news-subwords-300',\n",
        " 'conceptnet-numberbatch-17-06-300',\n",
        " 'word2vec-ruscorpora-300',\n",
        " 'word2vec-google-news-300',\n",
        " 'glove-wiki-gigaword-50',\n",
        " 'glove-wiki-gigaword-100',\n",
        " 'glove-wiki-gigaword-200',\n",
        " 'glove-wiki-gigaword-300',\n",
        " 'glove-twitter-25',\n",
        " 'glove-twitter-50',\n",
        " 'glove-twitter-100',\n",
        " 'glove-twitter-200',\n",
        " '__testing_word2vec-matrix-synopsis']\n",
        "'''\n",
        "\n",
        "# You can check https://radimrehurek.com/gensim/models/word2vec.html for training a word embeddings from scratch\n",
        "\n",
        "\n",
        "# You can check https://radimrehurek.com/gensim/auto_examples/howtos/run_downloader_api.html and https://github.com/RaRe-Technologies/gensim-data for loading pretrained word embeddings. \n",
        "\n"
      ],
      "metadata": {
        "colab": {
          "base_uri": "https://localhost:8080/",
          "height": 83
        },
        "id": "BMvi8kZo0nWl",
        "outputId": "26e2d109-dbf5-45f0-9bed-5a16a814c276"
      },
      "execution_count": 25,
      "outputs": [
        {
          "output_type": "stream",
          "name": "stdout",
          "text": [
            "[==================================================] 100.0% 199.5/199.5MB downloaded\n"
          ]
        },
        {
          "output_type": "execute_result",
          "data": {
            "text/plain": [
              "\"\\n['fasttext-wiki-news-subwords-300',\\n 'conceptnet-numberbatch-17-06-300',\\n 'word2vec-ruscorpora-300',\\n 'word2vec-google-news-300',\\n 'glove-wiki-gigaword-50',\\n 'glove-wiki-gigaword-100',\\n 'glove-wiki-gigaword-200',\\n 'glove-wiki-gigaword-300',\\n 'glove-twitter-25',\\n 'glove-twitter-50',\\n 'glove-twitter-100',\\n 'glove-twitter-200',\\n '__testing_word2vec-matrix-synopsis']\\n\""
            ],
            "application/vnd.google.colaboratory.intrinsic+json": {
              "type": "string"
            }
          },
          "metadata": {},
          "execution_count": 25
        }
      ]
    },
    {
      "cell_type": "code",
      "source": [
        "print(model_gensim.most_similar('second'))\n",
        "print(glove_vectors.most_similar('second'))"
      ],
      "metadata": {
        "colab": {
          "base_uri": "https://localhost:8080/"
        },
        "id": "mSha1gbR7m8N",
        "outputId": "60618bbd-a3e1-4b92-caa4-4052fab560a1"
      },
      "execution_count": 26,
      "outputs": [
        {
          "output_type": "stream",
          "name": "stdout",
          "text": [
            "[('third', 0.8647754192352295), ('first', 0.8287521600723267), ('1st', 0.7931504249572754), ('multipl', 0.7797762155532837), ('last', 0.7792950868606567), ('7yo', 0.7709883451461792), ('homosexu', 0.7406263947486877), ('twice', 0.7318850159645081), ('phoni', 0.7284115552902222), ('2nd', 0.7226787805557251)]\n",
            "[('first', 0.9413641691207886), ('third', 0.9368473291397095), ('another', 0.9118744730949402), ('last', 0.8993719816207886), ('every', 0.8912979960441589), ('end', 0.8854801654815674), ('next', 0.8759546279907227), ('year', 0.8659480214118958), ('fourth', 0.8654847145080566), ('minute', 0.8602057099342346)]\n"
          ]
        }
      ]
    },
    {
      "cell_type": "code",
      "source": [
        "len(model_gensim['second'])"
      ],
      "metadata": {
        "colab": {
          "base_uri": "https://localhost:8080/"
        },
        "id": "Ep4brzJOY6Un",
        "outputId": "a8d0b111-4624-4a31-a9f2-6a0cf260b452"
      },
      "execution_count": 27,
      "outputs": [
        {
          "output_type": "execute_result",
          "data": {
            "text/plain": [
              "60"
            ]
          },
          "metadata": {},
          "execution_count": 27
        }
      ]
    },
    {
      "cell_type": "code",
      "source": [
        "# Prepare your dataset for CNN classifier\n",
        "my_tokenizer=tf.keras.preprocessing.text.Tokenizer(\n",
        "    num_words=100000000000,\n",
        "    filters='!\"#$%&()*+,-./:;<=>?@[\\\\]^_`{|}~\\t\\n',\n",
        "    lower=True,\n",
        "    split=' ',\n",
        "    char_level=False,\n",
        "    oov_token=None,)\n",
        "\n",
        "\n",
        "my_tokenizer.fit_on_texts(X_train)\n",
        "tensor_train = my_tokenizer.texts_to_sequences(X_train) \n",
        "\n",
        "\n",
        "tensor_val = my_tokenizer.texts_to_sequences(X_val) \n",
        "\n",
        "\n",
        "tensor_test = my_tokenizer.texts_to_sequences(test_temp.text) \n",
        "\n",
        "# SOURCES :\n",
        "#https://www.tensorflow.org/addons/tutorials/networks_seq2seq_nmt  "
      ],
      "metadata": {
        "id": "kNTBUOGj3kV7"
      },
      "execution_count": 28,
      "outputs": []
    },
    {
      "cell_type": "code",
      "source": [
        "print(len(tensor_train)) \n",
        "print(len(tensor_val)) \n",
        "print(len(tensor_test)) "
      ],
      "metadata": {
        "id": "gVdEfqcK53mw",
        "colab": {
          "base_uri": "https://localhost:8080/"
        },
        "outputId": "b048d7b4-aae2-494b-aad0-c466936c6a28"
      },
      "execution_count": 29,
      "outputs": [
        {
          "output_type": "stream",
          "name": "stdout",
          "text": [
            "16200\n",
            "1800\n",
            "2000\n"
          ]
        }
      ]
    },
    {
      "cell_type": "code",
      "source": [
        "#my_tokenizer.word_index.items()"
      ],
      "metadata": {
        "id": "A4MIcYPLZSRp"
      },
      "execution_count": 58,
      "outputs": []
    },
    {
      "cell_type": "code",
      "source": [
        "len(my_tokenizer.word_index)"
      ],
      "metadata": {
        "id": "pmbgY6mhBQgL",
        "colab": {
          "base_uri": "https://localhost:8080/"
        },
        "outputId": "5b06ceda-031e-40f5-fcce-67defc057ca8"
      },
      "execution_count": 31,
      "outputs": [
        {
          "output_type": "execute_result",
          "data": {
            "text/plain": [
              "21049"
            ]
          },
          "metadata": {},
          "execution_count": 31
        }
      ]
    },
    {
      "cell_type": "code",
      "source": [
        "\n",
        "####check average + 10 ? max may create problems due to outliers better with avg\n",
        "avg_train=0\n",
        "for i in X_train:\n",
        "  length=len(i)\n",
        "  avg_train +=length\n",
        "\n",
        "avg_train=avg_train/len(X_train)\n",
        "\n",
        "\n",
        "\n",
        "avg_val=0\n",
        "for j in X_val:\n",
        "  length=len(j)\n",
        "  avg_val +=length\n",
        "\n",
        "avg_val=avg_val/len(X_val)\n",
        "print(avg_train, avg_val)\n",
        "\n",
        "#max_pad=int(max(avg_val,avg_train) + 5)\n",
        "max_pad=60\n"
      ],
      "metadata": {
        "id": "keuuM1QEiIwb",
        "colab": {
          "base_uri": "https://localhost:8080/"
        },
        "outputId": "ae6f4568-0b1f-4033-90c9-1f3dff082696"
      },
      "execution_count": 32,
      "outputs": [
        {
          "output_type": "stream",
          "name": "stdout",
          "text": [
            "59.803765432098764 58.895\n"
          ]
        }
      ]
    },
    {
      "cell_type": "code",
      "source": [
        "#we need padding for making data equal simply add 0 to missing indexes \n",
        "\n",
        "tensor_train = pad_sequences(tensor_train, padding='post', maxlen=max_pad)\n",
        "tensor_val = pad_sequences(tensor_val, padding='post', maxlen=max_pad)\n",
        "tensor_test = pad_sequences(tensor_test, padding='post', maxlen=max_pad)"
      ],
      "metadata": {
        "id": "YJuG37UVjry-"
      },
      "execution_count": 33,
      "outputs": []
    },
    {
      "cell_type": "code",
      "source": [
        "\n",
        "##SOURCES I used for word embedding and cnn layers:\n",
        "## https://ml2021.medium.com/multi-class-text-classification-using-cnn-and-word2vec-b17daff45260\n",
        "## https://stackabuse.com/python-for-nlp-multi-label-text-classification-with-keras/\n",
        "## https://machinelearningmastery.com/use-word-embedding-layers-deep-learning-keras/\n",
        "## https://medium.com/voice-tech-podcast/text-classification-using-cnn-9ade8155dfb9\n",
        "## https://blog.keras.io/using-pre-trained-word-embeddings-in-a-keras-model.html \n"
      ],
      "metadata": {
        "id": "y6-ncp8lvjZL"
      },
      "execution_count": 34,
      "outputs": []
    },
    {
      "cell_type": "code",
      "source": [
        "\n",
        " \n",
        "# Create Embedding Matrices and Layers\n",
        "########row sayımız unique words sayısı + 1 unknown word \n",
        "vocab_size=len(my_tokenizer.word_index)+1\n",
        "\n",
        "pretrained=False\n",
        "\n",
        "def create_embedding_matrix(pretrained, my_tokenizer ):\n",
        "  if pretrained: #####PRE-TRAINED WORD EMBEDDING MATRIX\n",
        "    pretrained=True\n",
        "    embedding_matrix = zeros((vocab_size, 50))\n",
        "    for word, index in my_tokenizer.word_index.items():\n",
        "      try:\n",
        "        embedding_vector = glove_vectors[word]\n",
        "        #print(embedding_vector)\n",
        "        embedding_matrix[index] = embedding_vector\n",
        "        #print(\"okpre\")\n",
        "      except:\n",
        "        continue\n",
        "  else: #####TRAINED FROM SCRATCH WORD EMBEDDING MATRIX\n",
        "    pretrained=False\n",
        "    embedding_matrix = zeros((vocab_size, max_pad))\n",
        "    for word, index in my_tokenizer.word_index.items():\n",
        "      try:\n",
        "        embedding_vector = model_gensim[word]\n",
        "        #print(embedding_vector)\n",
        "        embedding_matrix[index] = embedding_vector\n",
        "        #print(\"ok\")\n",
        "      except:\n",
        "        continue\n",
        "  return embedding_matrix\n",
        "\n"
      ],
      "metadata": {
        "id": "5JEWMkcNvYvu"
      },
      "execution_count": 35,
      "outputs": []
    },
    {
      "cell_type": "code",
      "source": [
        "pre_trained_embedding_matrix=create_embedding_matrix(True,my_tokenizer)\n",
        "trained_embedding_matrix=create_embedding_matrix(False,my_tokenizer)"
      ],
      "metadata": {
        "id": "mkr7BziOx3jJ"
      },
      "execution_count": 36,
      "outputs": []
    },
    {
      "cell_type": "code",
      "source": [
        "print(pre_trained_embedding_matrix.shape)\n",
        "print(trained_embedding_matrix.shape)"
      ],
      "metadata": {
        "colab": {
          "base_uri": "https://localhost:8080/"
        },
        "id": "jped9vvw1eXb",
        "outputId": "71a794fe-6cfa-47c8-d6e3-e21cb428df1f"
      },
      "execution_count": 37,
      "outputs": [
        {
          "output_type": "stream",
          "name": "stdout",
          "text": [
            "(21050, 50)\n",
            "(21050, 60)\n"
          ]
        }
      ]
    },
    {
      "cell_type": "markdown",
      "source": [
        "# RANDOM EMBEDDING - MULTI"
      ],
      "metadata": {
        "id": "D0O1xuuvHpPj"
      }
    },
    {
      "cell_type": "code",
      "source": [
        "##############################################   MULTICLASSSSSSSSS wITH RANDOM WEIGHTS - EMBEDDINGS   ##############################################       \n",
        "# 2 conv layers kernel_size=5 dense=20\n",
        "# Building the CNN Model M1\n",
        "model_m1 = Sequential()     \n",
        "model_m1.add(Embedding(vocab_size, max_pad ,input_length=max_pad))\n",
        "model_m1.add(Conv1D(128, 5, padding='same', activation='relu'))\n",
        "model_m1.add(MaxPooling1D())\n",
        "model_m1.add(Conv1D(64, 5, padding='same', activation='relu'))\n",
        "model_m1.add(MaxPooling1D())\n",
        "model_m1.add(Flatten())\n",
        "model_m1.add(Dense(20, activation='relu'))\n",
        "model_m1.add(Dense(5, activation='softmax'))\n",
        "# compile the model\n",
        "model_m1.compile(optimizer='adam', loss='sparse_categorical_crossentropy', metrics=['accuracy'])\n",
        "# summarize the model\n",
        "print(model_m1.summary())"
      ],
      "metadata": {
        "id": "PK_rtv8T0pkO",
        "colab": {
          "base_uri": "https://localhost:8080/"
        },
        "outputId": "f9196dd7-2956-4f1b-e9ea-b69a08a92e95"
      },
      "execution_count": 38,
      "outputs": [
        {
          "output_type": "stream",
          "name": "stdout",
          "text": [
            "Model: \"sequential\"\n",
            "_________________________________________________________________\n",
            " Layer (type)                Output Shape              Param #   \n",
            "=================================================================\n",
            " embedding (Embedding)       (None, 60, 60)            1263000   \n",
            "                                                                 \n",
            " conv1d (Conv1D)             (None, 60, 128)           38528     \n",
            "                                                                 \n",
            " max_pooling1d (MaxPooling1D  (None, 30, 128)          0         \n",
            " )                                                               \n",
            "                                                                 \n",
            " conv1d_1 (Conv1D)           (None, 30, 64)            41024     \n",
            "                                                                 \n",
            " max_pooling1d_1 (MaxPooling  (None, 15, 64)           0         \n",
            " 1D)                                                             \n",
            "                                                                 \n",
            " flatten (Flatten)           (None, 960)               0         \n",
            "                                                                 \n",
            " dense (Dense)               (None, 20)                19220     \n",
            "                                                                 \n",
            " dense_1 (Dense)             (None, 5)                 105       \n",
            "                                                                 \n",
            "=================================================================\n",
            "Total params: 1,361,877\n",
            "Trainable params: 1,361,877\n",
            "Non-trainable params: 0\n",
            "_________________________________________________________________\n",
            "None\n"
          ]
        }
      ]
    },
    {
      "cell_type": "code",
      "source": [
        "# Train models and Evaluate them for both binary and multi-class\n",
        "# fit the model\n",
        "####SOURCE:::  https://datascience.stackexchange.com/questions/45165/how-to-get-accuracy-f1-precision-and-recall-for-a-keras-model \n",
        "\n",
        "model_m1.fit(tensor_train, y_train, epochs=5, verbose=1,validation_data=(tensor_val, y_val))\n",
        "# evaluate the model\n",
        "accuracy = model_m1.evaluate(tensor_test, multi_test.label, verbose=1)\n",
        "print(\"Accuracy for multi test data\",accuracy[1])\n",
        "from sklearn.metrics import classification_report\n",
        "from sklearn.metrics import confusion_matrix\n",
        "import seaborn as sns\n",
        "\n",
        "y_pred = model_m1.predict(tensor_test, verbose=1)\n",
        "y_pred_bool = np.argmax(y_pred, axis=1)\n",
        "\n",
        "print(classification_report(multi_test.label, y_pred_bool))\n",
        "\n",
        "cf_matrix=confusion_matrix(multi_test.label, y_pred_bool)\n",
        "sns.heatmap(cf_matrix, annot=True,fmt=\"d\")\n"
      ],
      "metadata": {
        "id": "epoSkchEx0Jc",
        "colab": {
          "base_uri": "https://localhost:8080/",
          "height": 692
        },
        "outputId": "56f2f2c8-77ef-456b-f6e7-f9e727bf1dfd"
      },
      "execution_count": 39,
      "outputs": [
        {
          "output_type": "stream",
          "name": "stdout",
          "text": [
            "Epoch 1/5\n",
            "507/507 [==============================] - 20s 38ms/step - loss: 1.3393 - accuracy: 0.3687 - val_loss: 1.1609 - val_accuracy: 0.4817\n",
            "Epoch 2/5\n",
            "507/507 [==============================] - 19s 38ms/step - loss: 0.9747 - accuracy: 0.5647 - val_loss: 1.0928 - val_accuracy: 0.5367\n",
            "Epoch 3/5\n",
            "507/507 [==============================] - 19s 38ms/step - loss: 0.7666 - accuracy: 0.6762 - val_loss: 1.1706 - val_accuracy: 0.5261\n",
            "Epoch 4/5\n",
            "507/507 [==============================] - 19s 38ms/step - loss: 0.5804 - accuracy: 0.7672 - val_loss: 1.4680 - val_accuracy: 0.5028\n",
            "Epoch 5/5\n",
            "507/507 [==============================] - 19s 38ms/step - loss: 0.4157 - accuracy: 0.8356 - val_loss: 1.7434 - val_accuracy: 0.5078\n",
            "63/63 [==============================] - 1s 8ms/step - loss: 1.8071 - accuracy: 0.5205\n",
            "Accuracy for multi test data 0.5205000042915344\n",
            "63/63 [==============================] - 1s 7ms/step\n",
            "              precision    recall  f1-score   support\n",
            "\n",
            "           0       0.63      0.69      0.66       393\n",
            "           1       0.46      0.40      0.43       380\n",
            "           2       0.42      0.48      0.45       407\n",
            "           3       0.40      0.42      0.41       379\n",
            "           4       0.69      0.60      0.64       441\n",
            "\n",
            "    accuracy                           0.52      2000\n",
            "   macro avg       0.52      0.52      0.52      2000\n",
            "weighted avg       0.53      0.52      0.52      2000\n",
            "\n"
          ]
        },
        {
          "output_type": "execute_result",
          "data": {
            "text/plain": [
              "<matplotlib.axes._subplots.AxesSubplot at 0x7f8fa14997d0>"
            ]
          },
          "metadata": {},
          "execution_count": 39
        },
        {
          "output_type": "display_data",
          "data": {
            "text/plain": [
              "<Figure size 432x288 with 2 Axes>"
            ],
            "image/png": "[encoded data removed]"
          },
          "metadata": {
            "needs_background": "light"
          }
        }
      ]
    },
    {
      "cell_type": "code",
      "source": [
        "##############################################   MULTICLASSSSSSSSS WITH  RANDOM - EMBEDDING MATRIX   ##############################################\n",
        "# Building the CNN Model\n",
        "#### 2 conv layers kernel_size=5 ,dense =100\n",
        "model_m3 = Sequential()     \n",
        "model_m3.add(Embedding(vocab_size, max_pad ,input_length=max_pad))\n",
        "model_m3.add(Conv1D(128, 5, padding='same', activation='relu'))\n",
        "model_m3.add(MaxPooling1D())\n",
        "model_m3.add(Conv1D(64, 5, padding='same', activation='relu'))\n",
        "model_m3.add(MaxPooling1D())\n",
        "model_m3.add(Flatten())\n",
        "model_m3.add(Dense(400, activation='relu'))\n",
        "#model_m3.add(Dense(20, activation='relu'))\n",
        "model_m3.add(Dense(5, activation='softmax'))\n",
        "# compile the model\n",
        "model_m3.compile(optimizer='adam', loss='sparse_categorical_crossentropy', metrics=['accuracy'])\n",
        "# summarize the model\n",
        "print(model_m3.summary())"
      ],
      "metadata": {
        "colab": {
          "base_uri": "https://localhost:8080/"
        },
        "id": "btbumfbz2zUN",
        "outputId": "c02716c4-7d3d-4525-a75f-53ff7dfb4dac"
      },
      "execution_count": 40,
      "outputs": [
        {
          "output_type": "stream",
          "name": "stdout",
          "text": [
            "Model: \"sequential_1\"\n",
            "_________________________________________________________________\n",
            " Layer (type)                Output Shape              Param #   \n",
            "=================================================================\n",
            " embedding_1 (Embedding)     (None, 60, 60)            1263000   \n",
            "                                                                 \n",
            " conv1d_2 (Conv1D)           (None, 60, 128)           38528     \n",
            "                                                                 \n",
            " max_pooling1d_2 (MaxPooling  (None, 30, 128)          0         \n",
            " 1D)                                                             \n",
            "                                                                 \n",
            " conv1d_3 (Conv1D)           (None, 30, 64)            41024     \n",
            "                                                                 \n",
            " max_pooling1d_3 (MaxPooling  (None, 15, 64)           0         \n",
            " 1D)                                                             \n",
            "                                                                 \n",
            " flatten_1 (Flatten)         (None, 960)               0         \n",
            "                                                                 \n",
            " dense_2 (Dense)             (None, 400)               384400    \n",
            "                                                                 \n",
            " dense_3 (Dense)             (None, 5)                 2005      \n",
            "                                                                 \n",
            "=================================================================\n",
            "Total params: 1,728,957\n",
            "Trainable params: 1,728,957\n",
            "Non-trainable params: 0\n",
            "_________________________________________________________________\n",
            "None\n"
          ]
        }
      ]
    },
    {
      "cell_type": "code",
      "source": [
        "# Train models and Evaluate them for both binary and multi-class\n",
        "# fit the model\n",
        "####SOURCE:::  https://datascience.stackexchange.com/questions/45165/how-to-get-accuracy-f1-precision-and-recall-for-a-keras-model \n",
        "\n",
        "model_m3.fit(tensor_train, y_train, epochs=5, verbose=1,validation_data=(tensor_val, y_val))\n",
        "# evaluate the model\n",
        "accuracy = model_m3.evaluate(tensor_test, multi_test.label, verbose=1)\n",
        "print(\"Accuracy for multi test data\",accuracy[1])\n",
        "from sklearn.metrics import classification_report\n",
        "from sklearn.metrics import confusion_matrix\n",
        "import seaborn as sns\n",
        "\n",
        "y_pred = model_m3.predict(tensor_test, verbose=1)\n",
        "y_pred_bool = np.argmax(y_pred, axis=1)\n",
        "\n",
        "print(classification_report(multi_test.label, y_pred_bool))\n",
        "\n",
        "cf_matrix=confusion_matrix(multi_test.label, y_pred_bool)\n",
        "sns.heatmap(cf_matrix, annot=True,fmt=\"d\")\n"
      ],
      "metadata": {
        "id": "cVzIXqHYx85z",
        "colab": {
          "base_uri": "https://localhost:8080/",
          "height": 696
        },
        "outputId": "d236b345-8fca-460d-d0a7-3987d8af2c22"
      },
      "execution_count": 41,
      "outputs": [
        {
          "output_type": "stream",
          "name": "stdout",
          "text": [
            "Epoch 1/5\n",
            "507/507 [==============================] - 22s 42ms/step - loss: 1.2695 - accuracy: 0.4083 - val_loss: 1.0654 - val_accuracy: 0.5222\n",
            "Epoch 2/5\n",
            "507/507 [==============================] - 21s 41ms/step - loss: 0.9245 - accuracy: 0.5970 - val_loss: 1.0720 - val_accuracy: 0.5406\n",
            "Epoch 3/5\n",
            "507/507 [==============================] - 21s 41ms/step - loss: 0.6964 - accuracy: 0.7117 - val_loss: 1.2212 - val_accuracy: 0.5272\n",
            "Epoch 4/5\n",
            "507/507 [==============================] - 21s 41ms/step - loss: 0.4927 - accuracy: 0.8019 - val_loss: 1.6200 - val_accuracy: 0.5056\n",
            "Epoch 5/5\n",
            "507/507 [==============================] - 21s 41ms/step - loss: 0.3310 - accuracy: 0.8716 - val_loss: 1.9975 - val_accuracy: 0.5039\n",
            "63/63 [==============================] - 1s 8ms/step - loss: 1.9923 - accuracy: 0.5115\n",
            "Accuracy for multi test data 0.5115000009536743\n",
            "63/63 [==============================] - 1s 8ms/step\n",
            "              precision    recall  f1-score   support\n",
            "\n",
            "           0       0.73      0.52      0.61       393\n",
            "           1       0.43      0.57      0.49       380\n",
            "           2       0.43      0.50      0.46       407\n",
            "           3       0.40      0.39      0.40       379\n",
            "           4       0.67      0.57      0.62       441\n",
            "\n",
            "    accuracy                           0.51      2000\n",
            "   macro avg       0.53      0.51      0.51      2000\n",
            "weighted avg       0.54      0.51      0.52      2000\n",
            "\n"
          ]
        },
        {
          "output_type": "execute_result",
          "data": {
            "text/plain": [
              "<matplotlib.axes._subplots.AxesSubplot at 0x7f8fa354c550>"
            ]
          },
          "metadata": {},
          "execution_count": 41
        },
        {
          "output_type": "display_data",
          "data": {
            "text/plain": [
              "<Figure size 432x288 with 2 Axes>"
            ],
            "image/png": "[encoded data removed]"
          },
          "metadata": {
            "needs_background": "light"
          }
        }
      ]
    },
    {
      "cell_type": "markdown",
      "source": [
        "# PRE-TRAINED EMBEDDING- MULTI"
      ],
      "metadata": {
        "id": "_F6v-2A4Hw_l"
      }
    },
    {
      "cell_type": "code",
      "source": [
        "##############################################   MULTICLASSSSSSSSS WITH PRETRAINED- EMBEDDING MATRIX   ##############################################       \n",
        "\n",
        "# Building the CNN Model\n",
        "model_m2 = Sequential()\n",
        "model_m2.add(Embedding(vocab_size, 50 ,input_length=max_pad,weights=[pre_trained_embedding_matrix],trainable=True))\n",
        "model_m2.add(Conv1D(128, 3, padding='same', activation='relu'))\n",
        "model_m2.add(MaxPooling1D())\n",
        "model_m2.add(Conv1D(64, 3, padding='same', activation='relu'))\n",
        "model_m2.add(MaxPooling1D())\n",
        "model_m2.add(Flatten())\n",
        "model_m2.add(Dense(20, activation='relu'))\n",
        "model_m2.add(Dense(5, activation='softmax'))\n",
        "# compile the model\n",
        "model_m2.compile(optimizer='adam', loss='sparse_categorical_crossentropy', metrics=['accuracy'])\n",
        "# summarize the model\n",
        "print(model_m2.summary())"
      ],
      "metadata": {
        "colab": {
          "base_uri": "https://localhost:8080/"
        },
        "id": "vFnslizUvyh6",
        "outputId": "53119095-3d4a-4a3b-e26f-1df58590b7e2"
      },
      "execution_count": 42,
      "outputs": [
        {
          "output_type": "stream",
          "name": "stdout",
          "text": [
            "Model: \"sequential_2\"\n",
            "_________________________________________________________________\n",
            " Layer (type)                Output Shape              Param #   \n",
            "=================================================================\n",
            " embedding_2 (Embedding)     (None, 60, 50)            1052500   \n",
            "                                                                 \n",
            " conv1d_4 (Conv1D)           (None, 60, 128)           19328     \n",
            "                                                                 \n",
            " max_pooling1d_4 (MaxPooling  (None, 30, 128)          0         \n",
            " 1D)                                                             \n",
            "                                                                 \n",
            " conv1d_5 (Conv1D)           (None, 30, 64)            24640     \n",
            "                                                                 \n",
            " max_pooling1d_5 (MaxPooling  (None, 15, 64)           0         \n",
            " 1D)                                                             \n",
            "                                                                 \n",
            " flatten_2 (Flatten)         (None, 960)               0         \n",
            "                                                                 \n",
            " dense_4 (Dense)             (None, 20)                19220     \n",
            "                                                                 \n",
            " dense_5 (Dense)             (None, 5)                 105       \n",
            "                                                                 \n",
            "=================================================================\n",
            "Total params: 1,115,793\n",
            "Trainable params: 1,115,793\n",
            "Non-trainable params: 0\n",
            "_________________________________________________________________\n",
            "None\n"
          ]
        }
      ]
    },
    {
      "cell_type": "code",
      "source": [
        "# Train models and Evaluate them for both binary and multi-class\n",
        "# fit the model\n",
        "####SOURCE:::  https://datascience.stackexchange.com/questions/45165/how-to-get-accuracy-f1-precision-and-recall-for-a-keras-model \n",
        "\n",
        "model_m2.fit(tensor_train, y_train, epochs=5, verbose=1,validation_data=(tensor_val, y_val))\n",
        "# evaluate the model\n",
        "accuracy = model_m2.evaluate(tensor_test, multi_test.label, verbose=1)\n",
        "print(\"Accuracy for multi test data\",accuracy[1])\n",
        "from sklearn.metrics import classification_report\n",
        "from sklearn.metrics import confusion_matrix\n",
        "import seaborn as sns\n",
        "\n",
        "y_pred = model_m2.predict(tensor_test, verbose=1)\n",
        "y_pred_bool = np.argmax(y_pred, axis=1)\n",
        "\n",
        "print(classification_report(multi_test.label, y_pred_bool))\n",
        "\n",
        "cf_matrix=confusion_matrix(multi_test.label, y_pred_bool)\n",
        "sns.heatmap(cf_matrix, annot=True,fmt=\"d\")\n"
      ],
      "metadata": {
        "id": "KYHzCpIkx-3S",
        "colab": {
          "base_uri": "https://localhost:8080/",
          "height": 692
        },
        "outputId": "b3df8822-a44c-43b8-86c4-5da93e9163d7"
      },
      "execution_count": 43,
      "outputs": [
        {
          "output_type": "stream",
          "name": "stdout",
          "text": [
            "Epoch 1/5\n",
            "507/507 [==============================] - 15s 29ms/step - loss: 1.3850 - accuracy: 0.3599 - val_loss: 1.2075 - val_accuracy: 0.4483\n",
            "Epoch 2/5\n",
            "507/507 [==============================] - 15s 29ms/step - loss: 1.1309 - accuracy: 0.4840 - val_loss: 1.1525 - val_accuracy: 0.4761\n",
            "Epoch 3/5\n",
            "507/507 [==============================] - 15s 29ms/step - loss: 0.9908 - accuracy: 0.5581 - val_loss: 1.1248 - val_accuracy: 0.5061\n",
            "Epoch 4/5\n",
            "507/507 [==============================] - 14s 28ms/step - loss: 0.8577 - accuracy: 0.6259 - val_loss: 1.1620 - val_accuracy: 0.5111\n",
            "Epoch 5/5\n",
            "507/507 [==============================] - 14s 29ms/step - loss: 0.7283 - accuracy: 0.6927 - val_loss: 1.3165 - val_accuracy: 0.4911\n",
            "63/63 [==============================] - 0s 6ms/step - loss: 1.3152 - accuracy: 0.5045\n",
            "Accuracy for multi test data 0.5044999718666077\n",
            "63/63 [==============================] - 0s 6ms/step\n",
            "              precision    recall  f1-score   support\n",
            "\n",
            "           0       0.72      0.59      0.65       393\n",
            "           1       0.46      0.42      0.44       380\n",
            "           2       0.39      0.36      0.38       407\n",
            "           3       0.36      0.40      0.38       379\n",
            "           4       0.60      0.72      0.65       441\n",
            "\n",
            "    accuracy                           0.50      2000\n",
            "   macro avg       0.51      0.50      0.50      2000\n",
            "weighted avg       0.51      0.50      0.50      2000\n",
            "\n"
          ]
        },
        {
          "output_type": "execute_result",
          "data": {
            "text/plain": [
              "<matplotlib.axes._subplots.AxesSubplot at 0x7f8fa10b4990>"
            ]
          },
          "metadata": {},
          "execution_count": 43
        },
        {
          "output_type": "display_data",
          "data": {
            "text/plain": [
              "<Figure size 432x288 with 2 Axes>"
            ],
            "image/png": "[encoded data removed]"
          },
          "metadata": {
            "needs_background": "light"
          }
        }
      ]
    },
    {
      "cell_type": "code",
      "source": [
        "##############################################   MULTICLASSSSSSSSS WITH PRETRAINED- EMBEDDING MATRIX   ##############################################       \n",
        "\n",
        "# Building the CNN Model\n",
        "model_m5 = Sequential()\n",
        "model_m5.add(Embedding(vocab_size, 50 ,input_length=max_pad,weights=[pre_trained_embedding_matrix],trainable=True))\n",
        "model_m5.add(Conv1D(128, 9, padding='same', activation='relu'))\n",
        "model_m5.add(MaxPooling1D())\n",
        "model_m5.add(Conv1D(64, 9, padding='same', activation='relu'))\n",
        "model_m5.add(MaxPooling1D())\n",
        "model_m5.add(Flatten())\n",
        "model_m5.add(Dense(20, activation='relu'))\n",
        "model_m5.add(Dense(5, activation='softmax'))\n",
        "# compile the model\n",
        "model_m5.compile(optimizer='adam', loss='sparse_categorical_crossentropy', metrics=['accuracy'])\n",
        "# summarize the model\n",
        "print(model_m5.summary())"
      ],
      "metadata": {
        "colab": {
          "base_uri": "https://localhost:8080/"
        },
        "id": "J81xoQr-2N-S",
        "outputId": "835baa6a-f610-4f39-a72a-52a249063a0e"
      },
      "execution_count": 44,
      "outputs": [
        {
          "output_type": "stream",
          "name": "stdout",
          "text": [
            "Model: \"sequential_3\"\n",
            "_________________________________________________________________\n",
            " Layer (type)                Output Shape              Param #   \n",
            "=================================================================\n",
            " embedding_3 (Embedding)     (None, 60, 50)            1052500   \n",
            "                                                                 \n",
            " conv1d_6 (Conv1D)           (None, 60, 128)           57728     \n",
            "                                                                 \n",
            " max_pooling1d_6 (MaxPooling  (None, 30, 128)          0         \n",
            " 1D)                                                             \n",
            "                                                                 \n",
            " conv1d_7 (Conv1D)           (None, 30, 64)            73792     \n",
            "                                                                 \n",
            " max_pooling1d_7 (MaxPooling  (None, 15, 64)           0         \n",
            " 1D)                                                             \n",
            "                                                                 \n",
            " flatten_3 (Flatten)         (None, 960)               0         \n",
            "                                                                 \n",
            " dense_6 (Dense)             (None, 20)                19220     \n",
            "                                                                 \n",
            " dense_7 (Dense)             (None, 5)                 105       \n",
            "                                                                 \n",
            "=================================================================\n",
            "Total params: 1,203,345\n",
            "Trainable params: 1,203,345\n",
            "Non-trainable params: 0\n",
            "_________________________________________________________________\n",
            "None\n"
          ]
        }
      ]
    },
    {
      "cell_type": "code",
      "source": [
        "# Train models and Evaluate them for both binary and multi-class\n",
        "# fit the model\n",
        "####SOURCE:::  https://datascience.stackexchange.com/questions/45165/how-to-get-accuracy-f1-precision-and-recall-for-a-keras-model \n",
        "\n",
        "model_m5.fit(tensor_train, y_train, epochs=5, verbose=1,validation_data=(tensor_val, y_val))\n",
        "# evaluate the model\n",
        "accuracy = model_m5.evaluate(tensor_test, multi_test.label, verbose=1)\n",
        "print(\"Accuracy for multi test data\",accuracy[1])\n",
        "from sklearn.metrics import classification_report\n",
        "from sklearn.metrics import confusion_matrix\n",
        "import seaborn as sns\n",
        "\n",
        "y_pred = model_m5.predict(tensor_test, verbose=1)\n",
        "y_pred_bool = np.argmax(y_pred, axis=1)\n",
        "\n",
        "print(classification_report(multi_test.label, y_pred_bool))\n",
        "\n",
        "cf_matrix=confusion_matrix(multi_test.label, y_pred_bool)\n",
        "sns.heatmap(cf_matrix, annot=True,fmt=\"d\")\n"
      ],
      "metadata": {
        "colab": {
          "base_uri": "https://localhost:8080/",
          "height": 692
        },
        "id": "4Gd2Ud7S2Wtf",
        "outputId": "c612e4f7-3db2-47f3-b565-bbfbd075d4a3"
      },
      "execution_count": 45,
      "outputs": [
        {
          "output_type": "stream",
          "name": "stdout",
          "text": [
            "Epoch 1/5\n",
            "507/507 [==============================] - 23s 45ms/step - loss: 1.4072 - accuracy: 0.3499 - val_loss: 1.2228 - val_accuracy: 0.4339\n",
            "Epoch 2/5\n",
            "507/507 [==============================] - 23s 45ms/step - loss: 1.1109 - accuracy: 0.5069 - val_loss: 1.1006 - val_accuracy: 0.5167\n",
            "Epoch 3/5\n",
            "507/507 [==============================] - 23s 44ms/step - loss: 0.9364 - accuracy: 0.5886 - val_loss: 1.0914 - val_accuracy: 0.5178\n",
            "Epoch 4/5\n",
            "507/507 [==============================] - 23s 44ms/step - loss: 0.7598 - accuracy: 0.6738 - val_loss: 1.2185 - val_accuracy: 0.5172\n",
            "Epoch 5/5\n",
            "507/507 [==============================] - 22s 44ms/step - loss: 0.5504 - accuracy: 0.7792 - val_loss: 1.5007 - val_accuracy: 0.4767\n",
            "63/63 [==============================] - 1s 10ms/step - loss: 1.5316 - accuracy: 0.4910\n",
            "Accuracy for multi test data 0.4909999966621399\n",
            "63/63 [==============================] - 1s 10ms/step\n",
            "              precision    recall  f1-score   support\n",
            "\n",
            "           0       0.73      0.59      0.65       393\n",
            "           1       0.40      0.57      0.47       380\n",
            "           2       0.40      0.52      0.45       407\n",
            "           3       0.39      0.46      0.42       379\n",
            "           4       0.87      0.34      0.48       441\n",
            "\n",
            "    accuracy                           0.49      2000\n",
            "   macro avg       0.56      0.49      0.50      2000\n",
            "weighted avg       0.57      0.49      0.50      2000\n",
            "\n"
          ]
        },
        {
          "output_type": "execute_result",
          "data": {
            "text/plain": [
              "<matplotlib.axes._subplots.AxesSubplot at 0x7f8fa0d9ea10>"
            ]
          },
          "metadata": {},
          "execution_count": 45
        },
        {
          "output_type": "display_data",
          "data": {
            "text/plain": [
              "<Figure size 432x288 with 2 Axes>"
            ],
            "image/png": "[encoded data removed]"
          },
          "metadata": {
            "needs_background": "light"
          }
        }
      ]
    },
    {
      "cell_type": "markdown",
      "source": [
        "# TRAINED EMBEDDING - MULTI "
      ],
      "metadata": {
        "id": "5qQuywfgH1_m"
      }
    },
    {
      "cell_type": "code",
      "source": [
        "##############################################   MULTICLASSSSSSSSS WITH  NOT-RANDOM - EMBEDDING MATRIX   ##############################################\n",
        "# Building the CNN Model\n",
        "#### 3 conv layers kernel_size=3\n",
        "model_m4 = Sequential()     \n",
        "model_m4.add(Embedding(vocab_size, max_pad ,input_length=max_pad,weights=[trained_embedding_matrix],trainable=True))\n",
        "model_m4.add(Conv1D(256, 7, padding='same', activation='relu'))\n",
        "model_m4.add(MaxPooling1D())\n",
        "model_m4.add(Conv1D(128, 7, padding='same', activation='relu'))\n",
        "model_m4.add(MaxPooling1D())\n",
        "model_m4.add(Conv1D(64, 7, padding='same', activation='relu'))\n",
        "model_m4.add(MaxPooling1D())\n",
        "model_m4.add(Flatten())\n",
        "model_m4.add(Dense(20, activation='relu'))\n",
        "model_m4.add(Dense(5, activation='softmax'))\n",
        "# compile the model\n",
        "model_m4.compile(optimizer='adam', loss='sparse_categorical_crossentropy', metrics=['accuracy'])\n",
        "# summarize the model\n",
        "print(model_m4.summary())"
      ],
      "metadata": {
        "colab": {
          "base_uri": "https://localhost:8080/"
        },
        "id": "z4tg2k-N21da",
        "outputId": "434224bf-c347-4363-f109-71bddf324d86"
      },
      "execution_count": 46,
      "outputs": [
        {
          "output_type": "stream",
          "name": "stdout",
          "text": [
            "Model: \"sequential_4\"\n",
            "_________________________________________________________________\n",
            " Layer (type)                Output Shape              Param #   \n",
            "=================================================================\n",
            " embedding_4 (Embedding)     (None, 60, 60)            1263000   \n",
            "                                                                 \n",
            " conv1d_8 (Conv1D)           (None, 60, 256)           107776    \n",
            "                                                                 \n",
            " max_pooling1d_8 (MaxPooling  (None, 30, 256)          0         \n",
            " 1D)                                                             \n",
            "                                                                 \n",
            " conv1d_9 (Conv1D)           (None, 30, 128)           229504    \n",
            "                                                                 \n",
            " max_pooling1d_9 (MaxPooling  (None, 15, 128)          0         \n",
            " 1D)                                                             \n",
            "                                                                 \n",
            " conv1d_10 (Conv1D)          (None, 15, 64)            57408     \n",
            "                                                                 \n",
            " max_pooling1d_10 (MaxPoolin  (None, 7, 64)            0         \n",
            " g1D)                                                            \n",
            "                                                                 \n",
            " flatten_4 (Flatten)         (None, 448)               0         \n",
            "                                                                 \n",
            " dense_8 (Dense)             (None, 20)                8980      \n",
            "                                                                 \n",
            " dense_9 (Dense)             (None, 5)                 105       \n",
            "                                                                 \n",
            "=================================================================\n",
            "Total params: 1,666,773\n",
            "Trainable params: 1,666,773\n",
            "Non-trainable params: 0\n",
            "_________________________________________________________________\n",
            "None\n"
          ]
        }
      ]
    },
    {
      "cell_type": "code",
      "source": [
        "# Train models and Evaluate them for both binary and multi-class\n",
        "# fit the model\n",
        "####SOURCE:::  https://datascience.stackexchange.com/questions/45165/how-to-get-accuracy-f1-precision-and-recall-for-a-keras-model \n",
        "\n",
        "model_m4.fit(tensor_train, y_train, epochs=5, verbose=1,validation_data=(tensor_val, y_val))\n",
        "# evaluate the model\n",
        "accuracy = model_m4.evaluate(tensor_test, multi_test.label, verbose=1)\n",
        "print(\"Accuracy for multi test data\",accuracy[1])\n",
        "from sklearn.metrics import classification_report\n",
        "from sklearn.metrics import confusion_matrix\n",
        "import seaborn as sns\n",
        "\n",
        "y_pred = model_m4.predict(tensor_test, verbose=1)\n",
        "y_pred_bool = np.argmax(y_pred, axis=1)\n",
        "\n",
        "print(classification_report(multi_test.label, y_pred_bool))\n",
        "\n",
        "cf_matrix=confusion_matrix(multi_test.label, y_pred_bool)\n",
        "sns.heatmap(cf_matrix, annot=True,fmt=\"d\")\n"
      ],
      "metadata": {
        "colab": {
          "base_uri": "https://localhost:8080/",
          "height": 692
        },
        "id": "TpNNnjPdqewg",
        "outputId": "3f0319ef-40c1-43fc-83c8-641d052e245d"
      },
      "execution_count": 47,
      "outputs": [
        {
          "output_type": "stream",
          "name": "stdout",
          "text": [
            "Epoch 1/5\n",
            "507/507 [==============================] - 55s 107ms/step - loss: 1.2907 - accuracy: 0.4233 - val_loss: 1.1291 - val_accuracy: 0.4972\n",
            "Epoch 2/5\n",
            "507/507 [==============================] - 54s 107ms/step - loss: 1.0716 - accuracy: 0.5281 - val_loss: 1.0745 - val_accuracy: 0.5317\n",
            "Epoch 3/5\n",
            "507/507 [==============================] - 54s 106ms/step - loss: 0.9466 - accuracy: 0.5871 - val_loss: 1.0948 - val_accuracy: 0.5289\n",
            "Epoch 4/5\n",
            "507/507 [==============================] - 57s 112ms/step - loss: 0.8116 - accuracy: 0.6501 - val_loss: 1.1662 - val_accuracy: 0.5133\n",
            "Epoch 5/5\n",
            "507/507 [==============================] - 63s 124ms/step - loss: 0.6552 - accuracy: 0.7255 - val_loss: 1.2422 - val_accuracy: 0.5306\n",
            "63/63 [==============================] - 2s 28ms/step - loss: 1.2597 - accuracy: 0.5385\n",
            "Accuracy for multi test data 0.5385000109672546\n",
            "63/63 [==============================] - 2s 26ms/step\n",
            "              precision    recall  f1-score   support\n",
            "\n",
            "           0       0.68      0.74      0.71       393\n",
            "           1       0.44      0.43      0.44       380\n",
            "           2       0.42      0.51      0.46       407\n",
            "           3       0.45      0.49      0.47       379\n",
            "           4       0.77      0.52      0.62       441\n",
            "\n",
            "    accuracy                           0.54      2000\n",
            "   macro avg       0.55      0.54      0.54      2000\n",
            "weighted avg       0.56      0.54      0.54      2000\n",
            "\n"
          ]
        },
        {
          "output_type": "execute_result",
          "data": {
            "text/plain": [
              "<matplotlib.axes._subplots.AxesSubplot at 0x7f8f9fec8690>"
            ]
          },
          "metadata": {},
          "execution_count": 47
        },
        {
          "output_type": "display_data",
          "data": {
            "text/plain": [
              "<Figure size 432x288 with 2 Axes>"
            ],
            "image/png": "[encoded data removed]"
          },
          "metadata": {
            "needs_background": "light"
          }
        }
      ]
    },
    {
      "cell_type": "code",
      "source": [
        "##############################################   MULTICLASSSSSSSSS WITH  NOT-RANDOM - EMBEDDING MATRIX   ##############################################\n",
        "# Building the CNN Model\n",
        "#### 3 conv layers kernel_size=3\n",
        "model_m4 = Sequential()     \n",
        "model_m4.add(Embedding(vocab_size, max_pad ,input_length=max_pad,weights=[trained_embedding_matrix],trainable=True))\n",
        "model_m4.add(Conv1D(64, 3, padding='same', activation='relu'))\n",
        "model_m4.add(MaxPooling1D())\n",
        "#model_m4.add(Conv1D(128, 7, padding='same', activation='relu'))\n",
        "#model_m4.add(MaxPooling1D())\n",
        "#model_m4.add(Conv1D(64, 7, padding='same', activation='relu'))\n",
        "#model_m4.add(MaxPooling1D())\n",
        "model_m4.add(Flatten())\n",
        "model_m4.add(Dense(20, activation='relu'))\n",
        "model_m4.add(Dense(5, activation='softmax'))\n",
        "# compile the model\n",
        "model_m4.compile(optimizer='adam', loss='sparse_categorical_crossentropy', metrics=['accuracy'])\n",
        "# summarize the model\n",
        "print(model_m4.summary())"
      ],
      "metadata": {
        "colab": {
          "base_uri": "https://localhost:8080/"
        },
        "id": "4jcIUCCvowHe",
        "outputId": "0b631557-af28-46cf-b05d-b77492f55503"
      },
      "execution_count": 53,
      "outputs": [
        {
          "output_type": "stream",
          "name": "stdout",
          "text": [
            "Model: \"sequential_7\"\n",
            "_________________________________________________________________\n",
            " Layer (type)                Output Shape              Param #   \n",
            "=================================================================\n",
            " embedding_7 (Embedding)     (None, 60, 60)            1263000   \n",
            "                                                                 \n",
            " conv1d_13 (Conv1D)          (None, 60, 64)            11584     \n",
            "                                                                 \n",
            " max_pooling1d_13 (MaxPoolin  (None, 30, 64)           0         \n",
            " g1D)                                                            \n",
            "                                                                 \n",
            " flatten_7 (Flatten)         (None, 1920)              0         \n",
            "                                                                 \n",
            " dense_14 (Dense)            (None, 20)                38420     \n",
            "                                                                 \n",
            " dense_15 (Dense)            (None, 5)                 105       \n",
            "                                                                 \n",
            "=================================================================\n",
            "Total params: 1,313,109\n",
            "Trainable params: 1,313,109\n",
            "Non-trainable params: 0\n",
            "_________________________________________________________________\n",
            "None\n"
          ]
        }
      ]
    },
    {
      "cell_type": "code",
      "source": [
        "# fit the model\n",
        "####SOURCE:::  https://datascience.stackexchange.com/questions/45165/how-to-get-accuracy-f1-precision-and-recall-for-a-keras-model \n",
        "model_m4.fit(tensor_train, y_train, epochs=5, verbose=1,validation_data=(tensor_val, y_val))\n",
        "# evaluate the model\n",
        "accuracy = model_m4.evaluate(tensor_test, multi_test.label, verbose=1)\n",
        "print(\"Accuracy for multi test data\",accuracy[1])\n",
        "from sklearn.metrics import classification_report\n",
        "from sklearn.metrics import confusion_matrix\n",
        "import seaborn as sns\n",
        "\n",
        "y_pred = model_m4.predict(tensor_test, verbose=1)\n",
        "y_pred_bool = np.argmax(y_pred, axis=1)\n",
        "\n",
        "print(classification_report(multi_test.label, y_pred_bool))\n",
        "\n",
        "cf_matrix=confusion_matrix(multi_test.label, y_pred_bool)\n",
        "sns.heatmap(cf_matrix, annot=True,fmt=\"d\")"
      ],
      "metadata": {
        "colab": {
          "base_uri": "https://localhost:8080/",
          "height": 692
        },
        "id": "SHvpWruTo3dS",
        "outputId": "3d459c97-f250-4a90-9cd0-3d4355c99194"
      },
      "execution_count": 54,
      "outputs": [
        {
          "output_type": "stream",
          "name": "stdout",
          "text": [
            "Epoch 1/5\n",
            "507/507 [==============================] - 25s 47ms/step - loss: 1.3258 - accuracy: 0.3952 - val_loss: 1.1849 - val_accuracy: 0.4817\n",
            "Epoch 2/5\n",
            "507/507 [==============================] - 21s 42ms/step - loss: 1.0763 - accuracy: 0.5248 - val_loss: 1.1149 - val_accuracy: 0.5239\n",
            "Epoch 3/5\n",
            "507/507 [==============================] - 21s 42ms/step - loss: 0.9403 - accuracy: 0.5893 - val_loss: 1.1006 - val_accuracy: 0.5389\n",
            "Epoch 4/5\n",
            "507/507 [==============================] - 18s 36ms/step - loss: 0.8112 - accuracy: 0.6546 - val_loss: 1.1548 - val_accuracy: 0.5228\n",
            "Epoch 5/5\n",
            "507/507 [==============================] - 14s 28ms/step - loss: 0.6685 - accuracy: 0.7272 - val_loss: 1.2433 - val_accuracy: 0.5022\n",
            "63/63 [==============================] - 0s 6ms/step - loss: 1.2492 - accuracy: 0.5050\n",
            "Accuracy for multi test data 0.5049999952316284\n",
            "63/63 [==============================] - 0s 5ms/step\n",
            "              precision    recall  f1-score   support\n",
            "\n",
            "           0       0.70      0.61      0.65       393\n",
            "           1       0.42      0.53      0.47       380\n",
            "           2       0.44      0.39      0.41       407\n",
            "           3       0.38      0.52      0.44       379\n",
            "           4       0.71      0.49      0.58       441\n",
            "\n",
            "    accuracy                           0.51      2000\n",
            "   macro avg       0.53      0.51      0.51      2000\n",
            "weighted avg       0.54      0.51      0.51      2000\n",
            "\n"
          ]
        },
        {
          "output_type": "execute_result",
          "data": {
            "text/plain": [
              "<matplotlib.axes._subplots.AxesSubplot at 0x7f8f96e84290>"
            ]
          },
          "metadata": {},
          "execution_count": 54
        },
        {
          "output_type": "display_data",
          "data": {
            "text/plain": [
              "<Figure size 432x288 with 2 Axes>"
            ],
            "image/png": "[encoded data removed]"
          },
          "metadata": {
            "needs_background": "light"
          }
        }
      ]
    },
    {
      "cell_type": "markdown",
      "source": [
        "# **My Report**\n",
        "##Preprocessing:\n",
        "I did preprocessing to both train and test data by performing first lower casing then tokenized each word and removed stop words from tokenized list, I also got rid of punctuations since they dont hold a meaning. Finally I did stemming using Porter Stemmer since it helps us to have minimum stem words such as converting Connects, connecting to connect.\n",
        "\n",
        "Our training data has 18000 instances and test data has 2000.\n",
        "##Dataset preparation: \n",
        "I used pandas replace function to map certain label values to new ones. \n",
        "Ended up with binary data which has 0-1 as labels and multi-data which has 0,1,2,3,4 as labels. The class distributions for each dataset as follows: \n",
        "\n",
        "BINARY TRAIN:\n",
        "*  0   ->  7227\n",
        "*  1   ->  7180\n",
        "\n",
        "BINARY TEST:\n",
        "* 0 -> 820\n",
        "* 1 -> 772\n",
        "\n",
        "MULTI TRAIN:\n",
        "* 3 -> 3621\n",
        "* 1 -> 3620\n",
        "* 0 -> 3607\n",
        "* 2 -> 3593\n",
        "* 4 -> 3559\n",
        "\n",
        "MULTI TEST:\n",
        "* 4 -> 441\n",
        "* 2 -> 407\n",
        "* 0 -> 393\n",
        "* 1 -> 380\n",
        "* 3 -> 370\n",
        "\n",
        "\n",
        "\n",
        "\n",
        "\n",
        "\n",
        "\n",
        "##Non-neural models: \n",
        "###Naive bayes:\n",
        "\n",
        "For term weighting we used Tfidf vectorizer from sklearn, which is required to represent words as numeric values to show their dominancy (term frequency) in the dataset. DenseTransformer will convert this into a matrix. After the pipeline I created a gridsearch parameter space which consists; ngram numbers and min_df for tfidf vectorizer. N-gram range options are unigrams, unigrams and bigrams, unigrams and bigrams and trigrams. \n",
        "\n",
        "We are also given a condition “For a term to be valid it should exist in at least N documents.” therefore I try min_df as 100,500,1000. Since we used 5 folds in grid seach we have 5 splits in total each having 9 (3x3) possibilities in NB case. I report the max and min of the combinations. After finding the best parameters I fit the data into model by using those and predict the test data. \n",
        "Lastly I report accuracy and f1 score as 0.87 for binary and 0.49 , 0.47 for multi-class.Best paramters for both binary and multi-class data are n_gram=(1,2) and min_df=100.\n",
        "The confusion matrix also proves that results are good by looking at the diagonal. Same steps are applied in both binary and multi-class data.\n",
        "\n",
        "###Logistic Regression: \n",
        "\n",
        "For term weighting we used Tfidf vectorizer and Dense transformer again. Parameter space has 1 more element which is l1 ratio, which sets penalty according to the ratio i.e it can be combination of l1,l2 if given 0.5. \n",
        "\n",
        "In logistic regression component we have some set parameters; random_state= 22 penalty= elasticnet and solver=saga . In order to use l1_ratio in grid search we need to set penalty as elasticnet and to use elasticnet option we need to set solver as saga according to sklearn.\n",
        "\n",
        "Rest is applied same as NB. The F1 and accuracy scores for binary data are 0.91, 0.9 and the best hyper-parameter combination is found to be l1_ratio=0.5 (combination of l1 & l2) ,min_df=100 and n_gram=(1,2).\n",
        "And for multi-class f1 and acc score is 0.55 with best parameters being n_gram=(1,3), min_df=100 and l1_ratio=1.0\n",
        "\n",
        "\n",
        "###Analysis:\n",
        "LR performed better scores in both datasets than NB, while NB had a much smaller time complexity. This is due to lr being a discriminative model whereas NB is a generative one. In discriminative models, correlation is also taken into consideration however in NB all features are tought to be independent. However, in our dataset our features are corraleted with labels. So I assume if we were to have a bigger dataset example, LR would outperform NB more significantly.\n",
        "\n",
        "##CNN:\n",
        "After splitting the training data as train,val we have 12966 train, 1441 val for binary dataset (we have less data since we got rid of class 3). And 16200 training and 1800 for val in multi-class.\n",
        "\n",
        "Again to represent words as numbers this time we create word embedding matrices using Word2vec and also a pre-trained matrix.  My trained from scratch model_gensim has a size of 60 since that is my padding size. Model gensim returns a number for each word, and similar words has similar numeric values(like first,second). For padding I choose this value which is close to the average of token numbers of instances in the data. The reason for not using max is that outliers may be misleading. Before padding the dataset, I use keras tokenizer and create train,val,test tensors by fitting the dataset into tokenizer and convert them to numeric values by text to sequence. \n",
        "\n",
        "\n",
        "Then , I create 2 embedding matrices ; trained from scratch matrix has the size of  [vocabulary_size(21050),60(padding)] whereas pre-trained matrix has the size [vocabulary_size(21050),50(glove-twitter-50)]. I implement the for loops using try-catch blocks becuase not every word in my tokenizer exist in model_gensim or glove-twitter-50. Not existing words remain as 0. I use this embedding matrices later for the embedding layer weights.\n",
        "\n",
        "To create a CNN model I used keras sequantial which consists an  embedding layer , conv1d, maxpooling and dense layers. I trained all models for 5 epochs since it is more than enough because training accuracy reaches very high at 5th epoch, and default batch size 32 is used.  \n",
        "##BINARY dataset: \n",
        "In all models for binary training, I use binary_crossentropy as loss and set my last layer as  output size=1 and act function=sigmoid (this can also be softmax with 2 classes). After predicting the test data, I set a threshold of 0.5 and map (x>0.5) to 1 and (x< 0.5) to 0 so that I can have a confusion matrix and calculate F1 scores etc. To calculate F1, precision, recall and accuracy I use sklearn's classification_report for convenience.\n",
        "\n",
        "###RANDOM EMBEDDING:\n",
        "-> conv1d 128, conv1d 32 with 5 kernel size ,dense 20 with random embedding weights :\n",
        "accuracy is 0.88\n",
        "\n",
        "-> conv1d 256, conv1d 128, conv1d 64, with 5 kernel size ,dense 20 with random embedding weights :\n",
        "accuracy is 0.88\n",
        "\n",
        "###PRETRAINED EMBEDDING: \n",
        "-> conv1d 128, conv1d 32 with 5 kernel size with pretrained glove embedding weights :\n",
        "accuracy is 0.88\n",
        "\n",
        "-> conv1d 256, conv1d 128, conv1d 32 with 3 kernel size with pretrained glove embedding weights :\n",
        "accuracy is 0.89\n",
        "\n",
        "###TRAINED EMBEDDING:\n",
        "-> conv1d 128, conv1d 32 with 5 kernel size  dense 20 with trained embedding weights :\n",
        "accuracy is 0.90\n",
        "\n",
        "-> conv1d 256, conv1d 128, conv1d 64 ,conv1d 32 with 7 kernel size dense 400 - 250-20 with trained embedding weights (trained for 8 epochs) :\n",
        "accuracy is 0.89\n",
        "\n",
        "###Analysis:\n",
        "\n",
        "For the first models of each embedding combination we can see that all of them have the similar accuracy scores, best is obtained with trained weights and random weights performed the lowest. I think this is due to binary classification being an easy task and having random weights or pre-trained weights does not affect model performance as expected.However since pre-trained and trained weights has been trained with some corpus and have ready weights we expect to see higher accuracy. And trained weights has higher accuracy than pre-trained this may be due to using glove-twitter weights the content of the corpus may not be as suitable as the trained embedding. \n",
        "\n",
        "In random embedding setting, adding 2 more conv layer did not change the accuracy, however adding 1 more conv layer and decreasing kernel size increased accuracy by 1% in pre-trained setting. I also tried to see if training the model more epochs would help, we can see in trained embedding setting in total there are 3 dense layers and 4 conv layers w,th kernel size 7 I tried training for 8 epochs but since model achieves enough training accuracy at epoch 5 it did not change the result visibly.\n",
        "\n",
        "\n",
        "##MULTI :\n",
        "In all models for multi training, I use sparse_crossentropy as loss and set my last layer as  output size=5 (there are 5 classes) and act function=softmax.After predicting the test data, I use np.argmax to obtain the index number of the highest probability and map it as the labels of test data, so that I can have a confusion matrix and calculate F1 scores etc. To calculate F1, precision, recall and accuracy I use sklearn's classification_report for convenience. \n",
        "\n",
        "###RANDOM EMBEDDING:\n",
        "\n",
        "-> conv1d 128, conv1d 64 with 5 kernel size ,dense with 20 output_size  with random embedding weights :\n",
        "accuracy is 0.52\n",
        "\n",
        "-> conv1d 128, conv1d 64 with 5 kernel size ,dense with 400 output_size  with random embedding weights :\n",
        "accuracy is 0.51\n",
        "\n",
        "\n",
        "\n",
        "###PRE-TRAINED EMBEDDING:\n",
        "\n",
        "-> conv1d 128, conv1d 64 with 3 kernel size ,dense with 20 output_size  with pretrained embedding weights :\n",
        "accuracy is 0.5\n",
        "\n",
        "-> conv1d 128, conv1d 64 with 9 kernel size ,dense with 20 output_size  with pretrained embedding weights :\n",
        "accuracy is 0.49 f1 is 0.5\n",
        "\n",
        "\n",
        "\n",
        "\n",
        "###TRAINED EMBEDDING:\n",
        "\n",
        "->  conv1d 256, conv1d 128, conv1d 64 ,with 7 kernel size ,dense with 20 output_size  with trained embedding weights :\n",
        "accuracy is 0.54\n",
        "\n",
        "\n",
        "->  conv1d 64 with 3 kernel size ,dense with 20 output_size  with trained embedding weights :\n",
        "accuracy is 0.51\n",
        "\n",
        "\n",
        "\n",
        "###Analysis:\n",
        "In each embedding option I tried different hyper-parameter tuning cases. The one with the significant difference is number of conv layers. As it is seen in Trained from scratch embedding examples, I tried 3 vs 1 conv layer with differen kernel sizes and accuracy only decreased by 3% in 1 layered model. In pre-trained embedding we can observe very significant decrease in accuracy when we change kernel size from 3 to 9 , this of course gives model more parameters to tune but does not necessarily improves performance. And for the random embeddings I changed the units parameter of the dense layer, having more parameters did not increase the accuracy instead lowered it by 1%. Having a more complex model may result in overfitting the test data so we need to optimize our parameter number. Overall we observed the best metrics in Trained setting which is obviously expected since we trained the embedding with our domain. In multiclass, we also observe that model is very good at predicting class 0 and 4 which are the two very negative and positive classes and other classes the F1 score is generally around 40% whereas we see 0 and 4 labels around 60%.\n",
        "\n",
        "\n",
        "\n",
        "##SOURCES I used for word embedding and cnn layers:\n",
        " https://ml2021.medium.com/multi-class-text-classification-using-cnn-and-word2vec-b17daff45260\n",
        "\n",
        " https://stackabuse.com/python-for-nlp-multi-label-text-classification-with-keras/\n",
        "\n",
        " https://machinelearningmastery.com/use-word-embedding-layers-deep-learning-keras/\n",
        "\n",
        " https://medium.com/voice-tech-podcast/text-classification-using-cnn-9ade8155dfb9\n",
        "\n",
        " https://blog.keras.io/using-pre-trained-word-embeddings-in-a-keras-model.html\n",
        "\n",
        "https://datascience.stackexchange.com/questions/45165/how-to-get-accuracy-f1-precision-and-recall-for-a-keras-model  \n",
        "\n",
        "\n"
      ],
      "metadata": {
        "id": "oCT-Zt3ZMocG"
      }
    },
    {
      "cell_type": "code",
      "source": [
        "%%shell\n",
        "jupyter nbconvert --to html /content/445_Project_1_Notebook.ipynb"
      ],
      "metadata": {
        "id": "3zwqO9ICALPx",
        "colab": {
          "base_uri": "https://localhost:8080/"
        },
        "outputId": "f3d37dbf-802c-4445-82ce-6494f18ee493"
      },
      "execution_count": 57,
      "outputs": [
        {
          "output_type": "stream",
          "name": "stdout",
          "text": [
            "[NbConvertApp] Converting notebook /content/445_Project_1_Notebook.ipynb to html\n",
            "[NbConvertApp] Writing 1365617 bytes to /content/445_Project_1_Notebook.html\n"
          ]
        },
        {
          "output_type": "execute_result",
          "data": {
            "text/plain": [
              ""
            ]
          },
          "metadata": {},
          "execution_count": 57
        }
      ]
    },
    {
      "cell_type": "code",
      "source": [
        ""
      ],
      "metadata": {
        "id": "RMev732fYExf"
      },
      "execution_count": null,
      "outputs": []
    }
  ]
}